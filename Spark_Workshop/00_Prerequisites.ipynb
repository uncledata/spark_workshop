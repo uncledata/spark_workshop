{
 "cells": [
  {
   "cell_type": "code",
   "execution_count": 5,
   "id": "f5d2d612-d866-4091-9f8d-871fe772d7f6",
   "metadata": {},
   "outputs": [],
   "source": [
    "import requests\n",
    "\n",
    "dates = [\"2022-01\", \"2022-02\"]\n",
    "for date in dates:\n",
    "    url = f\"https://d37ci6vzurychx.cloudfront.net/trip-data/yellow_tripdata_{date}.parquet\"\n",
    "    r = requests.get(url)\n",
    "    data = r.content\n",
    "    with open(f'./data/yellow_taxi_{date}.parquet', 'wb') as f:\n",
    "        f.write(data)"
   ]
  }
 ],
 "metadata": {
  "kernelspec": {
   "display_name": "Python 3 (ipykernel)",
   "language": "python",
   "name": "python3"
  },
  "language_info": {
   "codemirror_mode": {
    "name": "ipython",
    "version": 3
   },
   "file_extension": ".py",
   "mimetype": "text/x-python",
   "name": "python",
   "nbconvert_exporter": "python",
   "pygments_lexer": "ipython3",
   "version": "3.9.18"
  }
 },
 "nbformat": 4,
 "nbformat_minor": 5
}
