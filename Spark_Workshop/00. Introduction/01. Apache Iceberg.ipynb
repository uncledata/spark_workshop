{
 "cells": [
  {
   "cell_type": "markdown",
   "metadata": {},
   "source": [
    "## Why Iceberg?\n",
    "\n",
    "* Schema Evolution: Iceberg supports adding, renaming, and deleting columns in your data schema without affecting existing data. This allows for more flexible data management as your data evolves.\n",
    "\n",
    "* Hidden Partitioning: Iceberg handles partitioning behind the scenes, simplifying queries and making them more efficient without requiring explicit partition management.\n",
    "\n",
    "* Snapshot Isolation: It provides consistent snapshots of data, enabling reliable data processing and isolation between concurrent operations.\n",
    "\n",
    "* Efficient File Management: Iceberg optimizes file sizes and layouts to improve read and write performance, significantly reducing the overhead associated with managing large datasets. (Note: Z Sorting in Delta format used through the UniForm format seems to speed up Apache Iceberg reads too!)"
   ]
  },
  {
   "cell_type": "markdown",
   "metadata": {},
   "source": [
    "![Iceberg in a nutshell](./pics/Iceberg.png)\n",
    "\n",
    "\n",
    "[Picture Source](https://www.dremio.com/blog/a-hands-on-look-at-the-structure-of-an-apache-iceberg-table/)"
   ]
  },
  {
   "cell_type": "markdown",
   "metadata": {},
   "source": [
    "## Catalog\n",
    "\n",
    "\n",
    "* REST: a server-side catalog that’s exposed through a REST API\n",
    "* Hive Metastore: tracks namespaces and tables using a Hive metastore\n",
    "* JDBC: tracks namespaces and tables in a simple JDBC database\n",
    "* Nessie: a transactional catalog that tracks namespaces and tables in a database with git-like version control\n",
    "\n",
    "\n",
    "## Decoupling Using the REST Catalog\n",
    "\n",
    "The REST catalog was introduced in the Iceberg 0.14.0 release and provides greater control over how Iceberg catalogs are implemented. Instead of using technology-specific logic contained in the catalog clients, the implementation details of a REST catalog lives on the catalog server. If you’re familiar with Hive, this is somewhat similar to the Hive thrift service that allows access to a hive server over a single port. The server-side logic can be written in any language and use any custom technology, as long as the API follows the Iceberg REST Open API specification.\n",
    "\n",
    "A great benefit of the REST catalog is that it allows you to use a single client to talk to any catalog backend. This increased flexibility makes it easier to make custom catalogs compatible with engines like Athena or Starburst without requiring the inclusion of a Jar into the classpath."
   ]
  },
  {
   "cell_type": "markdown",
   "metadata": {},
   "source": []
  }
 ],
 "metadata": {
  "language_info": {
   "name": "python"
  },
  "orig_nbformat": 4
 },
 "nbformat": 4,
 "nbformat_minor": 2
}
