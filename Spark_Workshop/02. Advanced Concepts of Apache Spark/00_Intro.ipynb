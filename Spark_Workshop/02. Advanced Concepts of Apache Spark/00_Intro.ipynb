{
 "cells": [
  {
   "cell_type": "markdown",
   "metadata": {
    "collapsed": true,
    "pycharm": {
     "name": "#%% md\n"
    }
   },
   "source": [
    "# Choosing best configuration for Spark Session\n",
    "\n",
    "<table>\n",
    "<tr>\n",
    "<th>Executors</th>\n",
    "<th>Spark Cores per Executor</th>\n",
    "<th>Total spark cores per node</th>\n",
    "<th>Total RAM per Executor </th>\n",
    "<th>Total spark RAM </th>\n",
    "</tr>\n",
    "\n",
    "<tr>\n",
    "<td>1</td>\n",
    "<td>15</td>\n",
    "<td>15</td>\n",
    "<td>60</td>\n",
    "<td>60</td>\n",
    "</tr>\n",
    "\n",
    "<tr>\n",
    "<td>3</td>\n",
    "<td>5</td>\n",
    "<td>15</td>\n",
    "<td>20</td>\n",
    "<td>60</td>\n",
    "</tr>\n",
    "<tr>\n",
    "<td>5</td>\n",
    "<td>3</td>\n",
    "<td>15</td>\n",
    "<td>12</td>\n",
    "<td>60</td>\n",
    "</tr>\n",
    "<tr>\n",
    "<td>15</td>\n",
    "<td>1</td>\n",
    "<td>15</td>\n",
    "<td>4</td>\n",
    "<td>60</td>\n",
    "</tr>\n",
    "</table>\n",
    "\n",
    "\n",
    "# Choosing memory per executor\n",
    "\n",
    "Full memory requested to yarn per executor =\n",
    "          spark-executor-memory + spark.yarn.executor.memoryOverhead.\n",
    " spark.yarn.executor.memoryOverhead =\n",
    "        \tMax(384MB, 7% of spark.executor-memory)\n",
    "\n",
    "So, if we request 20GB per executor, Yarn Application Master will actually get 20GB + memoryOverhead = 20 + 7% of 20GB = ~23GB memory for us.\n",
    "\n",
    "* Running executors with too much memory often results in excessive garbage collection delays.\n",
    "* Running tiny executors (with a single core and just enough memory needed to run a single task, for example) throws away the benefits that come from running multiple tasks in a single JVM."
   ]
  },
  {
   "cell_type": "markdown",
   "source": [
    "# 15 Executor, 1 Core per Executor, 4 GB RAM per Executor\n",
    "Issues:\n",
    "* no parallelism on JVM.\n",
    "* Shared/Cached variables replicated to each core  = 15 times\n",
    "* Not enough memory overhead"
   ],
   "metadata": {
    "collapsed": false,
    "pycharm": {
     "name": "#%% md\n"
    }
   }
  },
  {
   "cell_type": "markdown",
   "source": [
    "# 1 Executor, 15 Cores pe Executor, 60 GB RAM per Executor\n",
    "Pros:\n",
    "* no data exchange is needed\n",
    "Cons:\n",
    "* Excessive Garbage collection"
   ],
   "metadata": {
    "collapsed": false,
    "pycharm": {
     "name": "#%% md\n"
    }
   }
  },
  {
   "cell_type": "markdown",
   "source": [
    "# There is no golden solution for perfect combination!\n",
    "\n",
    "<b> Each application has it's own configuration, i.e.: </b>\n",
    "\n",
    " * Grouping, aggregations, joins used = More RAM\n",
    " * Lot's of data = more cores (more processing in parallel will be done)\n",
    "\n",
    "\n",
    "\n",
    " Playing around with different configurations is the best way to know which\n",
    " configuration is best (plus Spark UI will help with this).\n"
   ],
   "metadata": {
    "collapsed": false,
    "pycharm": {
     "name": "#%% md\n"
    }
   }
  }
 ],
 "metadata": {
  "kernelspec": {
   "display_name": "Python 3",
   "language": "python",
   "name": "python3"
  },
  "language_info": {
   "codemirror_mode": {
    "name": "ipython",
    "version": 2
   },
   "file_extension": ".py",
   "mimetype": "text/x-python",
   "name": "python",
   "nbconvert_exporter": "python",
   "pygments_lexer": "ipython2",
   "version": "2.7.6"
  }
 },
 "nbformat": 4,
 "nbformat_minor": 0
}