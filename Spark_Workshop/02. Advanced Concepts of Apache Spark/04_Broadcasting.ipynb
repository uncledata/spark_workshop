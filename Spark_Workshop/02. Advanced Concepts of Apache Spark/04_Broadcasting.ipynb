{
 "cells": [
  {
   "cell_type": "code",
   "execution_count": 1,
   "metadata": {},
   "outputs": [
    {
     "name": "stderr",
     "output_type": "stream",
     "text": [
      "24/02/17 09:27:43 WARN SparkSession: Using an existing Spark session; only runtime SQL configurations will take effect.\n"
     ]
    }
   ],
   "source": [
    "import sys\n",
    "sys.path.append('/home/iceberg/notebooks/PyCon_LT_Workshop')\n",
    "\n",
    "from helpers.utils import get_spark_session, get_yellow_taxi_data, get_dim_data, ROOT_DIR\n",
    "from pyspark.sql import functions as f\n",
    "spark = get_spark_session(\"broadcasting\")\n",
    "\n",
    "yellow_taxi_data = get_yellow_taxi_data(spark=spark)\n",
    "\n",
    "dim_taxi_zones, dim_rates, dim_payments, dim_vendor = get_dim_data(spark)"
   ]
  },
  {
   "cell_type": "code",
   "execution_count": 2,
   "metadata": {
    "pycharm": {
     "name": "#%%\n"
    }
   },
   "outputs": [],
   "source": [
    "# enabling broadcasting hinting\n",
    "from pyspark.sql.functions import broadcast"
   ]
  },
  {
   "cell_type": "markdown",
   "metadata": {},
   "source": [
    "# What is broadcasting?\n",
    "\n",
    "<img src=\"https://henningkropponlinede.files.wordpress.com/2016/12/spark-broadcast.png?w=313\">"
   ]
  },
  {
   "cell_type": "markdown",
   "metadata": {
    "pycharm": {
     "name": "#%% md\n"
    }
   },
   "source": [
    "## Setting autoBroadcastJoinThreshold\n",
    "\n",
    ".config(\"spark.sql.autoBroadcastJoinThreshold\", X)\n",
    "\n",
    "parameter enables datasets which are less then specified size to be broadcasted.\n",
    "Sometimes it results in huge performance boost.\n",
    "\n",
    "*-1* -> no broadcasting is automatically done. This was done intentionally to demonstrate broadcasting impact.\n",
    "\n",
    "*Default is 10MB*. In some cases specifying hints on joins you can make spark use broadcast join.\n",
    "\n",
    "### How it looks in Spark UI\n",
    "<img src=\"https://miro.medium.com/max/2812/1*Pzvy3UDoNIP6g1pOZwu1qw.png\">"
   ]
  },
  {
   "cell_type": "code",
   "execution_count": 6,
   "metadata": {},
   "outputs": [
    {
     "name": "stderr",
     "output_type": "stream",
     "text": [
      "24/02/17 09:28:45 WARN HintErrorLogger: Hint (strategy=broadcast) is not supported in the query: build right for full outer join.\n",
      "24/02/17 09:28:46 WARN HintErrorLogger: Hint (strategy=broadcast) is not supported in the query: build right for full outer join.\n",
      "24/02/17 09:28:46 WARN HintErrorLogger: Hint (strategy=broadcast) is not supported in the query: build right for full outer join.\n",
      "                                                                                \r"
     ]
    },
    {
     "data": {
      "text/plain": [
       "5443362"
      ]
     },
     "execution_count": 6,
     "metadata": {},
     "output_type": "execute_result"
    }
   ],
   "source": [
    "joined = yellow_taxi_data.join(broadcast(dim_vendor), yellow_taxi_data.VendorID == dim_vendor.vendor_id, \"full\")\n",
    "joined.count()\n",
    "# 24/02/17 09:28:45 WARN HintErrorLogger: Hint (strategy=broadcast) is not supported in the query: build right for full outer join."
   ]
  },
  {
   "cell_type": "code",
   "execution_count": 7,
   "metadata": {},
   "outputs": [
    {
     "data": {
      "text/plain": [
       "5443362"
      ]
     },
     "execution_count": 7,
     "metadata": {},
     "output_type": "execute_result"
    }
   ],
   "source": [
    "joined = yellow_taxi_data.join(broadcast(dim_vendor), yellow_taxi_data.VendorID == dim_vendor.vendor_id, \"left\")\n",
    "joined.count()"
   ]
  },
  {
   "cell_type": "markdown",
   "metadata": {
    "pycharm": {
     "name": "#%% md\n"
    }
   },
   "source": [
    "## Spark SQL hinting"
   ]
  },
  {
   "cell_type": "code",
   "execution_count": 8,
   "metadata": {
    "pycharm": {
     "name": "#%%\n"
    }
   },
   "outputs": [
    {
     "data": {
      "text/plain": [
       "5430963"
      ]
     },
     "execution_count": 8,
     "metadata": {},
     "output_type": "execute_result"
    }
   ],
   "source": [
    "yellow_taxi_data.createOrReplaceTempView(\"yellow_taxi_data\")\n",
    "dim_vendor.createOrReplaceTempView(\"dim_vendor\")\n",
    "spark.sql(\"\"\"\n",
    "SELECT /*+ BROADCASTJOIN(dim_vendor) */ * FROM yellow_taxi_data join\n",
    " dim_vendor on dim_vendor.vendor_id = yellow_taxi_data.VendorID\n",
    "\"\"\").count()"
   ]
  }
 ],
 "metadata": {
  "kernelspec": {
   "display_name": "Python 3 (ipykernel)",
   "language": "python",
   "name": "python3"
  },
  "language_info": {
   "codemirror_mode": {
    "name": "ipython",
    "version": 3
   },
   "file_extension": ".py",
   "mimetype": "text/x-python",
   "name": "python",
   "nbconvert_exporter": "python",
   "pygments_lexer": "ipython3",
   "version": "3.9.18"
  }
 },
 "nbformat": 4,
 "nbformat_minor": 4
}
