{
 "cells": [
  {
   "cell_type": "code",
   "execution_count": 4,
   "id": "d13647d7-1b26-4611-93af-ae3c2229362f",
   "metadata": {},
   "outputs": [],
   "source": [
    "import sys\n",
    "sys.path.append('/home/iceberg/notebooks/PyCon_LT_Workshop')\n",
    "\n",
    "from helpers.utils import get_spark_session, get_yellow_taxi_data, get_dim_data, ROOT_DIR\n",
    "from pyspark.sql import functions as f\n",
    "spark = get_spark_session(\"small_files\")\n",
    "\n",
    "yellow_taxi_data = get_yellow_taxi_data(spark=spark)\n",
    "\n",
    "dim_taxi_zones, dim_rates, dim_payments, dim_vendor = get_dim_data(spark)\n",
    "\n",
    "output_dir = ROOT_DIR + \"output/yellow_taxi.parquet\""
   ]
  },
  {
   "cell_type": "code",
   "execution_count": 3,
   "id": "6655f9f3-0ae0-4dc1-9731-018e72b6719e",
   "metadata": {},
   "outputs": [
    {
     "name": "stderr",
     "output_type": "stream",
     "text": [
      "                                                                                \r"
     ]
    }
   ],
   "source": [
    "yellow_taxi_data.repartition(1000).write.mode('overwrite').parquet(output_dir)"
   ]
  },
  {
   "cell_type": "code",
   "execution_count": 5,
   "id": "432eb568-51e9-46b6-9c7f-97d51eef8ec4",
   "metadata": {},
   "outputs": [],
   "source": [
    "yellow_taxi_small_files = spark.read.parquet(output_dir)"
   ]
  },
  {
   "cell_type": "code",
   "execution_count": 8,
   "id": "02ea78ed-cca9-480a-9f3d-d89a1bd4ec4b",
   "metadata": {},
   "outputs": [
    {
     "name": "stdout",
     "output_type": "stream",
     "text": [
      "31.1 ms ± 3.5 ms per loop (mean ± std. dev. of 7 runs, 10 loops each)\n"
     ]
    }
   ],
   "source": [
    "%timeit yellow_taxi_data.count()"
   ]
  },
  {
   "cell_type": "code",
   "execution_count": 9,
   "id": "5cbca444-1023-444b-82c1-006438433c25",
   "metadata": {},
   "outputs": [
    {
     "name": "stderr",
     "output_type": "stream",
     "text": [
      "                                                                                \r"
     ]
    },
    {
     "name": "stdout",
     "output_type": "stream",
     "text": [
      "427 ms ± 20.1 ms per loop (mean ± std. dev. of 7 runs, 1 loop each)\n"
     ]
    }
   ],
   "source": [
    "%timeit yellow_taxi_small_files.count()"
   ]
  },
  {
   "cell_type": "markdown",
   "id": "e70175de-f4bf-441c-ae90-c3c99c2a8aa4",
   "metadata": {},
   "source": [
    "Back in 2020 I had a lot of issues with different situations, some of them are still relevant today. Here is my blog post from [back then](https://uncledata.substack.com/p/4-simple-tips-to-improve-your-apache).\n",
    "\n",
    "Broadcast join we've covered, repartition and coalesce in a way is solved with AQE, but still sometimes helps if you want to have more control.\n"
   ]
  },
  {
   "cell_type": "code",
   "execution_count": 17,
   "id": "84bddc99-64c1-41fa-9f44-23989c3d3fd0",
   "metadata": {},
   "outputs": [],
   "source": [
    "del spark"
   ]
  },
  {
   "cell_type": "markdown",
   "id": "3a41fb10-cfea-4ae9-946a-efafa4fe1f86",
   "metadata": {},
   "source": [
    "**Use openCostInBytes size which is closer to your small file sizes. This will be more efficient!**"
   ]
  },
  {
   "cell_type": "code",
   "execution_count": 18,
   "id": "e9076734-b42f-4ed6-bbf4-9fbc31ad9fd6",
   "metadata": {},
   "outputs": [],
   "source": [
    "from pyspark.sql import SparkSession\n",
    "spark = (SparkSession\n",
    "         .builder\n",
    "         .appName(\"small_files\")\n",
    "         .config(\"spark.files.openCostInBytes\", 140046)\n",
    "         .master(\"local[*]\")\n",
    "         .getOrCreate())"
   ]
  },
  {
   "cell_type": "code",
   "execution_count": 19,
   "id": "f1559be5-c163-4893-a69e-29198f9e9b44",
   "metadata": {},
   "outputs": [
    {
     "name": "stdout",
     "output_type": "stream",
     "text": [
      "391 ms ± 9.02 ms per loop (mean ± std. dev. of 7 runs, 1 loop each)\n"
     ]
    }
   ],
   "source": [
    "%timeit yellow_taxi_small_files.count()"
   ]
  },
  {
   "cell_type": "markdown",
   "id": "4efea7b9-95e5-4dee-ba1f-3405a4c690fe",
   "metadata": {},
   "source": [
    "# Rule of Thumb is that a partition should be ± 128MB (good range is 80-200MB)"
   ]
  },
  {
   "cell_type": "code",
   "execution_count": null,
   "id": "38a7a936-0297-4b83-8c02-568ddc8f07ad",
   "metadata": {},
   "outputs": [],
   "source": []
  }
 ],
 "metadata": {
  "kernelspec": {
   "display_name": "Python 3 (ipykernel)",
   "language": "python",
   "name": "python3"
  },
  "language_info": {
   "codemirror_mode": {
    "name": "ipython",
    "version": 3
   },
   "file_extension": ".py",
   "mimetype": "text/x-python",
   "name": "python",
   "nbconvert_exporter": "python",
   "pygments_lexer": "ipython3",
   "version": "3.9.18"
  }
 },
 "nbformat": 4,
 "nbformat_minor": 5
}
