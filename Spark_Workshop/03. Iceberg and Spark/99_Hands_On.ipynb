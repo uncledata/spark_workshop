{
 "cells": [
  {
   "cell_type": "markdown",
   "id": "b09ea3c9-1cf5-4fb4-b1b3-87209bcd5d59",
   "metadata": {},
   "source": [
    "# Implement a slowly changing dimension Type 2 Using Apache Iceberg functionality\n",
    "\n",
    "## For Inspiration you can check How it used to be done with plain Spark and no table formats:\n",
    "**http://localhost:8888/edit/PyCon_LT_Workshop/03.%20Iceberg%20and%20Spark/slowly_changing_dim.py**"
   ]
  },
  {
   "cell_type": "code",
   "execution_count": null,
   "id": "230f720a-cc04-43c4-891f-b7664ed18e94",
   "metadata": {},
   "outputs": [],
   "source": []
  }
 ],
 "metadata": {
  "kernelspec": {
   "display_name": "Python 3 (ipykernel)",
   "language": "python",
   "name": "python3"
  },
  "language_info": {
   "codemirror_mode": {
    "name": "ipython",
    "version": 3
   },
   "file_extension": ".py",
   "mimetype": "text/x-python",
   "name": "python",
   "nbconvert_exporter": "python",
   "pygments_lexer": "ipython3",
   "version": "3.9.19"
  }
 },
 "nbformat": 4,
 "nbformat_minor": 5
}
