{
 "cells": [
  {
   "cell_type": "code",
   "execution_count": 2,
   "id": "6cae9ef7-e3e7-4547-b2f2-cd428156b323",
   "metadata": {},
   "outputs": [
    {
     "name": "stdout",
     "output_type": "stream",
     "text": [
      "staging/aggregated_taxi_per_vendor_date/data/00000-11-146c816e-61d7-46da-a5d1-03a145d3fa47-0-00001.parquet 2KB\n",
      "staging/aggregated_taxi_per_vendor_date/data/00000-6-b17d2ddd-2a29-4028-a76f-7e2c7da36fc5-0-00001.parquet 2KB\n",
      "staging/aggregated_taxi_per_vendor_date/metadata/00000-b129cac9-ca9f-4f77-ba35-210754c0eddb.metadata.json 2KB\n",
      "staging/aggregated_taxi_per_vendor_date/metadata/00001-4b6805a8-9ab9-4874-b2df-81a97e5fd3f5.metadata.json 2KB\n",
      "staging/aggregated_taxi_per_vendor_date/metadata/00002-f3247c59-464a-4456-bd4b-61c7238ee394.metadata.json 2KB\n",
      "staging/aggregated_taxi_per_vendor_date/metadata/00003-e7c6e6ea-92ed-4f00-952d-d35af8047289.metadata.json 3KB\n",
      "staging/aggregated_taxi_per_vendor_date/metadata/00004-1825cd1d-addf-42e4-84c6-430ee85caf14.metadata.json 3KB\n",
      "staging/aggregated_taxi_per_vendor_date/metadata/1a4bcaf0-6855-4316-9a69-42b4963917ef-m0.avro 6KB\n",
      "staging/aggregated_taxi_per_vendor_date/metadata/1a4bcaf0-6855-4316-9a69-42b4963917ef-m1.avro 6KB\n",
      "staging/aggregated_taxi_per_vendor_date/metadata/c799410c-53a8-4f54-b21d-064c838960bd-m0.avro 6KB\n",
      "staging/aggregated_taxi_per_vendor_date/metadata/snap-1079450372298633771-1-1a4bcaf0-6855-4316-9a69-42b4963917ef.avro 4KB\n",
      "staging/aggregated_taxi_per_vendor_date/metadata/snap-4722644808567071556-1-c799410c-53a8-4f54-b21d-064c838960bd.avro 4KB\n",
      "staging/yellow_taxi/data/00000-1-afaa0077-0731-4fd4-aed0-619421755d83-0-00001.parquet 37251KB\n",
      "staging/yellow_taxi/data/00000-19-32e77607-82db-49c4-be96-67f47ec17724-0-00001.parquet 36874KB\n",
      "staging/yellow_taxi/data/00000-2-4ec7c95b-1bcf-4247-838a-5168cca43043-0-00001.parquet 17295KB\n",
      "staging/yellow_taxi/data/00000-2-4ec7c95b-1bcf-4247-838a-5168cca43043-0-00002.parquet 17373KB\n",
      "staging/yellow_taxi/data/00000-2-4ec7c95b-1bcf-4247-838a-5168cca43043-0-00003.parquet 3525KB\n",
      "staging/yellow_taxi/data/00000-5-3664f8f3-589d-44da-955f-cb1749f3a64a-0-00001.parquet 37251KB\n",
      "staging/yellow_taxi/data/00001-2-afaa0077-0731-4fd4-aed0-619421755d83-0-00001.parquet 44630KB\n",
      "staging/yellow_taxi/data/00001-20-32e77607-82db-49c4-be96-67f47ec17724-0-00001.parquet 44147KB\n",
      "staging/yellow_taxi/data/00001-3-4ec7c95b-1bcf-4247-838a-5168cca43043-0-00001.parquet 17292KB\n",
      "staging/yellow_taxi/data/00001-3-4ec7c95b-1bcf-4247-838a-5168cca43043-0-00002.parquet 17265KB\n",
      "staging/yellow_taxi/data/00001-3-4ec7c95b-1bcf-4247-838a-5168cca43043-0-00003.parquet 10519KB\n",
      "staging/yellow_taxi/data/00001-6-3664f8f3-589d-44da-955f-cb1749f3a64a-0-00001.parquet 44630KB\n",
      "staging/yellow_taxi/metadata/00000-ae874524-b096-412f-8cb1-0c4760d6b2e9.metadata.json 3KB\n",
      "staging/yellow_taxi/metadata/00001-eeaf7be4-5a21-4c31-92cb-58020f16f80e.metadata.json 4KB\n",
      "staging/yellow_taxi/metadata/00002-0d55e1eb-df22-4269-a036-dde4cb852f3a.metadata.json 6KB\n",
      "staging/yellow_taxi/metadata/00003-b1914d19-e499-4aee-b269-01e0ddb3ee06.metadata.json 7KB\n",
      "staging/yellow_taxi/metadata/00004-1445a277-66ab-4dd5-a560-95ebb1a3ec50.metadata.json 8KB\n",
      "staging/yellow_taxi/metadata/00005-4bdc158c-6655-456c-af82-8218a120897f.metadata.json 9KB\n",
      "staging/yellow_taxi/metadata/00006-7cfafdbe-76f1-49c2-a3af-c2ad63d090ac.metadata.json 10KB\n",
      "staging/yellow_taxi/metadata/85d522bf-4df1-48bb-bd49-bf17e4763200-m0.avro 8KB\n",
      "staging/yellow_taxi/metadata/85d522bf-4df1-48bb-bd49-bf17e4763200-m1.avro 8KB\n",
      "staging/yellow_taxi/metadata/873ac6bd-c08d-4a8b-810f-8a648bf2f782-m0.avro 8KB\n",
      "staging/yellow_taxi/metadata/873ac6bd-c08d-4a8b-810f-8a648bf2f782-m1.avro 9KB\n",
      "staging/yellow_taxi/metadata/ab4678a7-c205-4a14-ac42-eceebd074368-m0.avro 8KB\n",
      "staging/yellow_taxi/metadata/db751d43-5f5e-4353-b847-bbd9bd57b54c-m0.avro 8KB\n",
      "staging/yellow_taxi/metadata/optimized-m-b87a355b-b783-4b22-be22-d41d6d2c7d39.avro 9KB\n",
      "staging/yellow_taxi/metadata/snap-3219656268123285048-1-8e97d062-6837-4197-a15d-29885e927f25.avro 4KB\n",
      "staging/yellow_taxi/metadata/snap-4596078438615030908-1-ab4678a7-c205-4a14-ac42-eceebd074368.avro 4KB\n",
      "staging/yellow_taxi/metadata/snap-5363513689733971433-1-db751d43-5f5e-4353-b847-bbd9bd57b54c.avro 4KB\n",
      "staging/yellow_taxi/metadata/snap-7734203308380970130-1-873ac6bd-c08d-4a8b-810f-8a648bf2f782.avro 4KB\n",
      "staging/yellow_taxi/metadata/snap-9160540137384676132-1-85d522bf-4df1-48bb-bd49-bf17e4763200.avro 4KB\n"
     ]
    }
   ],
   "source": [
    "import sys\n",
    "sys.path.append('/home/iceberg/notebooks/PyCon_LT_Workshop')\n",
    "\n",
    "from helpers.utils import get_spark_session, get_yellow_taxi_data, get_dim_data\n",
    "spark = get_spark_session(\"getting_started\")\n",
    "\n",
    "from minio import Minio\n",
    "client = Minio(\n",
    "        \"minio:9000\",\n",
    "        access_key=\"admin\",\n",
    "        secret_key=\"password\",\n",
    "        secure=False  # Set to True if your Minio server uses TLS/SSL\n",
    "    )\n",
    "\n",
    "def print_objects_in_warehouse(bucket_name):\n",
    "    objects = client.list_objects(bucket_name, recursive=True)\n",
    "    for obj in objects:\n",
    "        print(obj.object_name, str(obj._size//1024) + \"KB\")\n",
    "print_objects_in_warehouse(\"warehouse\")"
   ]
  },
  {
   "cell_type": "code",
   "execution_count": 3,
   "id": "f36bfc43-8af1-45fe-83f9-3c92b031ec6b",
   "metadata": {},
   "outputs": [],
   "source": [
    "dim_taxi_zones, dim_rates, dim_payments, dim_vendor = get_dim_data(spark)"
   ]
  },
  {
   "cell_type": "code",
   "execution_count": 4,
   "id": "1a8109fc-ec01-4929-89f1-9fe540b51c60",
   "metadata": {},
   "outputs": [
    {
     "name": "stderr",
     "output_type": "stream",
     "text": [
      "                                                                                \r"
     ]
    }
   ],
   "source": [
    "dim_taxi_zones.write.saveAsTable(\"staging.dim_taxi_zones\")\n",
    "dim_rates.write.saveAsTable(\"staging.dim_rates\")\n",
    "dim_payments.write.saveAsTable(\"staging.dim_payments\")\n",
    "dim_vendor.write.saveAsTable(\"staging.dim_vendor\")"
   ]
  },
  {
   "cell_type": "markdown",
   "id": "27b2afcf-b39a-4cd2-adf6-5c112e3c5100",
   "metadata": {},
   "source": [
    "Table Types:\n",
    "\n",
    "✅ Copy-on-Write (CoW):\n",
    "\n",
    "- With CoW, any records that are changed in a file, results in rewriting of the file as a new version\n",
    "- has a higher write amplification but less cost on read-side & hence good for read-heavy workloads\n",
    "- larger the [Parquet](https://www.linkedin.com/feed/hashtag/?keywords=parquet&highlightedUpdateUrns=urn%3Ali%3Aactivity%3A7176027113655844864) file, more time it takes to ingest data\n",
    "\n",
    "✅ Merge-on-Read (MoR):\n",
    "\n",
    "- With MoR, any changes to existing records, gets written to a separate log file\n",
    "- A compaction process (configured as inline or asynchronous) will compact the log file to the base file later as a new version\n",
    "- enables ingesting data quickly onto row-based data format such as Avro (log file)"
   ]
  },
  {
   "cell_type": "code",
   "execution_count": 12,
   "id": "5d7c114c-e829-48bf-9a9f-a91d2b128aca",
   "metadata": {},
   "outputs": [],
   "source": [
    "from pyspark.sql.functions import when, col\n",
    "from pyspark.sql import Row\n",
    "\n",
    "new_row = spark.createDataFrame([Row(rate_code_id=99, rate_name=\"Unknown\")])\n",
    "\n",
    "\n",
    "updated_dim_rates = dim_rates.withColumn(\"rate_name\", \n",
    "                                         when(col(\"rate_code_id\") == 4, \"New Rate Name\")\n",
    "                                         .otherwise(col(\"rate_name\"))).filter(\"rate_code_id != 1\").union(new_row)"
   ]
  },
  {
   "cell_type": "code",
   "execution_count": 13,
   "id": "1ed4ae5b-62ea-4f43-bcc4-da785dc2f746",
   "metadata": {},
   "outputs": [
    {
     "name": "stdout",
     "output_type": "stream",
     "text": [
      "+------------+---------------+\n",
      "|rate_code_id|      rate_name|\n",
      "+------------+---------------+\n",
      "|           2|            JFK|\n",
      "|           3|         Newark|\n",
      "|           4|  New Rate Name|\n",
      "|           5|Negotiated fare|\n",
      "|           6|     Group ride|\n",
      "|          99|        Unknown|\n",
      "+------------+---------------+\n",
      "\n"
     ]
    }
   ],
   "source": [
    "updated_dim_rates.show()"
   ]
  },
  {
   "cell_type": "code",
   "execution_count": 14,
   "id": "6990e708-7e48-4323-89fa-9f4871dc8d27",
   "metadata": {},
   "outputs": [],
   "source": [
    "updated_dim_rates.write.saveAsTable(\"staging.updated_dim_rates\")"
   ]
  },
  {
   "cell_type": "code",
   "execution_count": 20,
   "id": "7dbb0c86-5be4-433a-bfd0-7294fa48744a",
   "metadata": {},
   "outputs": [
    {
     "data": {
      "text/html": [
       "<table>\n",
       "    <thead>\n",
       "        <tr>\n",
       "        </tr>\n",
       "    </thead>\n",
       "    <tbody>\n",
       "    </tbody>\n",
       "</table>"
      ],
      "text/plain": [
       "++\n",
       "||\n",
       "++\n",
       "++"
      ]
     },
     "execution_count": 20,
     "metadata": {},
     "output_type": "execute_result"
    }
   ],
   "source": [
    "%%sql\n",
    "MERGE INTO staging.dim_rates t\n",
    "USING (SELECT rate_code_id, rate_name from staging.updated_dim_rates) s          \n",
    "ON t.rate_code_id = s.rate_code_id\n",
    "WHEN MATCHED and s.rate_name!=t.rate_name THEN UPDATE SET t.rate_name = s.rate_name\n",
    "WHEN NOT MATCHED BY TARGET THEN INSERT *\n",
    "WHEN NOT MATCHED BY SOURCE THEN DELETE"
   ]
  },
  {
   "cell_type": "code",
   "execution_count": 21,
   "id": "c9b62365-1bc8-4b7d-9c45-b61451c2f5db",
   "metadata": {},
   "outputs": [
    {
     "data": {
      "text/html": [
       "<table>\n",
       "    <thead>\n",
       "        <tr>\n",
       "            <th>rate_code_id</th>\n",
       "            <th>rate_name</th>\n",
       "        </tr>\n",
       "    </thead>\n",
       "    <tbody>\n",
       "        <tr>\n",
       "            <td>2</td>\n",
       "            <td>JFK</td>\n",
       "        </tr>\n",
       "        <tr>\n",
       "            <td>3</td>\n",
       "            <td>Newark</td>\n",
       "        </tr>\n",
       "        <tr>\n",
       "            <td>4</td>\n",
       "            <td>New Rate Name</td>\n",
       "        </tr>\n",
       "        <tr>\n",
       "            <td>5</td>\n",
       "            <td>Negotiated fare</td>\n",
       "        </tr>\n",
       "        <tr>\n",
       "            <td>6</td>\n",
       "            <td>Group ride</td>\n",
       "        </tr>\n",
       "        <tr>\n",
       "            <td>99</td>\n",
       "            <td>Unknown</td>\n",
       "        </tr>\n",
       "    </tbody>\n",
       "</table>"
      ],
      "text/plain": [
       "+--------------+-----------------+\n",
       "| rate_code_id |       rate_name |\n",
       "+--------------+-----------------+\n",
       "|            2 |             JFK |\n",
       "|            3 |          Newark |\n",
       "|            4 |   New Rate Name |\n",
       "|            5 | Negotiated fare |\n",
       "|            6 |      Group ride |\n",
       "|           99 |         Unknown |\n",
       "+--------------+-----------------+"
      ]
     },
     "execution_count": 21,
     "metadata": {},
     "output_type": "execute_result"
    }
   ],
   "source": [
    "%%sql\n",
    "select * from staging.dim_rates"
   ]
  },
  {
   "cell_type": "code",
   "execution_count": 22,
   "id": "8954ef9c-da09-4f28-8b4a-6079de213b10",
   "metadata": {},
   "outputs": [
    {
     "name": "stdout",
     "output_type": "stream",
     "text": [
      "staging/aggregated_taxi_per_vendor_date/data/00000-11-146c816e-61d7-46da-a5d1-03a145d3fa47-0-00001.parquet 2KB\n",
      "staging/aggregated_taxi_per_vendor_date/data/00000-6-b17d2ddd-2a29-4028-a76f-7e2c7da36fc5-0-00001.parquet 2KB\n",
      "staging/aggregated_taxi_per_vendor_date/metadata/00000-b129cac9-ca9f-4f77-ba35-210754c0eddb.metadata.json 2KB\n",
      "staging/aggregated_taxi_per_vendor_date/metadata/00001-4b6805a8-9ab9-4874-b2df-81a97e5fd3f5.metadata.json 2KB\n",
      "staging/aggregated_taxi_per_vendor_date/metadata/00002-f3247c59-464a-4456-bd4b-61c7238ee394.metadata.json 2KB\n",
      "staging/aggregated_taxi_per_vendor_date/metadata/00003-e7c6e6ea-92ed-4f00-952d-d35af8047289.metadata.json 3KB\n",
      "staging/aggregated_taxi_per_vendor_date/metadata/00004-1825cd1d-addf-42e4-84c6-430ee85caf14.metadata.json 3KB\n",
      "staging/aggregated_taxi_per_vendor_date/metadata/1a4bcaf0-6855-4316-9a69-42b4963917ef-m0.avro 6KB\n",
      "staging/aggregated_taxi_per_vendor_date/metadata/1a4bcaf0-6855-4316-9a69-42b4963917ef-m1.avro 6KB\n",
      "staging/aggregated_taxi_per_vendor_date/metadata/c799410c-53a8-4f54-b21d-064c838960bd-m0.avro 6KB\n",
      "staging/aggregated_taxi_per_vendor_date/metadata/snap-1079450372298633771-1-1a4bcaf0-6855-4316-9a69-42b4963917ef.avro 4KB\n",
      "staging/aggregated_taxi_per_vendor_date/metadata/snap-4722644808567071556-1-c799410c-53a8-4f54-b21d-064c838960bd.avro 4KB\n",
      "staging/dim_payments/data/00000-6-f2a245f3-cab0-4f06-b700-375e654329f9-0-00001.parquet 0KB\n",
      "staging/dim_payments/metadata/00000-cb4d3a1a-852d-4686-a46a-6cd0195dfa74.metadata.json 1KB\n",
      "staging/dim_payments/metadata/75f5d5b0-c8bc-4f41-8e14-35f8ff68b60b-m0.avro 6KB\n",
      "staging/dim_payments/metadata/snap-2960256292447604384-1-75f5d5b0-c8bc-4f41-8e14-35f8ff68b60b.avro 4KB\n",
      "staging/dim_rates/data/00000-27-8c174145-8336-433b-9396-6aaec7783a53-0-00001.parquet 0KB\n",
      "staging/dim_rates/data/00000-31-d6524f50-88fd-4573-a41e-1029452d8e8e-0-00001.parquet 0KB\n",
      "staging/dim_rates/data/00000-5-c122a974-a9b6-44da-97ba-fc9bd79dba33-0-00001.parquet 0KB\n",
      "staging/dim_rates/metadata/00000-33e6d790-16c6-4d70-9569-06cb74afce15.metadata.json 1KB\n",
      "staging/dim_rates/metadata/00001-2b0472fb-3e34-4f8b-9996-b0bb2386f561.metadata.json 3KB\n",
      "staging/dim_rates/metadata/00002-7b643686-ca02-4af4-a1fd-8cd24080817b.metadata.json 4KB\n",
      "staging/dim_rates/metadata/046a43a1-bc96-46d9-a58e-0c901b028409-m0.avro 6KB\n",
      "staging/dim_rates/metadata/c5dcd486-ec45-41bf-b113-86c4ccc81e63-m0.avro 6KB\n",
      "staging/dim_rates/metadata/c5dcd486-ec45-41bf-b113-86c4ccc81e63-m1.avro 6KB\n",
      "staging/dim_rates/metadata/e18d0e0d-f825-4a8d-a896-64aa981a5c73-m0.avro 6KB\n",
      "staging/dim_rates/metadata/e18d0e0d-f825-4a8d-a896-64aa981a5c73-m1.avro 6KB\n",
      "staging/dim_rates/metadata/snap-2261648511033844294-1-c5dcd486-ec45-41bf-b113-86c4ccc81e63.avro 4KB\n",
      "staging/dim_rates/metadata/snap-583487472890318615-1-046a43a1-bc96-46d9-a58e-0c901b028409.avro 4KB\n",
      "staging/dim_rates/metadata/snap-8545696951471959109-1-e18d0e0d-f825-4a8d-a896-64aa981a5c73.avro 4KB\n",
      "staging/dim_taxi_zones/data/00000-4-f2a2344d-dcee-48c1-9b62-bf65bc33b5c0-0-00001.parquet 4KB\n",
      "staging/dim_taxi_zones/metadata/00000-672975e2-a8d0-478a-a50f-f57ad5919411.metadata.json 2KB\n",
      "staging/dim_taxi_zones/metadata/ac8d06f6-b80e-458f-9a04-2f28a7ebf10d-m0.avro 6KB\n",
      "staging/dim_taxi_zones/metadata/snap-5365242866861921269-1-ac8d06f6-b80e-458f-9a04-2f28a7ebf10d.avro 4KB\n",
      "staging/dim_vendor/data/00000-7-39737aa8-3530-4903-ae77-de2ac2f37651-0-00001.parquet 0KB\n",
      "staging/dim_vendor/metadata/00000-cd90fd1a-6879-4882-8e8a-08a892ae5964.metadata.json 1KB\n",
      "staging/dim_vendor/metadata/1936087c-1a34-4a50-930b-42e2600cab3d-m0.avro 6KB\n",
      "staging/dim_vendor/metadata/snap-4138246450324081394-1-1936087c-1a34-4a50-930b-42e2600cab3d.avro 4KB\n",
      "staging/updated_dim_rates/data/00000-17-2faf4755-6f47-4b90-b0b8-fa79a59a97a6-0-00001.parquet 0KB\n",
      "staging/updated_dim_rates/data/00004-21-2faf4755-6f47-4b90-b0b8-fa79a59a97a6-0-00001.parquet 0KB\n",
      "staging/updated_dim_rates/metadata/00000-35316fd6-b26f-4ac5-9111-4b63aa9e5e8d.metadata.json 1KB\n",
      "staging/updated_dim_rates/metadata/ae3c47a4-4d5e-417a-b8f7-4992f64d8eac-m0.avro 6KB\n",
      "staging/updated_dim_rates/metadata/snap-1195512388729119133-1-ae3c47a4-4d5e-417a-b8f7-4992f64d8eac.avro 4KB\n",
      "staging/yellow_taxi/data/00000-1-afaa0077-0731-4fd4-aed0-619421755d83-0-00001.parquet 37251KB\n",
      "staging/yellow_taxi/data/00000-19-32e77607-82db-49c4-be96-67f47ec17724-0-00001.parquet 36874KB\n",
      "staging/yellow_taxi/data/00000-2-4ec7c95b-1bcf-4247-838a-5168cca43043-0-00001.parquet 17295KB\n",
      "staging/yellow_taxi/data/00000-2-4ec7c95b-1bcf-4247-838a-5168cca43043-0-00002.parquet 17373KB\n",
      "staging/yellow_taxi/data/00000-2-4ec7c95b-1bcf-4247-838a-5168cca43043-0-00003.parquet 3525KB\n",
      "staging/yellow_taxi/data/00000-5-3664f8f3-589d-44da-955f-cb1749f3a64a-0-00001.parquet 37251KB\n",
      "staging/yellow_taxi/data/00001-2-afaa0077-0731-4fd4-aed0-619421755d83-0-00001.parquet 44630KB\n",
      "staging/yellow_taxi/data/00001-20-32e77607-82db-49c4-be96-67f47ec17724-0-00001.parquet 44147KB\n",
      "staging/yellow_taxi/data/00001-3-4ec7c95b-1bcf-4247-838a-5168cca43043-0-00001.parquet 17292KB\n",
      "staging/yellow_taxi/data/00001-3-4ec7c95b-1bcf-4247-838a-5168cca43043-0-00002.parquet 17265KB\n",
      "staging/yellow_taxi/data/00001-3-4ec7c95b-1bcf-4247-838a-5168cca43043-0-00003.parquet 10519KB\n",
      "staging/yellow_taxi/data/00001-6-3664f8f3-589d-44da-955f-cb1749f3a64a-0-00001.parquet 44630KB\n",
      "staging/yellow_taxi/metadata/00000-ae874524-b096-412f-8cb1-0c4760d6b2e9.metadata.json 3KB\n",
      "staging/yellow_taxi/metadata/00001-eeaf7be4-5a21-4c31-92cb-58020f16f80e.metadata.json 4KB\n",
      "staging/yellow_taxi/metadata/00002-0d55e1eb-df22-4269-a036-dde4cb852f3a.metadata.json 6KB\n",
      "staging/yellow_taxi/metadata/00003-b1914d19-e499-4aee-b269-01e0ddb3ee06.metadata.json 7KB\n",
      "staging/yellow_taxi/metadata/00004-1445a277-66ab-4dd5-a560-95ebb1a3ec50.metadata.json 8KB\n",
      "staging/yellow_taxi/metadata/00005-4bdc158c-6655-456c-af82-8218a120897f.metadata.json 9KB\n",
      "staging/yellow_taxi/metadata/00006-7cfafdbe-76f1-49c2-a3af-c2ad63d090ac.metadata.json 10KB\n",
      "staging/yellow_taxi/metadata/85d522bf-4df1-48bb-bd49-bf17e4763200-m0.avro 8KB\n",
      "staging/yellow_taxi/metadata/85d522bf-4df1-48bb-bd49-bf17e4763200-m1.avro 8KB\n",
      "staging/yellow_taxi/metadata/873ac6bd-c08d-4a8b-810f-8a648bf2f782-m0.avro 8KB\n",
      "staging/yellow_taxi/metadata/873ac6bd-c08d-4a8b-810f-8a648bf2f782-m1.avro 9KB\n",
      "staging/yellow_taxi/metadata/ab4678a7-c205-4a14-ac42-eceebd074368-m0.avro 8KB\n",
      "staging/yellow_taxi/metadata/db751d43-5f5e-4353-b847-bbd9bd57b54c-m0.avro 8KB\n",
      "staging/yellow_taxi/metadata/optimized-m-b87a355b-b783-4b22-be22-d41d6d2c7d39.avro 9KB\n",
      "staging/yellow_taxi/metadata/snap-3219656268123285048-1-8e97d062-6837-4197-a15d-29885e927f25.avro 4KB\n",
      "staging/yellow_taxi/metadata/snap-4596078438615030908-1-ab4678a7-c205-4a14-ac42-eceebd074368.avro 4KB\n",
      "staging/yellow_taxi/metadata/snap-5363513689733971433-1-db751d43-5f5e-4353-b847-bbd9bd57b54c.avro 4KB\n",
      "staging/yellow_taxi/metadata/snap-7734203308380970130-1-873ac6bd-c08d-4a8b-810f-8a648bf2f782.avro 4KB\n",
      "staging/yellow_taxi/metadata/snap-9160540137384676132-1-85d522bf-4df1-48bb-bd49-bf17e4763200.avro 4KB\n"
     ]
    }
   ],
   "source": [
    "print_objects_in_warehouse(\"warehouse\")"
   ]
  },
  {
   "cell_type": "code",
   "execution_count": 23,
   "id": "e02c89ef-1883-4c1b-893e-7a045a770247",
   "metadata": {},
   "outputs": [
    {
     "data": {
      "text/html": [
       "<table>\n",
       "    <thead>\n",
       "        <tr>\n",
       "            <th>committed_at</th>\n",
       "            <th>snapshot_id</th>\n",
       "            <th>parent_id</th>\n",
       "            <th>operation</th>\n",
       "            <th>manifest_list</th>\n",
       "            <th>summary</th>\n",
       "        </tr>\n",
       "    </thead>\n",
       "    <tbody>\n",
       "        <tr>\n",
       "            <td>2024-03-29 16:29:17.832000</td>\n",
       "            <td>583487472890318615</td>\n",
       "            <td>None</td>\n",
       "            <td>append</td>\n",
       "            <td>s3://warehouse/staging/dim_rates/metadata/snap-583487472890318615-1-046a43a1-bc96-46d9-a58e-0c901b028409.avro</td>\n",
       "            <td>{&#x27;spark.app.id&#x27;: &#x27;local-1711729589378&#x27;, &#x27;changed-partition-count&#x27;: &#x27;1&#x27;, &#x27;added-data-files&#x27;: &#x27;1&#x27;, &#x27;total-equality-deletes&#x27;: &#x27;0&#x27;, &#x27;added-records&#x27;: &#x27;6&#x27;, &#x27;total-position-deletes&#x27;: &#x27;0&#x27;, &#x27;added-files-size&#x27;: &#x27;793&#x27;, &#x27;total-delete-files&#x27;: &#x27;0&#x27;, &#x27;total-files-size&#x27;: &#x27;793&#x27;, &#x27;total-records&#x27;: &#x27;6&#x27;, &#x27;total-data-files&#x27;: &#x27;1&#x27;}</td>\n",
       "        </tr>\n",
       "        <tr>\n",
       "            <td>2024-03-29 16:41:02.850000</td>\n",
       "            <td>8545696951471959109</td>\n",
       "            <td>583487472890318615</td>\n",
       "            <td>overwrite</td>\n",
       "            <td>s3://warehouse/staging/dim_rates/metadata/snap-8545696951471959109-1-e18d0e0d-f825-4a8d-a896-64aa981a5c73.avro</td>\n",
       "            <td>{&#x27;added-data-files&#x27;: &#x27;1&#x27;, &#x27;total-equality-deletes&#x27;: &#x27;0&#x27;, &#x27;added-records&#x27;: &#x27;7&#x27;, &#x27;deleted-data-files&#x27;: &#x27;1&#x27;, &#x27;deleted-records&#x27;: &#x27;6&#x27;, &#x27;total-records&#x27;: &#x27;7&#x27;, &#x27;spark.app.id&#x27;: &#x27;local-1711729589378&#x27;, &#x27;removed-files-size&#x27;: &#x27;793&#x27;, &#x27;changed-partition-count&#x27;: &#x27;1&#x27;, &#x27;total-position-deletes&#x27;: &#x27;0&#x27;, &#x27;added-files-size&#x27;: &#x27;791&#x27;, &#x27;total-delete-files&#x27;: &#x27;0&#x27;, &#x27;total-files-size&#x27;: &#x27;791&#x27;, &#x27;total-data-files&#x27;: &#x27;1&#x27;}</td>\n",
       "        </tr>\n",
       "        <tr>\n",
       "            <td>2024-03-29 16:41:35.888000</td>\n",
       "            <td>2261648511033844294</td>\n",
       "            <td>8545696951471959109</td>\n",
       "            <td>overwrite</td>\n",
       "            <td>s3://warehouse/staging/dim_rates/metadata/snap-2261648511033844294-1-c5dcd486-ec45-41bf-b113-86c4ccc81e63.avro</td>\n",
       "            <td>{&#x27;added-data-files&#x27;: &#x27;1&#x27;, &#x27;total-equality-deletes&#x27;: &#x27;0&#x27;, &#x27;added-records&#x27;: &#x27;6&#x27;, &#x27;deleted-data-files&#x27;: &#x27;1&#x27;, &#x27;deleted-records&#x27;: &#x27;7&#x27;, &#x27;total-records&#x27;: &#x27;6&#x27;, &#x27;spark.app.id&#x27;: &#x27;local-1711729589378&#x27;, &#x27;removed-files-size&#x27;: &#x27;791&#x27;, &#x27;changed-partition-count&#x27;: &#x27;1&#x27;, &#x27;total-position-deletes&#x27;: &#x27;0&#x27;, &#x27;added-files-size&#x27;: &#x27;775&#x27;, &#x27;total-delete-files&#x27;: &#x27;0&#x27;, &#x27;total-files-size&#x27;: &#x27;775&#x27;, &#x27;total-data-files&#x27;: &#x27;1&#x27;}</td>\n",
       "        </tr>\n",
       "    </tbody>\n",
       "</table>"
      ],
      "text/plain": [
       "+----------------------------+---------------------+---------------------+-----------+----------------------------------------------------------------------------------------------------------------+------------------------------------------------------------------------------------------------------------------------------------------------------------------------------------------------------------------------------------------------------------------------------------------------------------------------------------------------------------------------------------------------------+\n",
       "|               committed_at |         snapshot_id |           parent_id | operation |                                                                                                  manifest_list |                                                                                                                                                                                                                                                                                                                                                                                              summary |\n",
       "+----------------------------+---------------------+---------------------+-----------+----------------------------------------------------------------------------------------------------------------+------------------------------------------------------------------------------------------------------------------------------------------------------------------------------------------------------------------------------------------------------------------------------------------------------------------------------------------------------------------------------------------------------+\n",
       "| 2024-03-29 16:29:17.832000 |  583487472890318615 |                None |    append |  s3://warehouse/staging/dim_rates/metadata/snap-583487472890318615-1-046a43a1-bc96-46d9-a58e-0c901b028409.avro |                                                                                 {'spark.app.id': 'local-1711729589378', 'changed-partition-count': '1', 'added-data-files': '1', 'total-equality-deletes': '0', 'added-records': '6', 'total-position-deletes': '0', 'added-files-size': '793', 'total-delete-files': '0', 'total-files-size': '793', 'total-records': '6', 'total-data-files': '1'} |\n",
       "| 2024-03-29 16:41:02.850000 | 8545696951471959109 |  583487472890318615 | overwrite | s3://warehouse/staging/dim_rates/metadata/snap-8545696951471959109-1-e18d0e0d-f825-4a8d-a896-64aa981a5c73.avro | {'added-data-files': '1', 'total-equality-deletes': '0', 'added-records': '7', 'deleted-data-files': '1', 'deleted-records': '6', 'total-records': '7', 'spark.app.id': 'local-1711729589378', 'removed-files-size': '793', 'changed-partition-count': '1', 'total-position-deletes': '0', 'added-files-size': '791', 'total-delete-files': '0', 'total-files-size': '791', 'total-data-files': '1'} |\n",
       "| 2024-03-29 16:41:35.888000 | 2261648511033844294 | 8545696951471959109 | overwrite | s3://warehouse/staging/dim_rates/metadata/snap-2261648511033844294-1-c5dcd486-ec45-41bf-b113-86c4ccc81e63.avro | {'added-data-files': '1', 'total-equality-deletes': '0', 'added-records': '6', 'deleted-data-files': '1', 'deleted-records': '7', 'total-records': '6', 'spark.app.id': 'local-1711729589378', 'removed-files-size': '791', 'changed-partition-count': '1', 'total-position-deletes': '0', 'added-files-size': '775', 'total-delete-files': '0', 'total-files-size': '775', 'total-data-files': '1'} |\n",
       "+----------------------------+---------------------+---------------------+-----------+----------------------------------------------------------------------------------------------------------------+------------------------------------------------------------------------------------------------------------------------------------------------------------------------------------------------------------------------------------------------------------------------------------------------------------------------------------------------------------------------------------------------------+"
      ]
     },
     "execution_count": 23,
     "metadata": {},
     "output_type": "execute_result"
    }
   ],
   "source": [
    "%%sql\n",
    "\n",
    "select * from staging.dim_rates.snapshots"
   ]
  },
  {
   "cell_type": "code",
   "execution_count": 37,
   "id": "3ab43ecc-b8e5-44aa-b7cc-4ee47691e33f",
   "metadata": {},
   "outputs": [
    {
     "ename": "AnalysisException",
     "evalue": "[TABLE_OR_VIEW_ALREADY_EXISTS] Cannot create table or view `staging`.`dim_rates_mor` because it already exists.\nChoose a different name, drop or replace the existing object, or add the IF NOT EXISTS clause to tolerate pre-existing objects.",
     "output_type": "error",
     "traceback": [
      "\u001b[0;31m---------------------------------------------------------------------------\u001b[0m",
      "\u001b[0;31mAnalysisException\u001b[0m                         Traceback (most recent call last)",
      "Cell \u001b[0;32mIn[37], line 1\u001b[0m\n\u001b[0;32m----> 1\u001b[0m \u001b[43mget_ipython\u001b[49m\u001b[43m(\u001b[49m\u001b[43m)\u001b[49m\u001b[38;5;241;43m.\u001b[39;49m\u001b[43mrun_cell_magic\u001b[49m\u001b[43m(\u001b[49m\u001b[38;5;124;43m'\u001b[39;49m\u001b[38;5;124;43msql\u001b[39;49m\u001b[38;5;124;43m'\u001b[39;49m\u001b[43m,\u001b[49m\u001b[43m \u001b[49m\u001b[38;5;124;43m'\u001b[39;49m\u001b[38;5;124;43m'\u001b[39;49m\u001b[43m,\u001b[49m\u001b[43m \u001b[49m\u001b[38;5;124;43m\"\u001b[39;49m\u001b[38;5;124;43mCREATE TABLE staging.dim_rates_mor (\u001b[39;49m\u001b[38;5;130;43;01m\\n\u001b[39;49;00m\u001b[38;5;124;43m    rate_code_id string,\u001b[39;49m\u001b[38;5;130;43;01m\\n\u001b[39;49;00m\u001b[38;5;124;43m    rate_name string\u001b[39;49m\u001b[38;5;130;43;01m\\n\u001b[39;49;00m\u001b[38;5;124;43m) TBLPROPERTIES (\u001b[39;49m\u001b[38;5;130;43;01m\\n\u001b[39;49;00m\u001b[38;5;124;43m    \u001b[39;49m\u001b[38;5;124;43m'\u001b[39;49m\u001b[38;5;124;43mwrite.delete.mode\u001b[39;49m\u001b[38;5;124;43m'\u001b[39;49m\u001b[38;5;124;43m=\u001b[39;49m\u001b[38;5;124;43m'\u001b[39;49m\u001b[38;5;124;43mmerge-on-read\u001b[39;49m\u001b[38;5;124;43m'\u001b[39;49m\u001b[38;5;124;43m,\u001b[39;49m\u001b[38;5;130;43;01m\\n\u001b[39;49;00m\u001b[38;5;124;43m    \u001b[39;49m\u001b[38;5;124;43m'\u001b[39;49m\u001b[38;5;124;43mwrite.update.mode\u001b[39;49m\u001b[38;5;124;43m'\u001b[39;49m\u001b[38;5;124;43m=\u001b[39;49m\u001b[38;5;124;43m'\u001b[39;49m\u001b[38;5;124;43mmerge-on-read\u001b[39;49m\u001b[38;5;124;43m'\u001b[39;49m\u001b[38;5;124;43m,\u001b[39;49m\u001b[38;5;130;43;01m\\n\u001b[39;49;00m\u001b[38;5;124;43m    \u001b[39;49m\u001b[38;5;124;43m'\u001b[39;49m\u001b[38;5;124;43mwrite.merge.mode\u001b[39;49m\u001b[38;5;124;43m'\u001b[39;49m\u001b[38;5;124;43m=\u001b[39;49m\u001b[38;5;124;43m'\u001b[39;49m\u001b[38;5;124;43mmerge-on-read\u001b[39;49m\u001b[38;5;124;43m'\u001b[39;49m\u001b[38;5;130;43;01m\\n\u001b[39;49;00m\u001b[38;5;124;43m)\u001b[39;49m\u001b[38;5;130;43;01m\\n\u001b[39;49;00m\u001b[38;5;124;43m/*\u001b[39;49m\u001b[38;5;130;43;01m\\n\u001b[39;49;00m\u001b[38;5;124;43mAlso an option:\u001b[39;49m\u001b[38;5;130;43;01m\\n\u001b[39;49;00m\u001b[38;5;124;43m*/\u001b[39;49m\u001b[38;5;130;43;01m\\n\u001b[39;49;00m\u001b[38;5;124;43m\"\u001b[39;49m\u001b[43m)\u001b[49m\n",
      "File \u001b[0;32m/usr/local/lib/python3.9/site-packages/IPython/core/interactiveshell.py:2517\u001b[0m, in \u001b[0;36mInteractiveShell.run_cell_magic\u001b[0;34m(self, magic_name, line, cell)\u001b[0m\n\u001b[1;32m   2515\u001b[0m \u001b[38;5;28;01mwith\u001b[39;00m \u001b[38;5;28mself\u001b[39m\u001b[38;5;241m.\u001b[39mbuiltin_trap:\n\u001b[1;32m   2516\u001b[0m     args \u001b[38;5;241m=\u001b[39m (magic_arg_s, cell)\n\u001b[0;32m-> 2517\u001b[0m     result \u001b[38;5;241m=\u001b[39m \u001b[43mfn\u001b[49m\u001b[43m(\u001b[49m\u001b[38;5;241;43m*\u001b[39;49m\u001b[43margs\u001b[49m\u001b[43m,\u001b[49m\u001b[43m \u001b[49m\u001b[38;5;241;43m*\u001b[39;49m\u001b[38;5;241;43m*\u001b[39;49m\u001b[43mkwargs\u001b[49m\u001b[43m)\u001b[49m\n\u001b[1;32m   2519\u001b[0m \u001b[38;5;66;03m# The code below prevents the output from being displayed\u001b[39;00m\n\u001b[1;32m   2520\u001b[0m \u001b[38;5;66;03m# when using magics with decorator @output_can_be_silenced\u001b[39;00m\n\u001b[1;32m   2521\u001b[0m \u001b[38;5;66;03m# when the last Python token in the expression is a ';'.\u001b[39;00m\n\u001b[1;32m   2522\u001b[0m \u001b[38;5;28;01mif\u001b[39;00m \u001b[38;5;28mgetattr\u001b[39m(fn, magic\u001b[38;5;241m.\u001b[39mMAGIC_OUTPUT_CAN_BE_SILENCED, \u001b[38;5;28;01mFalse\u001b[39;00m):\n",
      "File \u001b[0;32m~/.ipython/profile_default/startup/00-prettytables.py:81\u001b[0m, in \u001b[0;36msql\u001b[0;34m(line, cell)\u001b[0m\n\u001b[1;32m     79\u001b[0m         \u001b[38;5;28;01mreturn\u001b[39;00m _to_table(df, num_rows\u001b[38;5;241m=\u001b[39margs\u001b[38;5;241m.\u001b[39mlimit)\n\u001b[1;32m     80\u001b[0m \u001b[38;5;28;01melse\u001b[39;00m:\n\u001b[0;32m---> 81\u001b[0m     \u001b[38;5;28;01mreturn\u001b[39;00m _to_table(\u001b[43mspark\u001b[49m\u001b[38;5;241;43m.\u001b[39;49m\u001b[43msql\u001b[49m\u001b[43m(\u001b[49m\u001b[43mcell\u001b[49m\u001b[43m)\u001b[49m)\n",
      "File \u001b[0;32m/opt/spark/python/pyspark/sql/session.py:1631\u001b[0m, in \u001b[0;36mSparkSession.sql\u001b[0;34m(self, sqlQuery, args, **kwargs)\u001b[0m\n\u001b[1;32m   1627\u001b[0m         \u001b[38;5;28;01massert\u001b[39;00m \u001b[38;5;28mself\u001b[39m\u001b[38;5;241m.\u001b[39m_jvm \u001b[38;5;129;01mis\u001b[39;00m \u001b[38;5;129;01mnot\u001b[39;00m \u001b[38;5;28;01mNone\u001b[39;00m\n\u001b[1;32m   1628\u001b[0m         litArgs \u001b[38;5;241m=\u001b[39m \u001b[38;5;28mself\u001b[39m\u001b[38;5;241m.\u001b[39m_jvm\u001b[38;5;241m.\u001b[39mPythonUtils\u001b[38;5;241m.\u001b[39mtoArray(\n\u001b[1;32m   1629\u001b[0m             [_to_java_column(lit(v)) \u001b[38;5;28;01mfor\u001b[39;00m v \u001b[38;5;129;01min\u001b[39;00m (args \u001b[38;5;129;01mor\u001b[39;00m [])]\n\u001b[1;32m   1630\u001b[0m         )\n\u001b[0;32m-> 1631\u001b[0m     \u001b[38;5;28;01mreturn\u001b[39;00m DataFrame(\u001b[38;5;28;43mself\u001b[39;49m\u001b[38;5;241;43m.\u001b[39;49m\u001b[43m_jsparkSession\u001b[49m\u001b[38;5;241;43m.\u001b[39;49m\u001b[43msql\u001b[49m\u001b[43m(\u001b[49m\u001b[43msqlQuery\u001b[49m\u001b[43m,\u001b[49m\u001b[43m \u001b[49m\u001b[43mlitArgs\u001b[49m\u001b[43m)\u001b[49m, \u001b[38;5;28mself\u001b[39m)\n\u001b[1;32m   1632\u001b[0m \u001b[38;5;28;01mfinally\u001b[39;00m:\n\u001b[1;32m   1633\u001b[0m     \u001b[38;5;28;01mif\u001b[39;00m \u001b[38;5;28mlen\u001b[39m(kwargs) \u001b[38;5;241m>\u001b[39m \u001b[38;5;241m0\u001b[39m:\n",
      "File \u001b[0;32m/opt/spark/python/lib/py4j-0.10.9.7-src.zip/py4j/java_gateway.py:1322\u001b[0m, in \u001b[0;36mJavaMember.__call__\u001b[0;34m(self, *args)\u001b[0m\n\u001b[1;32m   1316\u001b[0m command \u001b[38;5;241m=\u001b[39m proto\u001b[38;5;241m.\u001b[39mCALL_COMMAND_NAME \u001b[38;5;241m+\u001b[39m\\\n\u001b[1;32m   1317\u001b[0m     \u001b[38;5;28mself\u001b[39m\u001b[38;5;241m.\u001b[39mcommand_header \u001b[38;5;241m+\u001b[39m\\\n\u001b[1;32m   1318\u001b[0m     args_command \u001b[38;5;241m+\u001b[39m\\\n\u001b[1;32m   1319\u001b[0m     proto\u001b[38;5;241m.\u001b[39mEND_COMMAND_PART\n\u001b[1;32m   1321\u001b[0m answer \u001b[38;5;241m=\u001b[39m \u001b[38;5;28mself\u001b[39m\u001b[38;5;241m.\u001b[39mgateway_client\u001b[38;5;241m.\u001b[39msend_command(command)\n\u001b[0;32m-> 1322\u001b[0m return_value \u001b[38;5;241m=\u001b[39m \u001b[43mget_return_value\u001b[49m\u001b[43m(\u001b[49m\n\u001b[1;32m   1323\u001b[0m \u001b[43m    \u001b[49m\u001b[43manswer\u001b[49m\u001b[43m,\u001b[49m\u001b[43m \u001b[49m\u001b[38;5;28;43mself\u001b[39;49m\u001b[38;5;241;43m.\u001b[39;49m\u001b[43mgateway_client\u001b[49m\u001b[43m,\u001b[49m\u001b[43m \u001b[49m\u001b[38;5;28;43mself\u001b[39;49m\u001b[38;5;241;43m.\u001b[39;49m\u001b[43mtarget_id\u001b[49m\u001b[43m,\u001b[49m\u001b[43m \u001b[49m\u001b[38;5;28;43mself\u001b[39;49m\u001b[38;5;241;43m.\u001b[39;49m\u001b[43mname\u001b[49m\u001b[43m)\u001b[49m\n\u001b[1;32m   1325\u001b[0m \u001b[38;5;28;01mfor\u001b[39;00m temp_arg \u001b[38;5;129;01min\u001b[39;00m temp_args:\n\u001b[1;32m   1326\u001b[0m     \u001b[38;5;28;01mif\u001b[39;00m \u001b[38;5;28mhasattr\u001b[39m(temp_arg, \u001b[38;5;124m\"\u001b[39m\u001b[38;5;124m_detach\u001b[39m\u001b[38;5;124m\"\u001b[39m):\n",
      "File \u001b[0;32m/opt/spark/python/pyspark/errors/exceptions/captured.py:185\u001b[0m, in \u001b[0;36mcapture_sql_exception.<locals>.deco\u001b[0;34m(*a, **kw)\u001b[0m\n\u001b[1;32m    181\u001b[0m converted \u001b[38;5;241m=\u001b[39m convert_exception(e\u001b[38;5;241m.\u001b[39mjava_exception)\n\u001b[1;32m    182\u001b[0m \u001b[38;5;28;01mif\u001b[39;00m \u001b[38;5;129;01mnot\u001b[39;00m \u001b[38;5;28misinstance\u001b[39m(converted, UnknownException):\n\u001b[1;32m    183\u001b[0m     \u001b[38;5;66;03m# Hide where the exception came from that shows a non-Pythonic\u001b[39;00m\n\u001b[1;32m    184\u001b[0m     \u001b[38;5;66;03m# JVM exception message.\u001b[39;00m\n\u001b[0;32m--> 185\u001b[0m     \u001b[38;5;28;01mraise\u001b[39;00m converted \u001b[38;5;28;01mfrom\u001b[39;00m \u001b[38;5;28;01mNone\u001b[39;00m\n\u001b[1;32m    186\u001b[0m \u001b[38;5;28;01melse\u001b[39;00m:\n\u001b[1;32m    187\u001b[0m     \u001b[38;5;28;01mraise\u001b[39;00m\n",
      "\u001b[0;31mAnalysisException\u001b[0m: [TABLE_OR_VIEW_ALREADY_EXISTS] Cannot create table or view `staging`.`dim_rates_mor` because it already exists.\nChoose a different name, drop or replace the existing object, or add the IF NOT EXISTS clause to tolerate pre-existing objects."
     ]
    }
   ],
   "source": [
    "%%sql\n",
    "CREATE TABLE staging.dim_rates_mor (\n",
    "    rate_code_id string,\n",
    "    rate_name string\n",
    ") TBLPROPERTIES (\n",
    "    'write.delete.mode'='merge-on-read',\n",
    "    'write.update.mode'='merge-on-read',\n",
    "    'write.merge.mode'='merge-on-read'\n",
    ")\n",
    "/*\n",
    "Also an option:\n",
    "ALTER TABLE catalog.db.students SET TBLPROPERTIES (\n",
    "    'write.delete.mode'='merge-on-read',\n",
    "    'write.update.mode'='copy-on-write',\n",
    "    'write.merge.mode'='copy-on-write'\n",
    ");\n",
    "*/"
   ]
  },
  {
   "cell_type": "code",
   "execution_count": 36,
   "id": "a35ca954-3a86-4505-ba5f-1bb891b0912c",
   "metadata": {},
   "outputs": [
    {
     "data": {
      "text/html": [
       "<table>\n",
       "    <thead>\n",
       "        <tr>\n",
       "        </tr>\n",
       "    </thead>\n",
       "    <tbody>\n",
       "    </tbody>\n",
       "</table>"
      ],
      "text/plain": [
       "++\n",
       "||\n",
       "++\n",
       "++"
      ]
     },
     "execution_count": 36,
     "metadata": {},
     "output_type": "execute_result"
    }
   ],
   "source": [
    "%%sql\n",
    "insert into staging.dim_rates_mor (rate_code_id, rate_name) select rate_code_id, rate_name from staging.dim_rates"
   ]
  },
  {
   "cell_type": "code",
   "execution_count": null,
   "id": "42b6c1c2-1a5c-4d93-9017-1112aef2cba6",
   "metadata": {},
   "outputs": [],
   "source": [
    "print_objects_in_warehouse(\"warehouse\")"
   ]
  },
  {
   "cell_type": "code",
   "execution_count": 38,
   "id": "7639cf7f-9ab5-4c34-a17e-245241e7baa7",
   "metadata": {},
   "outputs": [
    {
     "data": {
      "text/html": [
       "<table>\n",
       "    <thead>\n",
       "        <tr>\n",
       "        </tr>\n",
       "    </thead>\n",
       "    <tbody>\n",
       "    </tbody>\n",
       "</table>"
      ],
      "text/plain": [
       "++\n",
       "||\n",
       "++\n",
       "++"
      ]
     },
     "execution_count": 38,
     "metadata": {},
     "output_type": "execute_result"
    }
   ],
   "source": [
    "%%sql\n",
    "MERGE INTO staging.dim_rates_mor t\n",
    "USING (SELECT rate_code_id, rate_name from staging.updated_dim_rates) s          \n",
    "ON t.rate_code_id = s.rate_code_id\n",
    "WHEN MATCHED and s.rate_name!=t.rate_name THEN UPDATE SET t.rate_name = s.rate_name\n",
    "WHEN NOT MATCHED BY TARGET THEN INSERT *\n",
    "WHEN NOT MATCHED BY SOURCE THEN DELETE"
   ]
  },
  {
   "cell_type": "code",
   "execution_count": 39,
   "id": "e7dc3a99-f80d-4e23-95cf-5c362fe5352f",
   "metadata": {},
   "outputs": [
    {
     "data": {
      "text/html": [
       "<table>\n",
       "    <thead>\n",
       "        <tr>\n",
       "            <th>rate_code_id</th>\n",
       "            <th>rate_name</th>\n",
       "        </tr>\n",
       "    </thead>\n",
       "    <tbody>\n",
       "        <tr>\n",
       "            <td>2</td>\n",
       "            <td>JFK</td>\n",
       "        </tr>\n",
       "        <tr>\n",
       "            <td>3</td>\n",
       "            <td>Newark</td>\n",
       "        </tr>\n",
       "        <tr>\n",
       "            <td>4</td>\n",
       "            <td>New Rate Name</td>\n",
       "        </tr>\n",
       "        <tr>\n",
       "            <td>5</td>\n",
       "            <td>Negotiated fare</td>\n",
       "        </tr>\n",
       "        <tr>\n",
       "            <td>6</td>\n",
       "            <td>Group ride</td>\n",
       "        </tr>\n",
       "        <tr>\n",
       "            <td>99</td>\n",
       "            <td>Unknown</td>\n",
       "        </tr>\n",
       "    </tbody>\n",
       "</table>"
      ],
      "text/plain": [
       "+--------------+-----------------+\n",
       "| rate_code_id |       rate_name |\n",
       "+--------------+-----------------+\n",
       "|            2 |             JFK |\n",
       "|            3 |          Newark |\n",
       "|            4 |   New Rate Name |\n",
       "|            5 | Negotiated fare |\n",
       "|            6 |      Group ride |\n",
       "|           99 |         Unknown |\n",
       "+--------------+-----------------+"
      ]
     },
     "execution_count": 39,
     "metadata": {},
     "output_type": "execute_result"
    }
   ],
   "source": [
    "%%sql\n",
    "select * from staging.dim_rates_mor"
   ]
  },
  {
   "cell_type": "code",
   "execution_count": 40,
   "id": "cc5b4719-cb30-4a48-a128-5b2e78888058",
   "metadata": {},
   "outputs": [
    {
     "name": "stdout",
     "output_type": "stream",
     "text": [
      "staging/aggregated_taxi_per_vendor_date/data/00000-11-146c816e-61d7-46da-a5d1-03a145d3fa47-0-00001.parquet 2KB\n",
      "staging/aggregated_taxi_per_vendor_date/data/00000-6-b17d2ddd-2a29-4028-a76f-7e2c7da36fc5-0-00001.parquet 2KB\n",
      "staging/aggregated_taxi_per_vendor_date/metadata/00000-b129cac9-ca9f-4f77-ba35-210754c0eddb.metadata.json 2KB\n",
      "staging/aggregated_taxi_per_vendor_date/metadata/00001-4b6805a8-9ab9-4874-b2df-81a97e5fd3f5.metadata.json 2KB\n",
      "staging/aggregated_taxi_per_vendor_date/metadata/00002-f3247c59-464a-4456-bd4b-61c7238ee394.metadata.json 2KB\n",
      "staging/aggregated_taxi_per_vendor_date/metadata/00003-e7c6e6ea-92ed-4f00-952d-d35af8047289.metadata.json 3KB\n",
      "staging/aggregated_taxi_per_vendor_date/metadata/00004-1825cd1d-addf-42e4-84c6-430ee85caf14.metadata.json 3KB\n",
      "staging/aggregated_taxi_per_vendor_date/metadata/1a4bcaf0-6855-4316-9a69-42b4963917ef-m0.avro 6KB\n",
      "staging/aggregated_taxi_per_vendor_date/metadata/1a4bcaf0-6855-4316-9a69-42b4963917ef-m1.avro 6KB\n",
      "staging/aggregated_taxi_per_vendor_date/metadata/c799410c-53a8-4f54-b21d-064c838960bd-m0.avro 6KB\n",
      "staging/aggregated_taxi_per_vendor_date/metadata/snap-1079450372298633771-1-1a4bcaf0-6855-4316-9a69-42b4963917ef.avro 4KB\n",
      "staging/aggregated_taxi_per_vendor_date/metadata/snap-4722644808567071556-1-c799410c-53a8-4f54-b21d-064c838960bd.avro 4KB\n",
      "staging/dim_payments/data/00000-6-f2a245f3-cab0-4f06-b700-375e654329f9-0-00001.parquet 0KB\n",
      "staging/dim_payments/metadata/00000-cb4d3a1a-852d-4686-a46a-6cd0195dfa74.metadata.json 1KB\n",
      "staging/dim_payments/metadata/75f5d5b0-c8bc-4f41-8e14-35f8ff68b60b-m0.avro 6KB\n",
      "staging/dim_payments/metadata/snap-2960256292447604384-1-75f5d5b0-c8bc-4f41-8e14-35f8ff68b60b.avro 4KB\n",
      "staging/dim_rates/data/00000-27-8c174145-8336-433b-9396-6aaec7783a53-0-00001.parquet 0KB\n",
      "staging/dim_rates/data/00000-31-d6524f50-88fd-4573-a41e-1029452d8e8e-0-00001.parquet 0KB\n",
      "staging/dim_rates/data/00000-5-c122a974-a9b6-44da-97ba-fc9bd79dba33-0-00001.parquet 0KB\n",
      "staging/dim_rates/metadata/00000-33e6d790-16c6-4d70-9569-06cb74afce15.metadata.json 1KB\n",
      "staging/dim_rates/metadata/00001-2b0472fb-3e34-4f8b-9996-b0bb2386f561.metadata.json 3KB\n",
      "staging/dim_rates/metadata/00002-7b643686-ca02-4af4-a1fd-8cd24080817b.metadata.json 4KB\n",
      "staging/dim_rates/metadata/046a43a1-bc96-46d9-a58e-0c901b028409-m0.avro 6KB\n",
      "staging/dim_rates/metadata/c5dcd486-ec45-41bf-b113-86c4ccc81e63-m0.avro 6KB\n",
      "staging/dim_rates/metadata/c5dcd486-ec45-41bf-b113-86c4ccc81e63-m1.avro 6KB\n",
      "staging/dim_rates/metadata/e18d0e0d-f825-4a8d-a896-64aa981a5c73-m0.avro 6KB\n",
      "staging/dim_rates/metadata/e18d0e0d-f825-4a8d-a896-64aa981a5c73-m1.avro 6KB\n",
      "staging/dim_rates/metadata/snap-2261648511033844294-1-c5dcd486-ec45-41bf-b113-86c4ccc81e63.avro 4KB\n",
      "staging/dim_rates/metadata/snap-583487472890318615-1-046a43a1-bc96-46d9-a58e-0c901b028409.avro 4KB\n",
      "staging/dim_rates/metadata/snap-8545696951471959109-1-e18d0e0d-f825-4a8d-a896-64aa981a5c73.avro 4KB\n",
      "staging/dim_rates_cow/metadata/00000-cd3a9d56-2528-46bd-b61d-98775d5efe70.metadata.json 1KB\n",
      "staging/dim_rates_cow/metadata/00000-ff348375-610a-4485-9c91-9bd8a74d97b7.metadata.json 1KB\n",
      "staging/dim_rates_mor/data/00000-34-134ed6ce-97a3-4306-9ee0-54c7ec581ef9-0-00001.parquet 0KB\n",
      "staging/dim_rates_mor/metadata/00000-a5834d35-4e93-4ce4-a4c7-aa288fcab89a.metadata.json 1KB\n",
      "staging/dim_rates_mor/metadata/00000-d5f354bf-9c21-490c-a370-1b7e0006efa1.metadata.json 1KB\n",
      "staging/dim_rates_mor/metadata/00001-6de49c6b-0ab9-4505-8f2f-05a87130515d.metadata.json 2KB\n",
      "staging/dim_rates_mor/metadata/00002-61c100e9-52fa-42dd-a30b-52daad60327e.metadata.json 3KB\n",
      "staging/dim_rates_mor/metadata/0419e254-a4ef-4337-afbc-d2df06d5b622-m0.avro 6KB\n",
      "staging/dim_rates_mor/metadata/snap-3696534532638900315-1-0419e254-a4ef-4337-afbc-d2df06d5b622.avro 4KB\n",
      "staging/dim_rates_mor/metadata/snap-8405991186033570598-1-c9c62a5e-794f-433f-94a7-9eafb1bf633e.avro 4KB\n",
      "staging/dim_taxi_zones/data/00000-4-f2a2344d-dcee-48c1-9b62-bf65bc33b5c0-0-00001.parquet 4KB\n",
      "staging/dim_taxi_zones/metadata/00000-672975e2-a8d0-478a-a50f-f57ad5919411.metadata.json 2KB\n",
      "staging/dim_taxi_zones/metadata/ac8d06f6-b80e-458f-9a04-2f28a7ebf10d-m0.avro 6KB\n",
      "staging/dim_taxi_zones/metadata/snap-5365242866861921269-1-ac8d06f6-b80e-458f-9a04-2f28a7ebf10d.avro 4KB\n",
      "staging/dim_vendor/data/00000-7-39737aa8-3530-4903-ae77-de2ac2f37651-0-00001.parquet 0KB\n",
      "staging/dim_vendor/metadata/00000-cd90fd1a-6879-4882-8e8a-08a892ae5964.metadata.json 1KB\n",
      "staging/dim_vendor/metadata/1936087c-1a34-4a50-930b-42e2600cab3d-m0.avro 6KB\n",
      "staging/dim_vendor/metadata/snap-4138246450324081394-1-1936087c-1a34-4a50-930b-42e2600cab3d.avro 4KB\n",
      "staging/updated_dim_rates/data/00000-17-2faf4755-6f47-4b90-b0b8-fa79a59a97a6-0-00001.parquet 0KB\n",
      "staging/updated_dim_rates/data/00004-21-2faf4755-6f47-4b90-b0b8-fa79a59a97a6-0-00001.parquet 0KB\n",
      "staging/updated_dim_rates/metadata/00000-35316fd6-b26f-4ac5-9111-4b63aa9e5e8d.metadata.json 1KB\n",
      "staging/updated_dim_rates/metadata/ae3c47a4-4d5e-417a-b8f7-4992f64d8eac-m0.avro 6KB\n",
      "staging/updated_dim_rates/metadata/snap-1195512388729119133-1-ae3c47a4-4d5e-417a-b8f7-4992f64d8eac.avro 4KB\n",
      "staging/yellow_taxi/data/00000-1-afaa0077-0731-4fd4-aed0-619421755d83-0-00001.parquet 37251KB\n",
      "staging/yellow_taxi/data/00000-19-32e77607-82db-49c4-be96-67f47ec17724-0-00001.parquet 36874KB\n",
      "staging/yellow_taxi/data/00000-2-4ec7c95b-1bcf-4247-838a-5168cca43043-0-00001.parquet 17295KB\n",
      "staging/yellow_taxi/data/00000-2-4ec7c95b-1bcf-4247-838a-5168cca43043-0-00002.parquet 17373KB\n",
      "staging/yellow_taxi/data/00000-2-4ec7c95b-1bcf-4247-838a-5168cca43043-0-00003.parquet 3525KB\n",
      "staging/yellow_taxi/data/00000-5-3664f8f3-589d-44da-955f-cb1749f3a64a-0-00001.parquet 37251KB\n",
      "staging/yellow_taxi/data/00001-2-afaa0077-0731-4fd4-aed0-619421755d83-0-00001.parquet 44630KB\n",
      "staging/yellow_taxi/data/00001-20-32e77607-82db-49c4-be96-67f47ec17724-0-00001.parquet 44147KB\n",
      "staging/yellow_taxi/data/00001-3-4ec7c95b-1bcf-4247-838a-5168cca43043-0-00001.parquet 17292KB\n",
      "staging/yellow_taxi/data/00001-3-4ec7c95b-1bcf-4247-838a-5168cca43043-0-00002.parquet 17265KB\n",
      "staging/yellow_taxi/data/00001-3-4ec7c95b-1bcf-4247-838a-5168cca43043-0-00003.parquet 10519KB\n",
      "staging/yellow_taxi/data/00001-6-3664f8f3-589d-44da-955f-cb1749f3a64a-0-00001.parquet 44630KB\n",
      "staging/yellow_taxi/metadata/00000-ae874524-b096-412f-8cb1-0c4760d6b2e9.metadata.json 3KB\n",
      "staging/yellow_taxi/metadata/00001-eeaf7be4-5a21-4c31-92cb-58020f16f80e.metadata.json 4KB\n",
      "staging/yellow_taxi/metadata/00002-0d55e1eb-df22-4269-a036-dde4cb852f3a.metadata.json 6KB\n",
      "staging/yellow_taxi/metadata/00003-b1914d19-e499-4aee-b269-01e0ddb3ee06.metadata.json 7KB\n",
      "staging/yellow_taxi/metadata/00004-1445a277-66ab-4dd5-a560-95ebb1a3ec50.metadata.json 8KB\n",
      "staging/yellow_taxi/metadata/00005-4bdc158c-6655-456c-af82-8218a120897f.metadata.json 9KB\n",
      "staging/yellow_taxi/metadata/00006-7cfafdbe-76f1-49c2-a3af-c2ad63d090ac.metadata.json 10KB\n",
      "staging/yellow_taxi/metadata/85d522bf-4df1-48bb-bd49-bf17e4763200-m0.avro 8KB\n",
      "staging/yellow_taxi/metadata/85d522bf-4df1-48bb-bd49-bf17e4763200-m1.avro 8KB\n",
      "staging/yellow_taxi/metadata/873ac6bd-c08d-4a8b-810f-8a648bf2f782-m0.avro 8KB\n",
      "staging/yellow_taxi/metadata/873ac6bd-c08d-4a8b-810f-8a648bf2f782-m1.avro 9KB\n",
      "staging/yellow_taxi/metadata/ab4678a7-c205-4a14-ac42-eceebd074368-m0.avro 8KB\n",
      "staging/yellow_taxi/metadata/db751d43-5f5e-4353-b847-bbd9bd57b54c-m0.avro 8KB\n",
      "staging/yellow_taxi/metadata/optimized-m-b87a355b-b783-4b22-be22-d41d6d2c7d39.avro 9KB\n",
      "staging/yellow_taxi/metadata/snap-3219656268123285048-1-8e97d062-6837-4197-a15d-29885e927f25.avro 4KB\n",
      "staging/yellow_taxi/metadata/snap-4596078438615030908-1-ab4678a7-c205-4a14-ac42-eceebd074368.avro 4KB\n",
      "staging/yellow_taxi/metadata/snap-5363513689733971433-1-db751d43-5f5e-4353-b847-bbd9bd57b54c.avro 4KB\n",
      "staging/yellow_taxi/metadata/snap-7734203308380970130-1-873ac6bd-c08d-4a8b-810f-8a648bf2f782.avro 4KB\n",
      "staging/yellow_taxi/metadata/snap-9160540137384676132-1-85d522bf-4df1-48bb-bd49-bf17e4763200.avro 4KB\n"
     ]
    }
   ],
   "source": [
    "print_objects_in_warehouse(\"warehouse\")"
   ]
  },
  {
   "cell_type": "code",
   "execution_count": 43,
   "id": "89b00dfc-6fea-4c19-9959-cb883f333ae7",
   "metadata": {},
   "outputs": [
    {
     "data": {
      "text/html": [
       "<table>\n",
       "    <thead>\n",
       "        <tr>\n",
       "        </tr>\n",
       "    </thead>\n",
       "    <tbody>\n",
       "    </tbody>\n",
       "</table>"
      ],
      "text/plain": [
       "++\n",
       "||\n",
       "++\n",
       "++"
      ]
     },
     "execution_count": 43,
     "metadata": {},
     "output_type": "execute_result"
    }
   ],
   "source": [
    "%%sql\n",
    "CREATE TABLE staging.dim_rates_cow (\n",
    "    rate_code_id string,\n",
    "    rate_name string\n",
    ") TBLPROPERTIES (\n",
    "    'write.delete.mode'='copy-on-write',\n",
    "    'write.update.mode'='copy-on-write',\n",
    "    'write.merge.mode'='copy-on-write'\n",
    ")\n",
    "/*\n",
    "Also an option:\n",
    "ALTER TABLE catalog.db.students SET TBLPROPERTIES (\n",
    "    'write.delete.mode'='merge-on-read',\n",
    "    'write.update.mode'='copy-on-write',\n",
    "    'write.merge.mode'='copy-on-write'\n",
    ");\n",
    "*/\n"
   ]
  },
  {
   "cell_type": "code",
   "execution_count": 44,
   "id": "2063b260-732f-4996-80aa-25f35b6697e1",
   "metadata": {},
   "outputs": [
    {
     "data": {
      "text/html": [
       "<table>\n",
       "    <thead>\n",
       "        <tr>\n",
       "        </tr>\n",
       "    </thead>\n",
       "    <tbody>\n",
       "    </tbody>\n",
       "</table>"
      ],
      "text/plain": [
       "++\n",
       "||\n",
       "++\n",
       "++"
      ]
     },
     "execution_count": 44,
     "metadata": {},
     "output_type": "execute_result"
    }
   ],
   "source": [
    "%sql insert into staging.dim_rates_cow (rate_code_id, rate_name) select rate_code_id, rate_name from staging.dim_rates"
   ]
  },
  {
   "cell_type": "code",
   "execution_count": 45,
   "id": "3b0f8927-3d81-4bae-86bc-cbd7b695fa2f",
   "metadata": {},
   "outputs": [
    {
     "name": "stdout",
     "output_type": "stream",
     "text": [
      "staging/aggregated_taxi_per_vendor_date/data/00000-11-146c816e-61d7-46da-a5d1-03a145d3fa47-0-00001.parquet 2KB\n",
      "staging/aggregated_taxi_per_vendor_date/data/00000-6-b17d2ddd-2a29-4028-a76f-7e2c7da36fc5-0-00001.parquet 2KB\n",
      "staging/aggregated_taxi_per_vendor_date/metadata/00000-b129cac9-ca9f-4f77-ba35-210754c0eddb.metadata.json 2KB\n",
      "staging/aggregated_taxi_per_vendor_date/metadata/00001-4b6805a8-9ab9-4874-b2df-81a97e5fd3f5.metadata.json 2KB\n",
      "staging/aggregated_taxi_per_vendor_date/metadata/00002-f3247c59-464a-4456-bd4b-61c7238ee394.metadata.json 2KB\n",
      "staging/aggregated_taxi_per_vendor_date/metadata/00003-e7c6e6ea-92ed-4f00-952d-d35af8047289.metadata.json 3KB\n",
      "staging/aggregated_taxi_per_vendor_date/metadata/00004-1825cd1d-addf-42e4-84c6-430ee85caf14.metadata.json 3KB\n",
      "staging/aggregated_taxi_per_vendor_date/metadata/1a4bcaf0-6855-4316-9a69-42b4963917ef-m0.avro 6KB\n",
      "staging/aggregated_taxi_per_vendor_date/metadata/1a4bcaf0-6855-4316-9a69-42b4963917ef-m1.avro 6KB\n",
      "staging/aggregated_taxi_per_vendor_date/metadata/c799410c-53a8-4f54-b21d-064c838960bd-m0.avro 6KB\n",
      "staging/aggregated_taxi_per_vendor_date/metadata/snap-1079450372298633771-1-1a4bcaf0-6855-4316-9a69-42b4963917ef.avro 4KB\n",
      "staging/aggregated_taxi_per_vendor_date/metadata/snap-4722644808567071556-1-c799410c-53a8-4f54-b21d-064c838960bd.avro 4KB\n",
      "staging/dim_payments/data/00000-6-f2a245f3-cab0-4f06-b700-375e654329f9-0-00001.parquet 0KB\n",
      "staging/dim_payments/metadata/00000-cb4d3a1a-852d-4686-a46a-6cd0195dfa74.metadata.json 1KB\n",
      "staging/dim_payments/metadata/75f5d5b0-c8bc-4f41-8e14-35f8ff68b60b-m0.avro 6KB\n",
      "staging/dim_payments/metadata/snap-2960256292447604384-1-75f5d5b0-c8bc-4f41-8e14-35f8ff68b60b.avro 4KB\n",
      "staging/dim_rates/data/00000-27-8c174145-8336-433b-9396-6aaec7783a53-0-00001.parquet 0KB\n",
      "staging/dim_rates/data/00000-31-d6524f50-88fd-4573-a41e-1029452d8e8e-0-00001.parquet 0KB\n",
      "staging/dim_rates/data/00000-5-c122a974-a9b6-44da-97ba-fc9bd79dba33-0-00001.parquet 0KB\n",
      "staging/dim_rates/metadata/00000-33e6d790-16c6-4d70-9569-06cb74afce15.metadata.json 1KB\n",
      "staging/dim_rates/metadata/00001-2b0472fb-3e34-4f8b-9996-b0bb2386f561.metadata.json 3KB\n",
      "staging/dim_rates/metadata/00002-7b643686-ca02-4af4-a1fd-8cd24080817b.metadata.json 4KB\n",
      "staging/dim_rates/metadata/046a43a1-bc96-46d9-a58e-0c901b028409-m0.avro 6KB\n",
      "staging/dim_rates/metadata/c5dcd486-ec45-41bf-b113-86c4ccc81e63-m0.avro 6KB\n",
      "staging/dim_rates/metadata/c5dcd486-ec45-41bf-b113-86c4ccc81e63-m1.avro 6KB\n",
      "staging/dim_rates/metadata/e18d0e0d-f825-4a8d-a896-64aa981a5c73-m0.avro 6KB\n",
      "staging/dim_rates/metadata/e18d0e0d-f825-4a8d-a896-64aa981a5c73-m1.avro 6KB\n",
      "staging/dim_rates/metadata/snap-2261648511033844294-1-c5dcd486-ec45-41bf-b113-86c4ccc81e63.avro 4KB\n",
      "staging/dim_rates/metadata/snap-583487472890318615-1-046a43a1-bc96-46d9-a58e-0c901b028409.avro 4KB\n",
      "staging/dim_rates/metadata/snap-8545696951471959109-1-e18d0e0d-f825-4a8d-a896-64aa981a5c73.avro 4KB\n",
      "staging/dim_rates_cow/data/00000-40-7a428771-3789-4205-9f0e-d97742ba10de-0-00001.parquet 0KB\n",
      "staging/dim_rates_cow/metadata/00000-6bf0b16b-6f44-4ed8-afbb-4ecc6738cac4.metadata.json 1KB\n",
      "staging/dim_rates_cow/metadata/00000-cd3a9d56-2528-46bd-b61d-98775d5efe70.metadata.json 1KB\n",
      "staging/dim_rates_cow/metadata/00000-ff348375-610a-4485-9c91-9bd8a74d97b7.metadata.json 1KB\n",
      "staging/dim_rates_cow/metadata/00001-5477073b-8445-4a36-9fc3-8ecda50fbf03.metadata.json 2KB\n",
      "staging/dim_rates_cow/metadata/c3fab8c9-b274-49a9-8b04-256cdc02a193-m0.avro 6KB\n",
      "staging/dim_rates_cow/metadata/snap-8497108964611602789-1-c3fab8c9-b274-49a9-8b04-256cdc02a193.avro 4KB\n",
      "staging/dim_rates_mor/data/00000-34-134ed6ce-97a3-4306-9ee0-54c7ec581ef9-0-00001.parquet 0KB\n",
      "staging/dim_rates_mor/metadata/00000-a5834d35-4e93-4ce4-a4c7-aa288fcab89a.metadata.json 1KB\n",
      "staging/dim_rates_mor/metadata/00000-d5f354bf-9c21-490c-a370-1b7e0006efa1.metadata.json 1KB\n",
      "staging/dim_rates_mor/metadata/00001-6de49c6b-0ab9-4505-8f2f-05a87130515d.metadata.json 2KB\n",
      "staging/dim_rates_mor/metadata/00002-61c100e9-52fa-42dd-a30b-52daad60327e.metadata.json 3KB\n",
      "staging/dim_rates_mor/metadata/0419e254-a4ef-4337-afbc-d2df06d5b622-m0.avro 6KB\n",
      "staging/dim_rates_mor/metadata/snap-3696534532638900315-1-0419e254-a4ef-4337-afbc-d2df06d5b622.avro 4KB\n",
      "staging/dim_rates_mor/metadata/snap-8405991186033570598-1-c9c62a5e-794f-433f-94a7-9eafb1bf633e.avro 4KB\n",
      "staging/dim_taxi_zones/data/00000-4-f2a2344d-dcee-48c1-9b62-bf65bc33b5c0-0-00001.parquet 4KB\n",
      "staging/dim_taxi_zones/metadata/00000-672975e2-a8d0-478a-a50f-f57ad5919411.metadata.json 2KB\n",
      "staging/dim_taxi_zones/metadata/ac8d06f6-b80e-458f-9a04-2f28a7ebf10d-m0.avro 6KB\n",
      "staging/dim_taxi_zones/metadata/snap-5365242866861921269-1-ac8d06f6-b80e-458f-9a04-2f28a7ebf10d.avro 4KB\n",
      "staging/dim_vendor/data/00000-7-39737aa8-3530-4903-ae77-de2ac2f37651-0-00001.parquet 0KB\n",
      "staging/dim_vendor/metadata/00000-cd90fd1a-6879-4882-8e8a-08a892ae5964.metadata.json 1KB\n",
      "staging/dim_vendor/metadata/1936087c-1a34-4a50-930b-42e2600cab3d-m0.avro 6KB\n",
      "staging/dim_vendor/metadata/snap-4138246450324081394-1-1936087c-1a34-4a50-930b-42e2600cab3d.avro 4KB\n",
      "staging/updated_dim_rates/data/00000-17-2faf4755-6f47-4b90-b0b8-fa79a59a97a6-0-00001.parquet 0KB\n",
      "staging/updated_dim_rates/data/00004-21-2faf4755-6f47-4b90-b0b8-fa79a59a97a6-0-00001.parquet 0KB\n",
      "staging/updated_dim_rates/metadata/00000-35316fd6-b26f-4ac5-9111-4b63aa9e5e8d.metadata.json 1KB\n",
      "staging/updated_dim_rates/metadata/ae3c47a4-4d5e-417a-b8f7-4992f64d8eac-m0.avro 6KB\n",
      "staging/updated_dim_rates/metadata/snap-1195512388729119133-1-ae3c47a4-4d5e-417a-b8f7-4992f64d8eac.avro 4KB\n",
      "staging/yellow_taxi/data/00000-1-afaa0077-0731-4fd4-aed0-619421755d83-0-00001.parquet 37251KB\n",
      "staging/yellow_taxi/data/00000-19-32e77607-82db-49c4-be96-67f47ec17724-0-00001.parquet 36874KB\n",
      "staging/yellow_taxi/data/00000-2-4ec7c95b-1bcf-4247-838a-5168cca43043-0-00001.parquet 17295KB\n",
      "staging/yellow_taxi/data/00000-2-4ec7c95b-1bcf-4247-838a-5168cca43043-0-00002.parquet 17373KB\n",
      "staging/yellow_taxi/data/00000-2-4ec7c95b-1bcf-4247-838a-5168cca43043-0-00003.parquet 3525KB\n",
      "staging/yellow_taxi/data/00000-5-3664f8f3-589d-44da-955f-cb1749f3a64a-0-00001.parquet 37251KB\n",
      "staging/yellow_taxi/data/00001-2-afaa0077-0731-4fd4-aed0-619421755d83-0-00001.parquet 44630KB\n",
      "staging/yellow_taxi/data/00001-20-32e77607-82db-49c4-be96-67f47ec17724-0-00001.parquet 44147KB\n",
      "staging/yellow_taxi/data/00001-3-4ec7c95b-1bcf-4247-838a-5168cca43043-0-00001.parquet 17292KB\n",
      "staging/yellow_taxi/data/00001-3-4ec7c95b-1bcf-4247-838a-5168cca43043-0-00002.parquet 17265KB\n",
      "staging/yellow_taxi/data/00001-3-4ec7c95b-1bcf-4247-838a-5168cca43043-0-00003.parquet 10519KB\n",
      "staging/yellow_taxi/data/00001-6-3664f8f3-589d-44da-955f-cb1749f3a64a-0-00001.parquet 44630KB\n",
      "staging/yellow_taxi/metadata/00000-ae874524-b096-412f-8cb1-0c4760d6b2e9.metadata.json 3KB\n",
      "staging/yellow_taxi/metadata/00001-eeaf7be4-5a21-4c31-92cb-58020f16f80e.metadata.json 4KB\n",
      "staging/yellow_taxi/metadata/00002-0d55e1eb-df22-4269-a036-dde4cb852f3a.metadata.json 6KB\n",
      "staging/yellow_taxi/metadata/00003-b1914d19-e499-4aee-b269-01e0ddb3ee06.metadata.json 7KB\n",
      "staging/yellow_taxi/metadata/00004-1445a277-66ab-4dd5-a560-95ebb1a3ec50.metadata.json 8KB\n",
      "staging/yellow_taxi/metadata/00005-4bdc158c-6655-456c-af82-8218a120897f.metadata.json 9KB\n",
      "staging/yellow_taxi/metadata/00006-7cfafdbe-76f1-49c2-a3af-c2ad63d090ac.metadata.json 10KB\n",
      "staging/yellow_taxi/metadata/85d522bf-4df1-48bb-bd49-bf17e4763200-m0.avro 8KB\n",
      "staging/yellow_taxi/metadata/85d522bf-4df1-48bb-bd49-bf17e4763200-m1.avro 8KB\n",
      "staging/yellow_taxi/metadata/873ac6bd-c08d-4a8b-810f-8a648bf2f782-m0.avro 8KB\n",
      "staging/yellow_taxi/metadata/873ac6bd-c08d-4a8b-810f-8a648bf2f782-m1.avro 9KB\n",
      "staging/yellow_taxi/metadata/ab4678a7-c205-4a14-ac42-eceebd074368-m0.avro 8KB\n",
      "staging/yellow_taxi/metadata/db751d43-5f5e-4353-b847-bbd9bd57b54c-m0.avro 8KB\n",
      "staging/yellow_taxi/metadata/optimized-m-b87a355b-b783-4b22-be22-d41d6d2c7d39.avro 9KB\n",
      "staging/yellow_taxi/metadata/snap-3219656268123285048-1-8e97d062-6837-4197-a15d-29885e927f25.avro 4KB\n",
      "staging/yellow_taxi/metadata/snap-4596078438615030908-1-ab4678a7-c205-4a14-ac42-eceebd074368.avro 4KB\n",
      "staging/yellow_taxi/metadata/snap-5363513689733971433-1-db751d43-5f5e-4353-b847-bbd9bd57b54c.avro 4KB\n",
      "staging/yellow_taxi/metadata/snap-7734203308380970130-1-873ac6bd-c08d-4a8b-810f-8a648bf2f782.avro 4KB\n",
      "staging/yellow_taxi/metadata/snap-9160540137384676132-1-85d522bf-4df1-48bb-bd49-bf17e4763200.avro 4KB\n"
     ]
    }
   ],
   "source": [
    "print_objects_in_warehouse(\"warehouse\")"
   ]
  },
  {
   "cell_type": "code",
   "execution_count": 46,
   "id": "6e6359b2-2879-4db9-9bdc-3c77da171a8b",
   "metadata": {},
   "outputs": [
    {
     "data": {
      "text/html": [
       "<table>\n",
       "    <thead>\n",
       "        <tr>\n",
       "        </tr>\n",
       "    </thead>\n",
       "    <tbody>\n",
       "    </tbody>\n",
       "</table>"
      ],
      "text/plain": [
       "++\n",
       "||\n",
       "++\n",
       "++"
      ]
     },
     "execution_count": 46,
     "metadata": {},
     "output_type": "execute_result"
    }
   ],
   "source": [
    "%%sql\n",
    "MERGE INTO staging.dim_rates_cow t\n",
    "USING (SELECT rate_code_id, rate_name from staging.updated_dim_rates) s          \n",
    "ON t.rate_code_id = s.rate_code_id\n",
    "WHEN MATCHED and s.rate_name!=t.rate_name THEN UPDATE SET t.rate_name = s.rate_name\n",
    "WHEN NOT MATCHED BY TARGET THEN INSERT *\n",
    "WHEN NOT MATCHED BY SOURCE THEN DELETE"
   ]
  },
  {
   "cell_type": "code",
   "execution_count": 47,
   "id": "dd905e06-e54c-4a3e-827b-62fa90e0b220",
   "metadata": {},
   "outputs": [
    {
     "name": "stdout",
     "output_type": "stream",
     "text": [
      "staging/aggregated_taxi_per_vendor_date/data/00000-11-146c816e-61d7-46da-a5d1-03a145d3fa47-0-00001.parquet 2KB\n",
      "staging/aggregated_taxi_per_vendor_date/data/00000-6-b17d2ddd-2a29-4028-a76f-7e2c7da36fc5-0-00001.parquet 2KB\n",
      "staging/aggregated_taxi_per_vendor_date/metadata/00000-b129cac9-ca9f-4f77-ba35-210754c0eddb.metadata.json 2KB\n",
      "staging/aggregated_taxi_per_vendor_date/metadata/00001-4b6805a8-9ab9-4874-b2df-81a97e5fd3f5.metadata.json 2KB\n",
      "staging/aggregated_taxi_per_vendor_date/metadata/00002-f3247c59-464a-4456-bd4b-61c7238ee394.metadata.json 2KB\n",
      "staging/aggregated_taxi_per_vendor_date/metadata/00003-e7c6e6ea-92ed-4f00-952d-d35af8047289.metadata.json 3KB\n",
      "staging/aggregated_taxi_per_vendor_date/metadata/00004-1825cd1d-addf-42e4-84c6-430ee85caf14.metadata.json 3KB\n",
      "staging/aggregated_taxi_per_vendor_date/metadata/1a4bcaf0-6855-4316-9a69-42b4963917ef-m0.avro 6KB\n",
      "staging/aggregated_taxi_per_vendor_date/metadata/1a4bcaf0-6855-4316-9a69-42b4963917ef-m1.avro 6KB\n",
      "staging/aggregated_taxi_per_vendor_date/metadata/c799410c-53a8-4f54-b21d-064c838960bd-m0.avro 6KB\n",
      "staging/aggregated_taxi_per_vendor_date/metadata/snap-1079450372298633771-1-1a4bcaf0-6855-4316-9a69-42b4963917ef.avro 4KB\n",
      "staging/aggregated_taxi_per_vendor_date/metadata/snap-4722644808567071556-1-c799410c-53a8-4f54-b21d-064c838960bd.avro 4KB\n",
      "staging/dim_payments/data/00000-6-f2a245f3-cab0-4f06-b700-375e654329f9-0-00001.parquet 0KB\n",
      "staging/dim_payments/metadata/00000-cb4d3a1a-852d-4686-a46a-6cd0195dfa74.metadata.json 1KB\n",
      "staging/dim_payments/metadata/75f5d5b0-c8bc-4f41-8e14-35f8ff68b60b-m0.avro 6KB\n",
      "staging/dim_payments/metadata/snap-2960256292447604384-1-75f5d5b0-c8bc-4f41-8e14-35f8ff68b60b.avro 4KB\n",
      "staging/dim_rates/data/00000-27-8c174145-8336-433b-9396-6aaec7783a53-0-00001.parquet 0KB\n",
      "staging/dim_rates/data/00000-31-d6524f50-88fd-4573-a41e-1029452d8e8e-0-00001.parquet 0KB\n",
      "staging/dim_rates/data/00000-5-c122a974-a9b6-44da-97ba-fc9bd79dba33-0-00001.parquet 0KB\n",
      "staging/dim_rates/metadata/00000-33e6d790-16c6-4d70-9569-06cb74afce15.metadata.json 1KB\n",
      "staging/dim_rates/metadata/00001-2b0472fb-3e34-4f8b-9996-b0bb2386f561.metadata.json 3KB\n",
      "staging/dim_rates/metadata/00002-7b643686-ca02-4af4-a1fd-8cd24080817b.metadata.json 4KB\n",
      "staging/dim_rates/metadata/046a43a1-bc96-46d9-a58e-0c901b028409-m0.avro 6KB\n",
      "staging/dim_rates/metadata/c5dcd486-ec45-41bf-b113-86c4ccc81e63-m0.avro 6KB\n",
      "staging/dim_rates/metadata/c5dcd486-ec45-41bf-b113-86c4ccc81e63-m1.avro 6KB\n",
      "staging/dim_rates/metadata/e18d0e0d-f825-4a8d-a896-64aa981a5c73-m0.avro 6KB\n",
      "staging/dim_rates/metadata/e18d0e0d-f825-4a8d-a896-64aa981a5c73-m1.avro 6KB\n",
      "staging/dim_rates/metadata/snap-2261648511033844294-1-c5dcd486-ec45-41bf-b113-86c4ccc81e63.avro 4KB\n",
      "staging/dim_rates/metadata/snap-583487472890318615-1-046a43a1-bc96-46d9-a58e-0c901b028409.avro 4KB\n",
      "staging/dim_rates/metadata/snap-8545696951471959109-1-e18d0e0d-f825-4a8d-a896-64aa981a5c73.avro 4KB\n",
      "staging/dim_rates_cow/data/00000-40-7a428771-3789-4205-9f0e-d97742ba10de-0-00001.parquet 0KB\n",
      "staging/dim_rates_cow/data/00000-43-f4fe786b-1005-42fe-b4a4-10a21acab73d-0-00001.parquet 0KB\n",
      "staging/dim_rates_cow/metadata/00000-6bf0b16b-6f44-4ed8-afbb-4ecc6738cac4.metadata.json 1KB\n",
      "staging/dim_rates_cow/metadata/00000-cd3a9d56-2528-46bd-b61d-98775d5efe70.metadata.json 1KB\n",
      "staging/dim_rates_cow/metadata/00000-ff348375-610a-4485-9c91-9bd8a74d97b7.metadata.json 1KB\n",
      "staging/dim_rates_cow/metadata/00001-5477073b-8445-4a36-9fc3-8ecda50fbf03.metadata.json 2KB\n",
      "staging/dim_rates_cow/metadata/00002-435e1ffe-4b30-48a5-b350-ab444d8d389a.metadata.json 3KB\n",
      "staging/dim_rates_cow/metadata/68beb79e-7354-4c3e-ace0-0863772b3c8e-m0.avro 6KB\n",
      "staging/dim_rates_cow/metadata/68beb79e-7354-4c3e-ace0-0863772b3c8e-m1.avro 6KB\n",
      "staging/dim_rates_cow/metadata/c3fab8c9-b274-49a9-8b04-256cdc02a193-m0.avro 6KB\n",
      "staging/dim_rates_cow/metadata/snap-4522396733852880743-1-68beb79e-7354-4c3e-ace0-0863772b3c8e.avro 4KB\n",
      "staging/dim_rates_cow/metadata/snap-8497108964611602789-1-c3fab8c9-b274-49a9-8b04-256cdc02a193.avro 4KB\n",
      "staging/dim_rates_mor/data/00000-34-134ed6ce-97a3-4306-9ee0-54c7ec581ef9-0-00001.parquet 0KB\n",
      "staging/dim_rates_mor/metadata/00000-a5834d35-4e93-4ce4-a4c7-aa288fcab89a.metadata.json 1KB\n",
      "staging/dim_rates_mor/metadata/00000-d5f354bf-9c21-490c-a370-1b7e0006efa1.metadata.json 1KB\n",
      "staging/dim_rates_mor/metadata/00001-6de49c6b-0ab9-4505-8f2f-05a87130515d.metadata.json 2KB\n",
      "staging/dim_rates_mor/metadata/00002-61c100e9-52fa-42dd-a30b-52daad60327e.metadata.json 3KB\n",
      "staging/dim_rates_mor/metadata/0419e254-a4ef-4337-afbc-d2df06d5b622-m0.avro 6KB\n",
      "staging/dim_rates_mor/metadata/snap-3696534532638900315-1-0419e254-a4ef-4337-afbc-d2df06d5b622.avro 4KB\n",
      "staging/dim_rates_mor/metadata/snap-8405991186033570598-1-c9c62a5e-794f-433f-94a7-9eafb1bf633e.avro 4KB\n",
      "staging/dim_taxi_zones/data/00000-4-f2a2344d-dcee-48c1-9b62-bf65bc33b5c0-0-00001.parquet 4KB\n",
      "staging/dim_taxi_zones/metadata/00000-672975e2-a8d0-478a-a50f-f57ad5919411.metadata.json 2KB\n",
      "staging/dim_taxi_zones/metadata/ac8d06f6-b80e-458f-9a04-2f28a7ebf10d-m0.avro 6KB\n",
      "staging/dim_taxi_zones/metadata/snap-5365242866861921269-1-ac8d06f6-b80e-458f-9a04-2f28a7ebf10d.avro 4KB\n",
      "staging/dim_vendor/data/00000-7-39737aa8-3530-4903-ae77-de2ac2f37651-0-00001.parquet 0KB\n",
      "staging/dim_vendor/metadata/00000-cd90fd1a-6879-4882-8e8a-08a892ae5964.metadata.json 1KB\n",
      "staging/dim_vendor/metadata/1936087c-1a34-4a50-930b-42e2600cab3d-m0.avro 6KB\n",
      "staging/dim_vendor/metadata/snap-4138246450324081394-1-1936087c-1a34-4a50-930b-42e2600cab3d.avro 4KB\n",
      "staging/updated_dim_rates/data/00000-17-2faf4755-6f47-4b90-b0b8-fa79a59a97a6-0-00001.parquet 0KB\n",
      "staging/updated_dim_rates/data/00004-21-2faf4755-6f47-4b90-b0b8-fa79a59a97a6-0-00001.parquet 0KB\n",
      "staging/updated_dim_rates/metadata/00000-35316fd6-b26f-4ac5-9111-4b63aa9e5e8d.metadata.json 1KB\n",
      "staging/updated_dim_rates/metadata/ae3c47a4-4d5e-417a-b8f7-4992f64d8eac-m0.avro 6KB\n",
      "staging/updated_dim_rates/metadata/snap-1195512388729119133-1-ae3c47a4-4d5e-417a-b8f7-4992f64d8eac.avro 4KB\n",
      "staging/yellow_taxi/data/00000-1-afaa0077-0731-4fd4-aed0-619421755d83-0-00001.parquet 37251KB\n",
      "staging/yellow_taxi/data/00000-19-32e77607-82db-49c4-be96-67f47ec17724-0-00001.parquet 36874KB\n",
      "staging/yellow_taxi/data/00000-2-4ec7c95b-1bcf-4247-838a-5168cca43043-0-00001.parquet 17295KB\n",
      "staging/yellow_taxi/data/00000-2-4ec7c95b-1bcf-4247-838a-5168cca43043-0-00002.parquet 17373KB\n",
      "staging/yellow_taxi/data/00000-2-4ec7c95b-1bcf-4247-838a-5168cca43043-0-00003.parquet 3525KB\n",
      "staging/yellow_taxi/data/00000-5-3664f8f3-589d-44da-955f-cb1749f3a64a-0-00001.parquet 37251KB\n",
      "staging/yellow_taxi/data/00001-2-afaa0077-0731-4fd4-aed0-619421755d83-0-00001.parquet 44630KB\n",
      "staging/yellow_taxi/data/00001-20-32e77607-82db-49c4-be96-67f47ec17724-0-00001.parquet 44147KB\n",
      "staging/yellow_taxi/data/00001-3-4ec7c95b-1bcf-4247-838a-5168cca43043-0-00001.parquet 17292KB\n",
      "staging/yellow_taxi/data/00001-3-4ec7c95b-1bcf-4247-838a-5168cca43043-0-00002.parquet 17265KB\n",
      "staging/yellow_taxi/data/00001-3-4ec7c95b-1bcf-4247-838a-5168cca43043-0-00003.parquet 10519KB\n",
      "staging/yellow_taxi/data/00001-6-3664f8f3-589d-44da-955f-cb1749f3a64a-0-00001.parquet 44630KB\n",
      "staging/yellow_taxi/metadata/00000-ae874524-b096-412f-8cb1-0c4760d6b2e9.metadata.json 3KB\n",
      "staging/yellow_taxi/metadata/00001-eeaf7be4-5a21-4c31-92cb-58020f16f80e.metadata.json 4KB\n",
      "staging/yellow_taxi/metadata/00002-0d55e1eb-df22-4269-a036-dde4cb852f3a.metadata.json 6KB\n",
      "staging/yellow_taxi/metadata/00003-b1914d19-e499-4aee-b269-01e0ddb3ee06.metadata.json 7KB\n",
      "staging/yellow_taxi/metadata/00004-1445a277-66ab-4dd5-a560-95ebb1a3ec50.metadata.json 8KB\n",
      "staging/yellow_taxi/metadata/00005-4bdc158c-6655-456c-af82-8218a120897f.metadata.json 9KB\n",
      "staging/yellow_taxi/metadata/00006-7cfafdbe-76f1-49c2-a3af-c2ad63d090ac.metadata.json 10KB\n",
      "staging/yellow_taxi/metadata/85d522bf-4df1-48bb-bd49-bf17e4763200-m0.avro 8KB\n",
      "staging/yellow_taxi/metadata/85d522bf-4df1-48bb-bd49-bf17e4763200-m1.avro 8KB\n",
      "staging/yellow_taxi/metadata/873ac6bd-c08d-4a8b-810f-8a648bf2f782-m0.avro 8KB\n",
      "staging/yellow_taxi/metadata/873ac6bd-c08d-4a8b-810f-8a648bf2f782-m1.avro 9KB\n",
      "staging/yellow_taxi/metadata/ab4678a7-c205-4a14-ac42-eceebd074368-m0.avro 8KB\n",
      "staging/yellow_taxi/metadata/db751d43-5f5e-4353-b847-bbd9bd57b54c-m0.avro 8KB\n",
      "staging/yellow_taxi/metadata/optimized-m-b87a355b-b783-4b22-be22-d41d6d2c7d39.avro 9KB\n",
      "staging/yellow_taxi/metadata/snap-3219656268123285048-1-8e97d062-6837-4197-a15d-29885e927f25.avro 4KB\n",
      "staging/yellow_taxi/metadata/snap-4596078438615030908-1-ab4678a7-c205-4a14-ac42-eceebd074368.avro 4KB\n",
      "staging/yellow_taxi/metadata/snap-5363513689733971433-1-db751d43-5f5e-4353-b847-bbd9bd57b54c.avro 4KB\n",
      "staging/yellow_taxi/metadata/snap-7734203308380970130-1-873ac6bd-c08d-4a8b-810f-8a648bf2f782.avro 4KB\n",
      "staging/yellow_taxi/metadata/snap-9160540137384676132-1-85d522bf-4df1-48bb-bd49-bf17e4763200.avro 4KB\n"
     ]
    }
   ],
   "source": [
    "print_objects_in_warehouse(\"warehouse\")"
   ]
  },
  {
   "cell_type": "code",
   "execution_count": null,
   "id": "12663e2b-1104-47a9-b999-eec2ec1634d0",
   "metadata": {},
   "outputs": [],
   "source": []
  }
 ],
 "metadata": {
  "kernelspec": {
   "display_name": "Python 3 (ipykernel)",
   "language": "python",
   "name": "python3"
  },
  "language_info": {
   "codemirror_mode": {
    "name": "ipython",
    "version": 3
   },
   "file_extension": ".py",
   "mimetype": "text/x-python",
   "name": "python",
   "nbconvert_exporter": "python",
   "pygments_lexer": "ipython3",
   "version": "3.9.19"
  }
 },
 "nbformat": 4,
 "nbformat_minor": 5
}
