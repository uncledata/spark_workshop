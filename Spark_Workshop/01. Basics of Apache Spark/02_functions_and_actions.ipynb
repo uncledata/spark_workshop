{
 "cells": [
  {
   "cell_type": "markdown",
   "metadata": {
    "collapsed": false,
    "jupyter": {
     "outputs_hidden": false
    },
    "pycharm": {
     "name": "#%% md\n"
    }
   },
   "source": [
    "# Actions and Functions"
   ]
  },
  {
   "cell_type": "code",
   "execution_count": 1,
   "metadata": {
    "collapsed": false,
    "jupyter": {
     "outputs_hidden": false
    },
    "pycharm": {
     "name": "#%%\n"
    }
   },
   "outputs": [],
   "source": [
    "import sys\n",
    "sys.path.append('/home/iceberg/notebooks/PyCon_LT_Workshop')\n",
    "\n",
    "from helpers.utils import get_spark_session, get_yellow_taxi_data\n",
    "spark = get_spark_session(\"functions\")\n",
    "\n",
    "yellow_taxi_data = get_yellow_taxi_data(spark=spark)"
   ]
  },
  {
   "cell_type": "code",
   "execution_count": 3,
   "metadata": {
    "collapsed": false,
    "jupyter": {
     "outputs_hidden": false
    },
    "pycharm": {
     "name": "#%%\n"
    }
   },
   "outputs": [
    {
     "data": {
      "text/plain": [
       "9071244"
      ]
     },
     "execution_count": 3,
     "metadata": {},
     "output_type": "execute_result"
    }
   ],
   "source": [
    "# Count - works on DF\n",
    "yellow_taxi_data.count()"
   ]
  },
  {
   "cell_type": "code",
   "execution_count": 5,
   "metadata": {
    "collapsed": false,
    "jupyter": {
     "outputs_hidden": false
    },
    "pycharm": {
     "name": "#%%\n"
    }
   },
   "outputs": [
    {
     "name": "stdout",
     "output_type": "stream",
     "text": [
      "+--------+--------------------+---------------------+---------------+-------------+----------+------------------+------------+------------+------------+-----------+-----+-------+----------+------------+---------------------+------------+--------------------+-----------+\n",
      "|VendorID|tpep_pickup_datetime|tpep_dropoff_datetime|passenger_count|trip_distance|RatecodeID|store_and_fwd_flag|PULocationID|DOLocationID|payment_type|fare_amount|extra|mta_tax|tip_amount|tolls_amount|improvement_surcharge|total_amount|congestion_surcharge|airport_fee|\n",
      "+--------+--------------------+---------------------+---------------+-------------+----------+------------------+------------+------------+------------+-----------+-----+-------+----------+------------+---------------------+------------+--------------------+-----------+\n",
      "|       1| 2022-01-01 00:35:40|  2022-01-01 00:53:29|            2.0|          3.8|       1.0|                 N|         142|         236|           1|       14.5|  3.0|    0.5|      3.65|         0.0|                  0.3|       21.95|                 2.5|        0.0|\n",
      "|       1| 2022-01-01 00:33:43|  2022-01-01 00:42:07|            1.0|          2.1|       1.0|                 N|         236|          42|           1|        8.0|  0.5|    0.5|       4.0|         0.0|                  0.3|        13.3|                 0.0|        0.0|\n",
      "|       2| 2022-01-01 00:53:21|  2022-01-01 01:02:19|            1.0|         0.97|       1.0|                 N|         166|         166|           1|        7.5|  0.5|    0.5|      1.76|         0.0|                  0.3|       10.56|                 0.0|        0.0|\n",
      "|       2| 2022-01-01 00:25:21|  2022-01-01 00:35:23|            1.0|         1.09|       1.0|                 N|         114|          68|           2|        8.0|  0.5|    0.5|       0.0|         0.0|                  0.3|        11.8|                 2.5|        0.0|\n",
      "|       2| 2022-01-01 00:36:48|  2022-01-01 01:14:20|            1.0|          4.3|       1.0|                 N|          68|         163|           1|       23.5|  0.5|    0.5|       3.0|         0.0|                  0.3|        30.3|                 2.5|        0.0|\n",
      "|       1| 2022-01-01 00:40:15|  2022-01-01 01:09:48|            1.0|         10.3|       1.0|                 N|         138|         161|           1|       33.0|  3.0|    0.5|      13.0|        6.55|                  0.3|       56.35|                 2.5|        0.0|\n",
      "|       2| 2022-01-01 00:20:50|  2022-01-01 00:34:58|            1.0|         5.07|       1.0|                 N|         233|          87|           1|       17.0|  0.5|    0.5|       5.2|         0.0|                  0.3|        26.0|                 2.5|        0.0|\n",
      "|       2| 2022-01-01 00:13:04|  2022-01-01 00:22:45|            1.0|         2.02|       1.0|                 N|         238|         152|           2|        9.0|  0.5|    0.5|       0.0|         0.0|                  0.3|        12.8|                 2.5|        0.0|\n",
      "|       2| 2022-01-01 00:30:02|  2022-01-01 00:44:49|            1.0|         2.71|       1.0|                 N|         166|         236|           1|       12.0|  0.5|    0.5|      2.25|         0.0|                  0.3|       18.05|                 2.5|        0.0|\n",
      "|       2| 2022-01-01 00:48:52|  2022-01-01 00:53:28|            1.0|         0.78|       1.0|                 N|         236|         141|           2|        5.0|  0.5|    0.5|       0.0|         0.0|                  0.3|         8.8|                 2.5|        0.0|\n",
      "+--------+--------------------+---------------------+---------------+-------------+----------+------------------+------------+------------+------------+-----------+-----+-------+----------+------------+---------------------+------------+--------------------+-----------+\n",
      "only showing top 10 rows\n",
      "\n"
     ]
    }
   ],
   "source": [
    "# Show\n",
    "yellow_taxi_data.show(10)"
   ]
  },
  {
   "cell_type": "code",
   "execution_count": 7,
   "metadata": {
    "collapsed": false,
    "jupyter": {
     "outputs_hidden": false
    },
    "pycharm": {
     "name": "#%%\n"
    }
   },
   "outputs": [
    {
     "name": "stdout",
     "output_type": "stream",
     "text": [
      "+--------+--------------------+---------------------+---------------+-------------+----------+------------------+------------+------------+------------+-----------+-----+-------+----------+------------+---------------------+------------+--------------------+-----------+\n",
      "|VendorID|tpep_pickup_datetime|tpep_dropoff_datetime|passenger_count|trip_distance|RatecodeID|store_and_fwd_flag|PULocationID|DOLocationID|payment_type|fare_amount|extra|mta_tax|tip_amount|tolls_amount|improvement_surcharge|total_amount|congestion_surcharge|airport_fee|\n",
      "+--------+--------------------+---------------------+---------------+-------------+----------+------------------+------------+------------+------------+-----------+-----+-------+----------+------------+---------------------+------------+--------------------+-----------+\n",
      "|1       |2022-01-01 00:35:40 |2022-01-01 00:53:29  |2.0            |3.8          |1.0       |N                 |142         |236         |1           |14.5       |3.0  |0.5    |3.65      |0.0         |0.3                  |21.95       |2.5                 |0.0        |\n",
      "|1       |2022-01-01 00:33:43 |2022-01-01 00:42:07  |1.0            |2.1          |1.0       |N                 |236         |42          |1           |8.0        |0.5  |0.5    |4.0       |0.0         |0.3                  |13.3        |0.0                 |0.0        |\n",
      "|2       |2022-01-01 00:53:21 |2022-01-01 01:02:19  |1.0            |0.97         |1.0       |N                 |166         |166         |1           |7.5        |0.5  |0.5    |1.76      |0.0         |0.3                  |10.56       |0.0                 |0.0        |\n",
      "|2       |2022-01-01 00:25:21 |2022-01-01 00:35:23  |1.0            |1.09         |1.0       |N                 |114         |68          |2           |8.0        |0.5  |0.5    |0.0       |0.0         |0.3                  |11.8        |2.5                 |0.0        |\n",
      "|2       |2022-01-01 00:36:48 |2022-01-01 01:14:20  |1.0            |4.3          |1.0       |N                 |68          |163         |1           |23.5       |0.5  |0.5    |3.0       |0.0         |0.3                  |30.3        |2.5                 |0.0        |\n",
      "+--------+--------------------+---------------------+---------------+-------------+----------+------------------+------------+------------+------------+-----------+-----+-------+----------+------------+---------------------+------------+--------------------+-----------+\n",
      "only showing top 5 rows\n",
      "\n"
     ]
    }
   ],
   "source": [
    "yellow_taxi_data.show(5, truncate=False)"
   ]
  },
  {
   "cell_type": "code",
   "execution_count": 8,
   "metadata": {
    "collapsed": false,
    "jupyter": {
     "outputs_hidden": false
    },
    "pycharm": {
     "name": "#%%\n"
    }
   },
   "outputs": [
    {
     "data": {
      "text/plain": [
       "Row(VendorID=1, tpep_pickup_datetime=datetime.datetime(2022, 1, 1, 0, 35, 40), tpep_dropoff_datetime=datetime.datetime(2022, 1, 1, 0, 53, 29), passenger_count=2.0, trip_distance=3.8, RatecodeID=1.0, store_and_fwd_flag='N', PULocationID=142, DOLocationID=236, payment_type=1, fare_amount=14.5, extra=3.0, mta_tax=0.5, tip_amount=3.65, tolls_amount=0.0, improvement_surcharge=0.3, total_amount=21.95, congestion_surcharge=2.5, airport_fee=0.0)"
      ]
     },
     "execution_count": 8,
     "metadata": {},
     "output_type": "execute_result"
    }
   ],
   "source": [
    "# Head\n",
    "yellow_taxi_data.head()"
   ]
  },
  {
   "cell_type": "code",
   "execution_count": 9,
   "metadata": {
    "collapsed": false,
    "jupyter": {
     "outputs_hidden": false
    },
    "pycharm": {
     "name": "#%%\n"
    }
   },
   "outputs": [
    {
     "name": "stdout",
     "output_type": "stream",
     "text": [
      "+--------+--------------------+---------------------+---------------+-------------+----------+------------------+------------+------------+------------+-----------+-----+-------+----------+------------+---------------------+------------+--------------------+-----------+\n",
      "|VendorID|tpep_pickup_datetime|tpep_dropoff_datetime|passenger_count|trip_distance|RatecodeID|store_and_fwd_flag|PULocationID|DOLocationID|payment_type|fare_amount|extra|mta_tax|tip_amount|tolls_amount|improvement_surcharge|total_amount|congestion_surcharge|airport_fee|\n",
      "+--------+--------------------+---------------------+---------------+-------------+----------+------------------+------------+------------+------------+-----------+-----+-------+----------+------------+---------------------+------------+--------------------+-----------+\n",
      "|       1| 2022-01-01 00:35:40|  2022-01-01 00:53:29|            2.0|          3.8|       1.0|                 N|         142|         236|           1|       14.5|  3.0|    0.5|      3.65|         0.0|                  0.3|       21.95|                 2.5|        0.0|\n",
      "|       1| 2022-01-01 00:33:43|  2022-01-01 00:42:07|            1.0|          2.1|       1.0|                 N|         236|          42|           1|        8.0|  0.5|    0.5|       4.0|         0.0|                  0.3|        13.3|                 0.0|        0.0|\n",
      "|       2| 2022-01-01 00:53:21|  2022-01-01 01:02:19|            1.0|         0.97|       1.0|                 N|         166|         166|           1|        7.5|  0.5|    0.5|      1.76|         0.0|                  0.3|       10.56|                 0.0|        0.0|\n",
      "|       2| 2022-01-01 00:25:21|  2022-01-01 00:35:23|            1.0|         1.09|       1.0|                 N|         114|          68|           2|        8.0|  0.5|    0.5|       0.0|         0.0|                  0.3|        11.8|                 2.5|        0.0|\n",
      "|       2| 2022-01-01 00:36:48|  2022-01-01 01:14:20|            1.0|          4.3|       1.0|                 N|          68|         163|           1|       23.5|  0.5|    0.5|       3.0|         0.0|                  0.3|        30.3|                 2.5|        0.0|\n",
      "+--------+--------------------+---------------------+---------------+-------------+----------+------------------+------------+------------+------------+-----------+-----+-------+----------+------------+---------------------+------------+--------------------+-----------+\n",
      "\n"
     ]
    }
   ],
   "source": [
    "# Limit\n",
    "yellow_taxi_limited = yellow_taxi_data.limit(5)\n",
    "yellow_taxi_limited.show()"
   ]
  },
  {
   "cell_type": "code",
   "execution_count": 10,
   "metadata": {
    "collapsed": false,
    "jupyter": {
     "outputs_hidden": false
    },
    "pycharm": {
     "name": "#%%\n"
    }
   },
   "outputs": [
    {
     "name": "stdout",
     "output_type": "stream",
     "text": [
      "+--------+--------------------+---------------------+---------------+-------------+----------+------------------+------------+------------+------------+-----------+-----+-------+----------+------------+---------------------+------------+--------------------+\n",
      "|VendorID|tpep_pickup_datetime|tpep_dropoff_datetime|passenger_count|trip_distance|RatecodeID|store_and_fwd_flag|PULocationID|DOLocationID|payment_type|fare_amount|extra|mta_tax|tip_amount|tolls_amount|improvement_surcharge|total_amount|congestion_surcharge|\n",
      "+--------+--------------------+---------------------+---------------+-------------+----------+------------------+------------+------------+------------+-----------+-----+-------+----------+------------+---------------------+------------+--------------------+\n",
      "|       1| 2022-01-01 00:35:40|  2022-01-01 00:53:29|            2.0|          3.8|       1.0|                 N|         142|         236|           1|       14.5|  3.0|    0.5|      3.65|         0.0|                  0.3|       21.95|                 2.5|\n",
      "|       1| 2022-01-01 00:33:43|  2022-01-01 00:42:07|            1.0|          2.1|       1.0|                 N|         236|          42|           1|        8.0|  0.5|    0.5|       4.0|         0.0|                  0.3|        13.3|                 0.0|\n",
      "|       2| 2022-01-01 00:53:21|  2022-01-01 01:02:19|            1.0|         0.97|       1.0|                 N|         166|         166|           1|        7.5|  0.5|    0.5|      1.76|         0.0|                  0.3|       10.56|                 0.0|\n",
      "|       2| 2022-01-01 00:25:21|  2022-01-01 00:35:23|            1.0|         1.09|       1.0|                 N|         114|          68|           2|        8.0|  0.5|    0.5|       0.0|         0.0|                  0.3|        11.8|                 2.5|\n",
      "|       2| 2022-01-01 00:36:48|  2022-01-01 01:14:20|            1.0|          4.3|       1.0|                 N|          68|         163|           1|       23.5|  0.5|    0.5|       3.0|         0.0|                  0.3|        30.3|                 2.5|\n",
      "+--------+--------------------+---------------------+---------------+-------------+----------+------------------+------------+------------+------------+-----------+-----+-------+----------+------------+---------------------+------------+--------------------+\n",
      "\n"
     ]
    }
   ],
   "source": [
    "# Drop\n",
    "yellow_taxi_limited.drop(\"airport_fee\").show()"
   ]
  },
  {
   "cell_type": "code",
   "execution_count": 11,
   "metadata": {
    "collapsed": false,
    "jupyter": {
     "outputs_hidden": false
    },
    "pycharm": {
     "name": "#%%\n"
    }
   },
   "outputs": [
    {
     "name": "stdout",
     "output_type": "stream",
     "text": [
      "+--------+--------------------+---------------------+---------------+-------------+----------+------------------+------------+------------+------------+-----------+-----+-------+----------+------------+---------------------+------------+--------------------+-----------+\n",
      "|VendorID|tpep_pickup_datetime|tpep_dropoff_datetime|passenger_count|trip_distance|RatecodeID|store_and_fwd_flag|PULocationID|DOLocationID|payment_type|fare_amount|extra|mta_tax|tip_amount|tolls_amount|improvement_surcharge|total_amount|congestion_surcharge|airport_fee|\n",
      "+--------+--------------------+---------------------+---------------+-------------+----------+------------------+------------+------------+------------+-----------+-----+-------+----------+------------+---------------------+------------+--------------------+-----------+\n",
      "|       1| 2022-01-01 00:35:40|  2022-01-01 00:53:29|            2.0|          3.8|       1.0|                 N|         142|         236|           1|       14.5|  3.0|    0.5|      3.65|         0.0|                  0.3|       21.95|                 2.5|        0.0|\n",
      "|       1| 2022-01-01 00:33:43|  2022-01-01 00:42:07|            1.0|          2.1|       1.0|                 N|         236|          42|           1|        8.0|  0.5|    0.5|       4.0|         0.0|                  0.3|        13.3|                 0.0|        0.0|\n",
      "|       2| 2022-01-01 00:53:21|  2022-01-01 01:02:19|            1.0|         0.97|       1.0|                 N|         166|         166|           1|        7.5|  0.5|    0.5|      1.76|         0.0|                  0.3|       10.56|                 0.0|        0.0|\n",
      "|       2| 2022-01-01 00:25:21|  2022-01-01 00:35:23|            1.0|         1.09|       1.0|                 N|         114|          68|           2|        8.0|  0.5|    0.5|       0.0|         0.0|                  0.3|        11.8|                 2.5|        0.0|\n",
      "|       2| 2022-01-01 00:36:48|  2022-01-01 01:14:20|            1.0|          4.3|       1.0|                 N|          68|         163|           1|       23.5|  0.5|    0.5|       3.0|         0.0|                  0.3|        30.3|                 2.5|        0.0|\n",
      "+--------+--------------------+---------------------+---------------+-------------+----------+------------------+------------+------------+------------+-----------+-----+-------+----------+------------+---------------------+------------+--------------------+-----------+\n",
      "\n"
     ]
    }
   ],
   "source": [
    "# Returns a DF, doesn't do action inplace! Each Data Frame is Immutable, \n",
    "# so you won't accidentally change some value unless you'll assign to the same variable\n",
    "yellow_taxi_limited.show()"
   ]
  },
  {
   "cell_type": "code",
   "execution_count": 12,
   "metadata": {
    "collapsed": false,
    "jupyter": {
     "outputs_hidden": false
    },
    "pycharm": {
     "name": "#%%\n"
    }
   },
   "outputs": [
    {
     "name": "stdout",
     "output_type": "stream",
     "text": [
      "+--------+\n",
      "|vendorId|\n",
      "+--------+\n",
      "|       6|\n",
      "|       5|\n",
      "|       1|\n",
      "|       2|\n",
      "+--------+\n",
      "\n",
      "+--------+\n",
      "|vendorId|\n",
      "+--------+\n",
      "|       6|\n",
      "|       5|\n",
      "|       1|\n",
      "|       2|\n",
      "+--------+\n",
      "\n"
     ]
    },
    {
     "data": {
      "text/plain": [
       "(None, None)"
      ]
     },
     "execution_count": 12,
     "metadata": {},
     "output_type": "execute_result"
    }
   ],
   "source": [
    "# Distinct/dropDublicates (same method, just diff name)\n",
    "yellow_taxi_data.select(\"vendorId\").distinct().show(), yellow_taxi_data.select(\"vendorId\").dropDuplicates().show()"
   ]
  },
  {
   "cell_type": "code",
   "execution_count": 13,
   "metadata": {
    "collapsed": false,
    "jupyter": {
     "outputs_hidden": false
    },
    "pycharm": {
     "name": "#%%\n"
    }
   },
   "outputs": [
    {
     "name": "stdout",
     "output_type": "stream",
     "text": [
      "+--------+\n",
      "|vendorId|\n",
      "+--------+\n",
      "|       1|\n",
      "|       2|\n",
      "|       5|\n",
      "|       6|\n",
      "+--------+\n",
      "\n"
     ]
    }
   ],
   "source": [
    "# orderBy/sort\n",
    "\n",
    "yellow_taxi_data.select(\"vendorId\").distinct().orderBy(\"vendorId\").show()"
   ]
  },
  {
   "cell_type": "code",
   "execution_count": 15,
   "metadata": {
    "collapsed": false,
    "jupyter": {
     "outputs_hidden": false
    },
    "pycharm": {
     "name": "#%%\n"
    }
   },
   "outputs": [
    {
     "name": "stdout",
     "output_type": "stream",
     "text": [
      "+--------+\n",
      "|vendorId|\n",
      "+--------+\n",
      "|       1|\n",
      "|       2|\n",
      "|       5|\n",
      "|       6|\n",
      "+--------+\n",
      "\n"
     ]
    }
   ],
   "source": [
    "yellow_taxi_data.select(\"vendorId\").distinct().sort(\"vendorId\").show()"
   ]
  },
  {
   "cell_type": "markdown",
   "metadata": {
    "collapsed": false,
    "jupyter": {
     "outputs_hidden": false
    },
    "pycharm": {
     "name": "#%% md\n"
    }
   },
   "source": [
    "# Columnar functions"
   ]
  },
  {
   "cell_type": "code",
   "execution_count": 17,
   "metadata": {
    "collapsed": false,
    "jupyter": {
     "outputs_hidden": false
    },
    "pycharm": {
     "name": "#%%\n"
    }
   },
   "outputs": [],
   "source": [
    "# Importing functions library so we can use\n",
    "import pyspark.sql.functions as f"
   ]
  },
  {
   "cell_type": "code",
   "execution_count": 18,
   "metadata": {
    "collapsed": false,
    "jupyter": {
     "outputs_hidden": false
    },
    "pycharm": {
     "name": "#%%\n"
    }
   },
   "outputs": [
    {
     "data": {
      "text/plain": [
       "Column<'abc'>"
      ]
     },
     "execution_count": 18,
     "metadata": {},
     "output_type": "execute_result"
    }
   ],
   "source": [
    "# lit -> creates a constant\n",
    "const_col = f.lit(\"abc\")\n",
    "const_col"
   ]
  },
  {
   "cell_type": "code",
   "execution_count": 19,
   "metadata": {
    "collapsed": false,
    "jupyter": {
     "outputs_hidden": false
    },
    "pycharm": {
     "name": "#%%\n"
    }
   },
   "outputs": [
    {
     "data": {
      "text/plain": [
       "Column<'vals'>"
      ]
     },
     "execution_count": 19,
     "metadata": {},
     "output_type": "execute_result"
    }
   ],
   "source": [
    "# col - creates a column with name\n",
    "column = f.col(\"vals\")\n",
    "column"
   ]
  },
  {
   "cell_type": "code",
   "execution_count": 20,
   "metadata": {
    "collapsed": false,
    "jupyter": {
     "outputs_hidden": false
    },
    "pycharm": {
     "name": "#%%\n"
    }
   },
   "outputs": [
    {
     "data": {
      "text/plain": [
       "Column<'(a + 1)'>"
      ]
     },
     "execution_count": 20,
     "metadata": {},
     "output_type": "execute_result"
    }
   ],
   "source": [
    "# expr - parses SQL expression\n",
    "sql_col = f.expr(\"a+1\")\n",
    "sql_col"
   ]
  },
  {
   "cell_type": "code",
   "execution_count": 21,
   "metadata": {
    "collapsed": false,
    "jupyter": {
     "outputs_hidden": false
    },
    "pycharm": {
     "name": "#%%\n"
    }
   },
   "outputs": [
    {
     "name": "stdout",
     "output_type": "stream",
     "text": [
      "+--------+----------+-----------+------------+\n",
      "|VendorID|RatecodeID|fare_amount|constant_col|\n",
      "+--------+----------+-----------+------------+\n",
      "|       1|       1.0|       14.5|         abc|\n",
      "|       1|       1.0|        8.0|         abc|\n",
      "|       2|       1.0|        7.5|         abc|\n",
      "|       2|       1.0|        8.0|         abc|\n",
      "|       2|       1.0|       23.5|         abc|\n",
      "|       1|       1.0|       33.0|         abc|\n",
      "|       2|       1.0|       17.0|         abc|\n",
      "|       2|       1.0|        9.0|         abc|\n",
      "|       2|       1.0|       12.0|         abc|\n",
      "|       2|       1.0|        5.0|         abc|\n",
      "|       2|       1.0|        8.5|         abc|\n",
      "|       2|       1.0|        4.5|         abc|\n",
      "|       2|       1.0|        4.5|         abc|\n",
      "|       2|       1.0|       11.5|         abc|\n",
      "|       2|       1.0|        7.5|         abc|\n",
      "|       2|       1.0|        8.0|         abc|\n",
      "|       1|       1.0|       14.0|         abc|\n",
      "|       1|       1.0|        9.5|         abc|\n",
      "|       1|       1.0|        5.0|         abc|\n",
      "|       1|       1.0|       13.0|         abc|\n",
      "+--------+----------+-----------+------------+\n",
      "only showing top 20 rows\n",
      "\n"
     ]
    }
   ],
   "source": [
    "# withColumn -> creates new column based on some rules\n",
    "yellow_taxi_data.select(\"VendorID\",\"RatecodeID\", \"fare_amount\").withColumn(\"constant_col\", f.lit(\"abc\")).show()"
   ]
  },
  {
   "cell_type": "code",
   "execution_count": 22,
   "metadata": {
    "collapsed": false,
    "jupyter": {
     "outputs_hidden": false
    },
    "pycharm": {
     "name": "#%%\n"
    }
   },
   "outputs": [
    {
     "name": "stdout",
     "output_type": "stream",
     "text": [
      "+--------+----------+-----------+--------+\n",
      "|VendorID|RatecodeID|fare_amount|expr_col|\n",
      "+--------+----------+-----------+--------+\n",
      "|       1|       1.0|       14.5|    17.5|\n",
      "|       1|       1.0|        8.0|    11.0|\n",
      "|       2|       1.0|        7.5|    10.5|\n",
      "|       2|       1.0|        8.0|    11.0|\n",
      "|       2|       1.0|       23.5|    26.5|\n",
      "|       1|       1.0|       33.0|    36.0|\n",
      "|       2|       1.0|       17.0|    20.0|\n",
      "|       2|       1.0|        9.0|    12.0|\n",
      "|       2|       1.0|       12.0|    15.0|\n",
      "|       2|       1.0|        5.0|     8.0|\n",
      "|       2|       1.0|        8.5|    11.5|\n",
      "|       2|       1.0|        4.5|     7.5|\n",
      "|       2|       1.0|        4.5|     7.5|\n",
      "|       2|       1.0|       11.5|    14.5|\n",
      "|       2|       1.0|        7.5|    10.5|\n",
      "|       2|       1.0|        8.0|    11.0|\n",
      "|       1|       1.0|       14.0|    17.0|\n",
      "|       1|       1.0|        9.5|    12.5|\n",
      "|       1|       1.0|        5.0|     8.0|\n",
      "|       1|       1.0|       13.0|    16.0|\n",
      "+--------+----------+-----------+--------+\n",
      "only showing top 20 rows\n",
      "\n"
     ]
    }
   ],
   "source": [
    "yellow_taxi_data.select(\"VendorID\",\"RatecodeID\", \"fare_amount\").withColumn(\"expr_col\", f.expr(\"fare_amount+3\")).show()"
   ]
  },
  {
   "cell_type": "code",
   "execution_count": 23,
   "metadata": {
    "collapsed": false,
    "jupyter": {
     "outputs_hidden": false
    },
    "pycharm": {
     "name": "#%%\n"
    }
   },
   "outputs": [
    {
     "name": "stdout",
     "output_type": "stream",
     "text": [
      "+--------+----------+-----------+\n",
      "|VendorID|RatecodeID|fare_amount|\n",
      "+--------+----------+-----------+\n",
      "|       1|       1.0|        2.5|\n",
      "|       1|       1.0|        5.5|\n",
      "|       1|       2.0|       52.0|\n",
      "|       1|       1.0|       23.5|\n",
      "|       1|       1.0|       10.0|\n",
      "|       1|       1.0|       35.5|\n",
      "|       1|       1.0|        6.0|\n",
      "|       1|       1.0|       10.5|\n",
      "|       1|       1.0|        7.0|\n",
      "|       1|       1.0|       13.5|\n",
      "|       1|       2.0|       52.0|\n",
      "|       1|       1.0|       31.5|\n",
      "|       1|       1.0|        8.0|\n",
      "|       1|       1.0|       14.5|\n",
      "|       1|       1.0|       21.0|\n",
      "|       1|       1.0|       16.5|\n",
      "|       1|       1.0|        7.0|\n",
      "|       1|       1.0|       17.5|\n",
      "|       1|       2.0|       52.0|\n",
      "|       1|       1.0|        7.5|\n",
      "+--------+----------+-----------+\n",
      "only showing top 20 rows\n",
      "\n"
     ]
    }
   ],
   "source": [
    "yellow_taxi_data.select(\"VendorID\",\"RatecodeID\", \"fare_amount\").orderBy(f.col(\"VendorID\")).show()"
   ]
  },
  {
   "cell_type": "code",
   "execution_count": 25,
   "metadata": {
    "collapsed": false,
    "jupyter": {
     "outputs_hidden": false
    },
    "pycharm": {
     "name": "#%%\n"
    }
   },
   "outputs": [
    {
     "name": "stdout",
     "output_type": "stream",
     "text": [
      "+--------+----------+-----------+\n",
      "|VendorID|RatecodeID|fare_amount|\n",
      "+--------+----------+-----------+\n",
      "|       1|       1.0|       14.5|\n",
      "|       1|       1.0|        8.0|\n",
      "|       2|       1.0|        7.5|\n",
      "|       2|       1.0|        8.0|\n",
      "|       2|       1.0|       23.5|\n",
      "|       1|       1.0|       33.0|\n",
      "|       2|       1.0|       17.0|\n",
      "|       2|       1.0|        9.0|\n",
      "|       2|       1.0|       12.0|\n",
      "|       2|       1.0|        8.5|\n",
      "|       2|       1.0|       11.5|\n",
      "|       2|       1.0|        7.5|\n",
      "|       2|       1.0|        8.0|\n",
      "|       1|       1.0|       14.0|\n",
      "|       1|       1.0|        9.5|\n",
      "|       1|       1.0|       13.0|\n",
      "|       1|       1.0|       11.0|\n",
      "|       1|       1.0|        7.0|\n",
      "|       1|       1.0|        7.0|\n",
      "|       1|       1.0|        8.0|\n",
      "+--------+----------+-----------+\n",
      "only showing top 20 rows\n",
      "\n"
     ]
    }
   ],
   "source": [
    "# Filter and Where - same functionality\n",
    "# Passing SQL Expression\n",
    "yellow_taxi_data.select(\"VendorID\",\"RatecodeID\", \"fare_amount\").filter(\"fare_amount>5\").show()"
   ]
  },
  {
   "cell_type": "code",
   "execution_count": 27,
   "metadata": {
    "collapsed": false,
    "jupyter": {
     "outputs_hidden": false
    },
    "pycharm": {
     "name": "#%%\n"
    }
   },
   "outputs": [
    {
     "name": "stdout",
     "output_type": "stream",
     "text": [
      "+--------+----------+-----------+\n",
      "|VendorID|RatecodeID|fare_amount|\n",
      "+--------+----------+-----------+\n",
      "|       1|       1.0|       14.5|\n",
      "|       1|       1.0|        8.0|\n",
      "|       2|       1.0|        7.5|\n",
      "|       2|       1.0|        8.0|\n",
      "|       2|       1.0|       23.5|\n",
      "|       1|       1.0|       33.0|\n",
      "|       2|       1.0|       17.0|\n",
      "|       2|       1.0|        9.0|\n",
      "|       2|       1.0|       12.0|\n",
      "|       2|       1.0|        8.5|\n",
      "|       2|       1.0|       11.5|\n",
      "|       2|       1.0|        7.5|\n",
      "|       2|       1.0|        8.0|\n",
      "|       1|       1.0|       14.0|\n",
      "|       1|       1.0|        9.5|\n",
      "|       1|       1.0|       13.0|\n",
      "|       1|       1.0|       11.0|\n",
      "|       1|       1.0|        7.0|\n",
      "|       1|       1.0|        7.0|\n",
      "|       1|       1.0|        8.0|\n",
      "+--------+----------+-----------+\n",
      "only showing top 20 rows\n",
      "\n"
     ]
    }
   ],
   "source": [
    "yellow_taxi_data.select(\"VendorID\",\"RatecodeID\", \"fare_amount\").filter(f.col(\"fare_amount\")>f.lit(5)).show()"
   ]
  },
  {
   "cell_type": "code",
   "execution_count": 28,
   "metadata": {
    "collapsed": false,
    "jupyter": {
     "outputs_hidden": false
    },
    "pycharm": {
     "name": "#%%\n"
    }
   },
   "outputs": [
    {
     "name": "stdout",
     "output_type": "stream",
     "text": [
      "+---------+\n",
      "|vendor_id|\n",
      "+---------+\n",
      "|        1|\n",
      "|        1|\n",
      "|        2|\n",
      "|        2|\n",
      "|        2|\n",
      "|        1|\n",
      "|        2|\n",
      "|        2|\n",
      "|        2|\n",
      "|        2|\n",
      "|        2|\n",
      "|        2|\n",
      "|        2|\n",
      "|        2|\n",
      "|        2|\n",
      "|        2|\n",
      "|        1|\n",
      "|        1|\n",
      "|        1|\n",
      "|        1|\n",
      "+---------+\n",
      "only showing top 20 rows\n",
      "\n"
     ]
    }
   ],
   "source": [
    "# Renaming columns\n",
    "yellow_taxi_data.select(f.col(\"VendorID\").alias(\"vendor_id\")).show()"
   ]
  },
  {
   "cell_type": "code",
   "execution_count": 30,
   "metadata": {
    "collapsed": false,
    "jupyter": {
     "outputs_hidden": false
    },
    "pycharm": {
     "name": "#%%\n"
    }
   },
   "outputs": [
    {
     "name": "stdout",
     "output_type": "stream",
     "text": [
      "+---------+\n",
      "|vendor_id|\n",
      "+---------+\n",
      "|        1|\n",
      "|        1|\n",
      "|        2|\n",
      "|        2|\n",
      "|        2|\n",
      "|        1|\n",
      "|        2|\n",
      "|        2|\n",
      "|        2|\n",
      "|        2|\n",
      "|        2|\n",
      "|        2|\n",
      "|        2|\n",
      "|        2|\n",
      "|        2|\n",
      "|        2|\n",
      "|        1|\n",
      "|        1|\n",
      "|        1|\n",
      "|        1|\n",
      "+---------+\n",
      "only showing top 20 rows\n",
      "\n"
     ]
    }
   ],
   "source": [
    "yellow_taxi_data.withColumnRenamed(\"VendorID\", \"vendor_id\").select(\"vendor_id\").show()"
   ]
  },
  {
   "cell_type": "code",
   "execution_count": 34,
   "metadata": {
    "collapsed": false,
    "jupyter": {
     "outputs_hidden": false
    },
    "pycharm": {
     "name": "#%%\n"
    }
   },
   "outputs": [
    {
     "name": "stdout",
     "output_type": "stream",
     "text": [
      "+-----------+------------------+\n",
      "|fare_amount|fare_amount_more_5|\n",
      "+-----------+------------------+\n",
      "|       14.5|                 1|\n",
      "|        8.0|                 1|\n",
      "|        7.5|                 1|\n",
      "|        8.0|                 1|\n",
      "|       23.5|                 1|\n",
      "|       33.0|                 1|\n",
      "|       17.0|                 1|\n",
      "|        9.0|                 1|\n",
      "|       12.0|                 1|\n",
      "|        5.0|                 0|\n",
      "|        8.5|                 1|\n",
      "|        4.5|                 0|\n",
      "|        4.5|                 0|\n",
      "|       11.5|                 1|\n",
      "|        7.5|                 1|\n",
      "|        8.0|                 1|\n",
      "|       14.0|                 1|\n",
      "|        9.5|                 1|\n",
      "|        5.0|                 0|\n",
      "|       13.0|                 1|\n",
      "+-----------+------------------+\n",
      "only showing top 20 rows\n",
      "\n"
     ]
    }
   ],
   "source": [
    "(yellow_taxi_data\n",
    " .withColumn(\"fare_amount_more_5\",f.when(f.col('fare_amount') > 5, 1).otherwise(0))\n",
    " .select(\"fare_amount\", \"fare_amount_more_5\")\n",
    " .show())"
   ]
  },
  {
   "cell_type": "code",
   "execution_count": 36,
   "metadata": {
    "collapsed": false,
    "jupyter": {
     "outputs_hidden": false
    },
    "pycharm": {
     "name": "#%%\n"
    }
   },
   "outputs": [
    {
     "name": "stdout",
     "output_type": "stream",
     "text": [
      "+--------------------+-------------------+\n",
      "|static_unixtimestamp|from_unixtimestamp |\n",
      "+--------------------+-------------------+\n",
      "|1593668948          |2020-07-02 05:49:08|\n",
      "|1593668948          |2020-07-02 05:49:08|\n",
      "|1593668948          |2020-07-02 05:49:08|\n",
      "|1593668948          |2020-07-02 05:49:08|\n",
      "|1593668948          |2020-07-02 05:49:08|\n",
      "|1593668948          |2020-07-02 05:49:08|\n",
      "|1593668948          |2020-07-02 05:49:08|\n",
      "|1593668948          |2020-07-02 05:49:08|\n",
      "|1593668948          |2020-07-02 05:49:08|\n",
      "|1593668948          |2020-07-02 05:49:08|\n",
      "+--------------------+-------------------+\n",
      "only showing top 10 rows\n",
      "\n"
     ]
    }
   ],
   "source": [
    "# Unix timestamp manipulation\n",
    "yellow_taxi_data_ux = yellow_taxi_data.withColumn(\"static_unixtimestamp\", f.lit(1593668948))\n",
    "yellow_taxi_data_ux = yellow_taxi_data_ux.withColumn(\"from_unixtimestamp\", f.from_unixtime(f.col(\"static_unixtimestamp\")))\n",
    "yellow_taxi_data_ux.select(\"static_unixtimestamp\",\"from_unixtimestamp\").show(10, False)"
   ]
  },
  {
   "cell_type": "code",
   "execution_count": 37,
   "metadata": {
    "collapsed": false,
    "jupyter": {
     "outputs_hidden": false
    },
    "pycharm": {
     "name": "#%%\n"
    }
   },
   "outputs": [
    {
     "name": "stdout",
     "output_type": "stream",
     "text": [
      "+--------------------+-------------------+----------------+\n",
      "|static_unixtimestamp|from_unixtimestamp |back_to_unixtime|\n",
      "+--------------------+-------------------+----------------+\n",
      "|1593668948          |2020-07-02 05:49:08|1593668948      |\n",
      "|1593668948          |2020-07-02 05:49:08|1593668948      |\n",
      "|1593668948          |2020-07-02 05:49:08|1593668948      |\n",
      "|1593668948          |2020-07-02 05:49:08|1593668948      |\n",
      "|1593668948          |2020-07-02 05:49:08|1593668948      |\n",
      "|1593668948          |2020-07-02 05:49:08|1593668948      |\n",
      "|1593668948          |2020-07-02 05:49:08|1593668948      |\n",
      "|1593668948          |2020-07-02 05:49:08|1593668948      |\n",
      "|1593668948          |2020-07-02 05:49:08|1593668948      |\n",
      "|1593668948          |2020-07-02 05:49:08|1593668948      |\n",
      "+--------------------+-------------------+----------------+\n",
      "only showing top 10 rows\n",
      "\n"
     ]
    }
   ],
   "source": [
    "(yellow_taxi_data_ux\n",
    " .withColumn(\"back_to_unixtime\", f.unix_timestamp(f.col(\"from_unixtimestamp\")))\n",
    " .select(\"static_unixtimestamp\",\"from_unixtimestamp\",\"back_to_unixtime\")\n",
    " .show(10,False))"
   ]
  },
  {
   "cell_type": "markdown",
   "metadata": {
    "collapsed": false,
    "jupyter": {
     "outputs_hidden": false
    },
    "pycharm": {
     "name": "#%% md\n"
    }
   },
   "source": [
    "# Date format\n",
    "\n",
    "Uses SimpleDateFormat based on Java: https://docs.oracle.com/javase/8/docs/api/java/text/SimpleDateFormat.html"
   ]
  },
  {
   "cell_type": "code",
   "execution_count": 39,
   "metadata": {
    "collapsed": false,
    "jupyter": {
     "outputs_hidden": false
    },
    "pycharm": {
     "name": "#%%\n"
    }
   },
   "outputs": [
    {
     "name": "stdout",
     "output_type": "stream",
     "text": [
      "+-------------------+--------------+\n",
      "| from_unixtimestamp|formatted_date|\n",
      "+-------------------+--------------+\n",
      "|2020-07-02 05:49:08|    2020.07.02|\n",
      "|2020-07-02 05:49:08|    2020.07.02|\n",
      "|2020-07-02 05:49:08|    2020.07.02|\n",
      "|2020-07-02 05:49:08|    2020.07.02|\n",
      "|2020-07-02 05:49:08|    2020.07.02|\n",
      "|2020-07-02 05:49:08|    2020.07.02|\n",
      "|2020-07-02 05:49:08|    2020.07.02|\n",
      "|2020-07-02 05:49:08|    2020.07.02|\n",
      "|2020-07-02 05:49:08|    2020.07.02|\n",
      "|2020-07-02 05:49:08|    2020.07.02|\n",
      "|2020-07-02 05:49:08|    2020.07.02|\n",
      "|2020-07-02 05:49:08|    2020.07.02|\n",
      "|2020-07-02 05:49:08|    2020.07.02|\n",
      "|2020-07-02 05:49:08|    2020.07.02|\n",
      "|2020-07-02 05:49:08|    2020.07.02|\n",
      "|2020-07-02 05:49:08|    2020.07.02|\n",
      "|2020-07-02 05:49:08|    2020.07.02|\n",
      "|2020-07-02 05:49:08|    2020.07.02|\n",
      "|2020-07-02 05:49:08|    2020.07.02|\n",
      "|2020-07-02 05:49:08|    2020.07.02|\n",
      "+-------------------+--------------+\n",
      "only showing top 20 rows\n",
      "\n"
     ]
    }
   ],
   "source": [
    "yellow_taxi_data_ux.withColumn(\"formatted_date\", f.date_format(f.col(\"from_unixtimestamp\"), \"yyyy.MM.dd\")).select(\"from_unixtimestamp\", \"formatted_date\").show()\n",
    "\n"
   ]
  },
  {
   "cell_type": "code",
   "execution_count": null,
   "metadata": {
    "collapsed": false,
    "jupyter": {
     "outputs_hidden": false
    },
    "pycharm": {
     "name": "#%%\n"
    }
   },
   "outputs": [],
   "source": [
    "\n"
   ]
  }
 ],
 "metadata": {
  "kernelspec": {
   "display_name": "Python 3 (ipykernel)",
   "language": "python",
   "name": "python3"
  },
  "language_info": {
   "codemirror_mode": {
    "name": "ipython",
    "version": 3
   },
   "file_extension": ".py",
   "mimetype": "text/x-python",
   "name": "python",
   "nbconvert_exporter": "python",
   "pygments_lexer": "ipython3",
   "version": "3.9.18"
  }
 },
 "nbformat": 4,
 "nbformat_minor": 4
}
