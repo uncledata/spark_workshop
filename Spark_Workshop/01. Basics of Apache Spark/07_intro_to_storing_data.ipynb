{
 "cells": [
  {
   "cell_type": "markdown",
   "metadata": {
    "collapsed": true,
    "jupyter": {
     "outputs_hidden": true
    },
    "pycharm": {
     "name": "#%% md\n"
    }
   },
   "source": [
    "# Storing data with Spark\n",
    "Documentation on storing data with spark in general can be found:\n",
    " http://spark.apache.org/docs/latest/sql-data-sources-load-save-functions.html\n",
    "\n",
    "In Wix we use ParquetTableStorer wrapper."
   ]
  },
  {
   "cell_type": "code",
   "execution_count": 2,
   "metadata": {
    "collapsed": false,
    "jupyter": {
     "outputs_hidden": false
    },
    "pycharm": {
     "name": "#%%\n"
    }
   },
   "outputs": [
    {
     "name": "stderr",
     "output_type": "stream",
     "text": [
      "24/02/17 09:07:34 WARN SparkSession: Using an existing Spark session; only runtime SQL configurations will take effect.\n"
     ]
    }
   ],
   "source": [
    "import sys\n",
    "sys.path.append('/home/iceberg/notebooks/PyCon_LT_Workshop')\n",
    "\n",
    "from helpers.utils import get_spark_session, get_yellow_taxi_data, get_dim_data, ROOT_DIR\n",
    "from pyspark.sql import functions as f\n",
    "spark = get_spark_session(\"joins\")\n",
    "\n",
    "yellow_taxi_data = get_yellow_taxi_data(spark=spark)\n",
    "\n",
    "dim_taxi_zones, dim_rates, dim_payments, dim_vendor = get_dim_data(spark)"
   ]
  },
  {
   "cell_type": "markdown",
   "metadata": {
    "collapsed": false,
    "jupyter": {
     "outputs_hidden": false
    },
    "pycharm": {
     "name": "#%% md\n"
    }
   },
   "source": [
    "We have two options now:\n",
    "\n",
    "1. Overwrite the table completely\n",
    "2. Append information (use it only with partitioned data!) otherwise results might not be what you expect"
   ]
  },
  {
   "cell_type": "code",
   "execution_count": 3,
   "metadata": {
    "collapsed": false,
    "jupyter": {
     "outputs_hidden": false
    },
    "pycharm": {
     "name": "#%%\n"
    }
   },
   "outputs": [
    {
     "name": "stderr",
     "output_type": "stream",
     "text": [
      "                                                                                \r"
     ]
    }
   ],
   "source": [
    "yellow_taxi_data.write.mode('overwrite').parquet(ROOT_DIR + \"output/yellow_taxi.parquet\")"
   ]
  },
  {
   "cell_type": "code",
   "execution_count": 4,
   "metadata": {},
   "outputs": [
    {
     "name": "stderr",
     "output_type": "stream",
     "text": [
      "                                                                                \r"
     ]
    }
   ],
   "source": [
    "(yellow_taxi_data\n",
    " .filter(\"fare_amount>100\")\n",
    " .join(dim_vendor, yellow_taxi_data.VendorID == dim_vendor.vendor_id, \"full\")\n",
    " .write\n",
    " .mode('overwrite')\n",
    " .parquet(ROOT_DIR + \"output/yellow_taxi_filtered.parquet\"))"
   ]
  },
  {
   "cell_type": "code",
   "execution_count": null,
   "metadata": {},
   "outputs": [],
   "source": []
  }
 ],
 "metadata": {
  "kernelspec": {
   "display_name": "Python 3 (ipykernel)",
   "language": "python",
   "name": "python3"
  },
  "language_info": {
   "codemirror_mode": {
    "name": "ipython",
    "version": 3
   },
   "file_extension": ".py",
   "mimetype": "text/x-python",
   "name": "python",
   "nbconvert_exporter": "python",
   "pygments_lexer": "ipython3",
   "version": "3.9.18"
  }
 },
 "nbformat": 4,
 "nbformat_minor": 4
}
