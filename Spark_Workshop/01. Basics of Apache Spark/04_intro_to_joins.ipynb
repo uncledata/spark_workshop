{
 "cells": [
  {
   "cell_type": "markdown",
   "metadata": {},
   "source": [
    "# Generic Joins Syntax\n",
    "\n",
    "* df1.join(df2, \"df1Key\" ==\"df2Key\")\n",
    "* df1.join(df2).where(\"df1Key\" == \"df2Key\")\n",
    "* df1.join(df2).filter(\"df1Key\" == \"df2Key\")\n",
    "* df1.join(df2, \"df1Key\" == \"df2Key\", \"inner\")\n",
    "* df.join(df2,['msid'],'left')"
   ]
  },
  {
   "attachments": {},
   "cell_type": "markdown",
   "metadata": {},
   "source": [
    "# Join Types\n",
    "Source: https://jaceklaskowski.gitbooks.io/mastering-spark-sql/spark-sql-joins.html\n",
    "\n",
    "\n",
    "<table id=\"join-types\" class=\"tableblock frame-all grid-all spread\">\n",
    "<caption class=\"title\">Table 2. Join Types</caption>\n",
    "<colgroup>\n",
    "<col style=\"width: 33.3333%;\">\n",
    "<col style=\"width: 33.3333%;\">\n",
    "<col style=\"width: 33.3334%;\">\n",
    "</colgroup>\n",
    "<thead>\n",
    "<tr>\n",
    "<th class=\"tableblock halign-left valign-top\">SQL</th>\n",
    "<th class=\"tableblock halign-left valign-top\">Name (joinType)</th>\n",
    "<th class=\"tableblock halign-left valign-top\">JoinType</th>\n",
    "</tr>\n",
    "</thead>\n",
    "<tbody>\n",
    "<tr>\n",
    "<td class=\"tableblock halign-left valign-top\"><p class=\"tableblock\"><a id=\"CROSS\"></a> <code>CROSS</code></p></td>\n",
    "<td class=\"tableblock halign-left valign-top\"><p class=\"tableblock\"><a id=\"cross\"></a> <code>cross</code></p></td>\n",
    "<td class=\"tableblock halign-left valign-top\"><p class=\"tableblock\"><a id=\"Cross\"></a> <code>Cross</code></p></td>\n",
    "</tr>\n",
    "<tr>\n",
    "<td class=\"tableblock halign-left valign-top\"><p class=\"tableblock\"><a id=\"INNER\"></a> <code>INNER</code></p></td>\n",
    "<td class=\"tableblock halign-left valign-top\"><p class=\"tableblock\"><a id=\"inner\"></a> <code>inner</code></p></td>\n",
    "<td class=\"tableblock halign-left valign-top\"><p class=\"tableblock\"><a id=\"Inner\"></a> <code>Inner</code></p></td>\n",
    "</tr>\n",
    "<tr>\n",
    "<td class=\"tableblock halign-left valign-top\"><p class=\"tableblock\"><a id=\"FullOuter\"></a><a id=\"FULL_OUTER\"></a> <code>FULL OUTER</code></p></td>\n",
    "<td class=\"tableblock halign-left valign-top\"><p class=\"tableblock\"><code>outer</code>, <code>full</code>, <code>fullouter</code></p></td>\n",
    "<td class=\"tableblock halign-left valign-top\"><p class=\"tableblock\"><code>FullOuter</code></p></td>\n",
    "</tr>\n",
    "<tr>\n",
    "<td class=\"tableblock halign-left valign-top\"><p class=\"tableblock\"><a id=\"LEFT_ANTI\"></a> <code>LEFT ANTI</code></p></td>\n",
    "<td class=\"tableblock halign-left valign-top\"><p class=\"tableblock\"><code>leftanti</code></p></td>\n",
    "<td class=\"tableblock halign-left valign-top\"><p class=\"tableblock\"><a id=\"LeftAnti\"></a> <code>LeftAnti</code></p></td>\n",
    "</tr>\n",
    "<tr>\n",
    "<td class=\"tableblock halign-left valign-top\"><p class=\"tableblock\"><a id=\"LEFT_OUTER\"></a> <code>LEFT OUTER</code></p></td>\n",
    "<td class=\"tableblock halign-left valign-top\"><p class=\"tableblock\"><code>leftouter</code>, <code>left</code></p></td>\n",
    "<td class=\"tableblock halign-left valign-top\"><p class=\"tableblock\"><a id=\"LeftOuter\"></a> <code>LeftOuter</code></p></td>\n",
    "</tr>\n",
    "<tr>\n",
    "<td class=\"tableblock halign-left valign-top\"><p class=\"tableblock\"><a id=\"LEFT_SEMI\"></a> <code>LEFT SEMI</code></p></td>\n",
    "<td class=\"tableblock halign-left valign-top\"><p class=\"tableblock\"><code>leftsemi</code></p></td>\n",
    "<td class=\"tableblock halign-left valign-top\"><p class=\"tableblock\"><a id=\"LeftSemi\"></a> <code>LeftSemi</code></p></td>\n",
    "</tr>\n",
    "<tr>\n",
    "<td class=\"tableblock halign-left valign-top\"><p class=\"tableblock\"><a id=\"RIGHT_OUTER\"></a> <code>RIGHT OUTER</code></p></td>\n",
    "<td class=\"tableblock halign-left valign-top\"><p class=\"tableblock\"><code>rightouter</code>, <code>right</code></p></td>\n",
    "<td class=\"tableblock halign-left valign-top\"><p class=\"tableblock\"><a id=\"RightOuter\"></a> <code>RightOuter</code></p></td>\n",
    "</tr>\n",
    "<tr>\n",
    "<td class=\"tableblock halign-left valign-top\"><p class=\"tableblock\"><a id=\"NATURAL\"></a> <code>NATURAL</code></p></td>\n",
    "<td class=\"tableblock halign-left valign-top\"><p class=\"tableblock\">Special case for <code>Inner</code>, <code>LeftOuter</code>, <code>RightOuter</code>, <code>FullOuter</code></p></td>\n",
    "<td class=\"tableblock halign-left valign-top\"><p class=\"tableblock\"><code>NaturalJoin</code></p></td>\n",
    "</tr>\n",
    "<tr>\n",
    "<td class=\"tableblock halign-left valign-top\"><p class=\"tableblock\"><a id=\"using\"></a><a id=\"USING\"></a> <code>USING</code></p></td>\n",
    "<td class=\"tableblock halign-left valign-top\"><p class=\"tableblock\">Special case for <code>Inner</code>, <code>LeftOuter</code>, <code>LeftSemi</code>, <code>RightOuter</code>, <code>FullOuter</code>, <code>LeftAnti</code></p></td>\n",
    "<td class=\"tableblock halign-left valign-top\"><p class=\"tableblock\"><a id=\"UsingJoin\"></a> <code>UsingJoin</code></p></td>\n",
    "</tr>\n",
    "</tbody>\n",
    "</table>\n",
    "<div id=\"ExistenceJoin\" class=\"paragraph\">\n",
    "<p><code>ExistenceJoin</code> is an artifical join type used to express an existential sub-query, that is often referred to as <strong>existential join</strong>.</p>\n",
    "</div>\n",
    "<div class=\"admonitionblock note\">\n",
    "<table>\n",
    "<tr>\n",
    "<td class=\"icon\">\n",
    "<div class=\"title\">Note</div>\n",
    "</td>\n",
    "<td class=\"content\">\n",
    "<a href=\"#LeftAnti\">LeftAnti</a> and <a href=\"#ExistenceJoin\">ExistenceJoin</a> are special cases of <a href=\"#LeftOuter\">LeftOuter</a>.\n",
    "</td>\n",
    "</tr>\n",
    "</table>\n",
    "</div>\n",
    "<div class=\"paragraph\">\n",
    "<p>You can also find that Spark SQL uses the following two families of joins:</p>\n",
    "</div>\n",
    "<div class=\"ulist\">\n",
    "<ul>\n",
    "<li>\n",
    "<p><a id=\"InnerLike\"></a> <code>InnerLike</code> with <a href=\"#Inner\">Inner</a> and <a href=\"#Cross\">Cross</a></p>\n",
    "</li>\n",
    "<li>\n",
    "<p><a id=\"LeftExistence\"></a> <code>LeftExistence</code> with <a href=\"#LeftSemi\">LeftSemi</a>, <a href=\"#LeftAnti\">LeftAnti</a> and <a href=\"#ExistenceJoin\">ExistenceJoin</a></p>\n",
    "</li>\n",
    "</ul>\n",
    "</div>\n",
    "<div class=\"admonitionblock tip\">\n",
    "<table>\n",
    "<tr>\n",
    "<td class=\"icon\">\n",
    "<div class=\"title\">Tip</div>\n",
    "</td>\n",
    "<td class=\"content\">\n",
    "Name are case-insensitive and can use the underscore (<code>_</code>) at any position, i.e. <code>left_anti</code> and <code>LEFT_ANTI</code> are equivalent.\n",
    "</td>\n",
    "</tr>\n",
    "</table>\n",
    "</div>\n",
    "<div class=\"admonitionblock note\">\n",
    "<table>\n",
    "<tr>\n",
    "<td class=\"icon\">\n",
    "<div class=\"title\">Note</div>\n",
    "</td>\n",
    "<td class=\"content\">\n",
    "Spark SQL offers different <a href=\"spark-sql-SparkStrategy-JoinSelection.html#join-selection-requirements\">join strategies</a> with <a href=\"spark-sql-joins-broadcast.html\">Broadcast Joins (aka Map-Side Joins)</a> among them that are supposed to optimize your join queries over large distributed datasets.\n",
    "</td>\n",
    "</tr>\n",
    "</table>"
   ]
  },
  {
   "cell_type": "code",
   "execution_count": 2,
   "metadata": {
    "collapsed": false,
    "jupyter": {
     "outputs_hidden": false
    },
    "pycharm": {
     "name": "#%%\n"
    }
   },
   "outputs": [],
   "source": [
    "import sys\n",
    "sys.path.append('/home/iceberg/notebooks/PyCon_LT_Workshop')\n",
    "\n",
    "from helpers.utils import get_spark_session, get_yellow_taxi_data, get_dim_data\n",
    "from pyspark.sql import functions as f\n",
    "spark = get_spark_session(\"joins\")\n",
    "\n",
    "yellow_taxi_data = get_yellow_taxi_data(spark=spark)\n",
    "\n",
    "dim_taxi_zones, dim_rates, dim_payments, dim_vendor = get_dim_data(spark)\n",
    "\n"
   ]
  },
  {
   "cell_type": "code",
   "execution_count": 3,
   "metadata": {},
   "outputs": [
    {
     "data": {
      "text/plain": [
       "(['VendorID',\n",
       "  'tpep_pickup_datetime',\n",
       "  'tpep_dropoff_datetime',\n",
       "  'passenger_count',\n",
       "  'trip_distance',\n",
       "  'RatecodeID',\n",
       "  'store_and_fwd_flag',\n",
       "  'PULocationID',\n",
       "  'DOLocationID',\n",
       "  'payment_type',\n",
       "  'fare_amount',\n",
       "  'extra',\n",
       "  'mta_tax',\n",
       "  'tip_amount',\n",
       "  'tolls_amount',\n",
       "  'improvement_surcharge',\n",
       "  'total_amount',\n",
       "  'congestion_surcharge',\n",
       "  'airport_fee'],\n",
       " ['vendor_id', 'vendor_name'])"
      ]
     },
     "execution_count": 3,
     "metadata": {},
     "output_type": "execute_result"
    }
   ],
   "source": [
    "yellow_taxi_data.columns, dim_vendor.columns"
   ]
  },
  {
   "cell_type": "code",
   "execution_count": 4,
   "metadata": {},
   "outputs": [],
   "source": [
    "joined = yellow_taxi_data.filter(\"fare_amount>100\").join(dim_vendor, yellow_taxi_data.VendorID == dim_vendor.vendor_id, \"full\")"
   ]
  },
  {
   "cell_type": "code",
   "execution_count": 5,
   "metadata": {},
   "outputs": [
    {
     "data": {
      "text/plain": [
       "[Row(VendorID=2, vendor_name='VeriFone Inc.'),\n",
       " Row(VendorID=1, vendor_name='Creative Mobile Technologies'),\n",
       " Row(VendorID=6, vendor_name=None)]"
      ]
     },
     "execution_count": 5,
     "metadata": {},
     "output_type": "execute_result"
    }
   ],
   "source": [
    "joined.select(\"VendorID\", \"vendor_name\").distinct().head(5)"
   ]
  },
  {
   "cell_type": "code",
   "execution_count": null,
   "metadata": {},
   "outputs": [],
   "source": []
  }
 ],
 "metadata": {
  "kernelspec": {
   "display_name": "Python 3 (ipykernel)",
   "language": "python",
   "name": "python3"
  },
  "language_info": {
   "codemirror_mode": {
    "name": "ipython",
    "version": 3
   },
   "file_extension": ".py",
   "mimetype": "text/x-python",
   "name": "python",
   "nbconvert_exporter": "python",
   "pygments_lexer": "ipython3",
   "version": "3.9.18"
  }
 },
 "nbformat": 4,
 "nbformat_minor": 4
}
