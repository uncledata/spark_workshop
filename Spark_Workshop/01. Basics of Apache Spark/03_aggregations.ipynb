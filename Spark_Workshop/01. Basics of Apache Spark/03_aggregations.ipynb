{
 "cells": [
  {
   "cell_type": "code",
   "execution_count": 4,
   "metadata": {},
   "outputs": [],
   "source": [
    "import sys\n",
    "sys.path.append('/home/iceberg/notebooks/PyCon_LT_Workshop')\n",
    "\n",
    "from helpers.utils import get_spark_session, get_yellow_taxi_data\n",
    "from pyspark.sql import functions as f\n",
    "spark = get_spark_session(\"functions\")\n",
    "\n",
    "yellow_taxi_data = get_yellow_taxi_data(spark=spark)"
   ]
  },
  {
   "cell_type": "code",
   "execution_count": 9,
   "metadata": {
    "collapsed": false,
    "jupyter": {
     "outputs_hidden": false
    },
    "pycharm": {
     "name": "#%%\n"
    }
   },
   "outputs": [
    {
     "name": "stdout",
     "output_type": "stream",
     "text": [
      "+--------+-------------+-------------------+\n",
      "|VendorID|sum(VendorID)|   sum(fare_amount)|\n",
      "+--------+-------------+-------------------+\n",
      "|       6|       122580|   857802.260000061|\n",
      "|       5|          370| 4043.6399999999994|\n",
      "|       1|      2699503|3.577623674999184E7|\n",
      "|       2|     12702474|8.493404650997013E7|\n",
      "+--------+-------------+-------------------+\n",
      "\n"
     ]
    }
   ],
   "source": [
    "(yellow_taxi_data.select(\"VendorID\",\"fare_amount\",\"tpep_pickup_datetime\").groupBy(f.col(\"VendorID\"))\n",
    " .sum()\n",
    " .show())"
   ]
  },
  {
   "cell_type": "code",
   "execution_count": 11,
   "metadata": {
    "collapsed": false,
    "jupyter": {
     "outputs_hidden": false
    },
    "pycharm": {
     "name": "#%%\n"
    }
   },
   "outputs": [
    {
     "name": "stdout",
     "output_type": "stream",
     "text": [
      "+--------+-------+\n",
      "|VendorID|  count|\n",
      "+--------+-------+\n",
      "|       6|  20430|\n",
      "|       5|     74|\n",
      "|       1|2699503|\n",
      "|       2|6351237|\n",
      "+--------+-------+\n",
      "\n"
     ]
    }
   ],
   "source": [
    "yellow_taxi_data.select(\"VendorID\",\"fare_amount\",\"tpep_pickup_datetime\").groupBy(f.col(\"VendorID\"))\\\n",
    "    .count()\\\n",
    "    .show()"
   ]
  },
  {
   "cell_type": "code",
   "execution_count": 13,
   "metadata": {
    "collapsed": false,
    "jupyter": {
     "outputs_hidden": false
    },
    "pycharm": {
     "name": "#%%\n"
    }
   },
   "outputs": [
    {
     "name": "stdout",
     "output_type": "stream",
     "text": [
      "+--------+-------------+------------------+\n",
      "|VendorID|avg(VendorID)|  avg(fare_amount)|\n",
      "+--------+-------------+------------------+\n",
      "|       6|          6.0|  41.9873842388674|\n",
      "|       5|          5.0|54.643783783783775|\n",
      "|       1|          1.0|13.252897570401604|\n",
      "|       2|          2.0|13.372835324830444|\n",
      "+--------+-------------+------------------+\n",
      "\n"
     ]
    }
   ],
   "source": [
    "# avg = mean\n",
    "yellow_taxi_data.select(\"VendorID\",\"fare_amount\",\"tpep_pickup_datetime\").groupBy(f.col(\"VendorID\"))\\\n",
    "    .avg()\\\n",
    "    .show()"
   ]
  },
  {
   "cell_type": "code",
   "execution_count": 14,
   "metadata": {
    "collapsed": false,
    "jupyter": {
     "outputs_hidden": false
    },
    "pycharm": {
     "name": "#%%\n"
    }
   },
   "outputs": [
    {
     "name": "stdout",
     "output_type": "stream",
     "text": [
      "+--------+-------------+----------------+\n",
      "|VendorID|min(VendorID)|min(fare_amount)|\n",
      "+--------+-------------+----------------+\n",
      "|       6|            6|           -0.79|\n",
      "|       5|            5|           10.78|\n",
      "|       1|            1|            -0.8|\n",
      "|       2|            2|          -895.0|\n",
      "+--------+-------------+----------------+\n",
      "\n"
     ]
    }
   ],
   "source": [
    "yellow_taxi_data.select(\"VendorID\",\"fare_amount\",\"tpep_pickup_datetime\").groupBy(f.col(\"VendorID\"))\\\n",
    "    .min()\\\n",
    "    .show()"
   ]
  },
  {
   "cell_type": "code",
   "execution_count": 15,
   "metadata": {
    "collapsed": false,
    "jupyter": {
     "outputs_hidden": false
    },
    "pycharm": {
     "name": "#%%\n"
    }
   },
   "outputs": [
    {
     "name": "stdout",
     "output_type": "stream",
     "text": [
      "+--------+-------------+----------------+\n",
      "|VendorID|max(VendorID)|max(fare_amount)|\n",
      "+--------+-------------+----------------+\n",
      "|       6|            6|           137.2|\n",
      "|       5|            5|           91.62|\n",
      "|       1|            1|       401092.32|\n",
      "|       2|            2|          1777.0|\n",
      "+--------+-------------+----------------+\n",
      "\n"
     ]
    }
   ],
   "source": [
    "yellow_taxi_data.select(\"VendorID\",\"fare_amount\",\"tpep_pickup_datetime\").groupBy(f.col(\"VendorID\"))\\\n",
    "    .max()\\\n",
    "    .show()"
   ]
  },
  {
   "cell_type": "code",
   "execution_count": 16,
   "metadata": {
    "collapsed": false,
    "jupyter": {
     "outputs_hidden": false
    },
    "pycharm": {
     "name": "#%%\n"
    }
   },
   "outputs": [
    {
     "name": "stdout",
     "output_type": "stream",
     "text": [
      "+--------+-------------+------------------+\n",
      "|VendorID|avg(VendorID)|       fare_amount|\n",
      "+--------+-------------+------------------+\n",
      "|       6|          6.0|  41.9873842388674|\n",
      "|       5|          5.0|54.643783783783775|\n",
      "|       1|          1.0|13.252897570401604|\n",
      "|       2|          2.0|13.372835324830444|\n",
      "+--------+-------------+------------------+\n",
      "\n"
     ]
    }
   ],
   "source": [
    "yellow_taxi_data.select(\"VendorID\",\"fare_amount\",\"tpep_pickup_datetime\").groupBy(f.col(\"VendorID\"))\\\n",
    "    .avg()\\\n",
    "    .withColumnRenamed(\"avg(fare_amount)\",\"fare_amount\")\\\n",
    "    .show()"
   ]
  },
  {
   "cell_type": "code",
   "execution_count": 18,
   "metadata": {
    "collapsed": false,
    "jupyter": {
     "outputs_hidden": false
    },
    "pycharm": {
     "name": "#%%\n"
    }
   },
   "outputs": [
    {
     "name": "stdout",
     "output_type": "stream",
     "text": [
      "+--------+----------------+----------------+------------------+-------------------+\n",
      "|VendorID|min(fare_amount)|max(fare_amount)|  avg(fare_amount)|   sum(fare_amount)|\n",
      "+--------+----------------+----------------+------------------+-------------------+\n",
      "|       6|           -0.79|           137.2|  41.9873842388674|   857802.260000061|\n",
      "|       5|           10.78|           91.62|54.643783783783775| 4043.6399999999994|\n",
      "|       1|            -0.8|       401092.32|13.252897570401604|3.577623674999184E7|\n",
      "|       2|          -895.0|          1777.0|13.372835324830444|8.493404650997013E7|\n",
      "+--------+----------------+----------------+------------------+-------------------+\n",
      "\n"
     ]
    }
   ],
   "source": [
    "yellow_taxi_data.select(\"VendorID\",\"fare_amount\",\"tpep_pickup_datetime\").groupBy(f.col(\"VendorID\"))\\\n",
    "    .agg(f.min(yellow_taxi_data.fare_amount),\n",
    "         f.max(yellow_taxi_data.fare_amount),\n",
    "         f.avg(yellow_taxi_data.fare_amount),\n",
    "         f.sum(yellow_taxi_data.fare_amount))\\\n",
    "    .show()"
   ]
  }
 ],
 "metadata": {
  "kernelspec": {
   "display_name": "Python 3 (ipykernel)",
   "language": "python",
   "name": "python3"
  },
  "language_info": {
   "codemirror_mode": {
    "name": "ipython",
    "version": 3
   },
   "file_extension": ".py",
   "mimetype": "text/x-python",
   "name": "python",
   "nbconvert_exporter": "python",
   "pygments_lexer": "ipython3",
   "version": "3.9.18"
  }
 },
 "nbformat": 4,
 "nbformat_minor": 4
}
