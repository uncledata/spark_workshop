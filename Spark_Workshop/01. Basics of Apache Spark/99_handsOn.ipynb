{
 "cells": [
  {
   "cell_type": "markdown",
   "metadata": {},
   "source": [
    "# Hands On Task\n",
    "\n",
    "1. Create Spark Session on your own\n",
    "2. Read Parquet file of Yellow Taxi Zones and all of the CSV Files\n",
    "3. Create an OBT of this data model and write to daily partitions"
   ]
  },
  {
   "cell_type": "markdown",
   "metadata": {},
   "source": []
  }
 ],
 "metadata": {
  "language_info": {
   "name": "python"
  },
  "orig_nbformat": 4
 },
 "nbformat": 4,
 "nbformat_minor": 2
}
