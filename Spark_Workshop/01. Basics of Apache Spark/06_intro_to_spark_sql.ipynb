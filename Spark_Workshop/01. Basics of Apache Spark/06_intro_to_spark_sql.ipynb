{
 "cells": [
  {
   "cell_type": "markdown",
   "metadata": {
    "collapsed": false,
    "jupyter": {
     "outputs_hidden": false
    }
   },
   "source": [
    "# Spark SQL\n",
    "\n",
    "Useful functionality where you can use SQL expressions on your tables.\n",
    "\n",
    "```python\n",
    "df1.createOrReplaceTempView(\"some_dataframe\")\n",
    "sqlDF = spark.sql(\"SELECT * FROM some_dataframe\")\n",
    "\n",
    "```"
   ]
  },
  {
   "cell_type": "code",
   "execution_count": 2,
   "metadata": {
    "collapsed": false,
    "jupyter": {
     "outputs_hidden": false
    },
    "pycharm": {
     "name": "#%%\n"
    }
   },
   "outputs": [
    {
     "name": "stderr",
     "output_type": "stream",
     "text": [
      "24/02/17 08:59:42 WARN SparkSession: Using an existing Spark session; only runtime SQL configurations will take effect.\n"
     ]
    }
   ],
   "source": [
    "import sys\n",
    "sys.path.append('/home/iceberg/notebooks/PyCon_LT_Workshop')\n",
    "\n",
    "from helpers.utils import get_spark_session, get_yellow_taxi_data, get_dim_data\n",
    "from pyspark.sql import functions as f\n",
    "spark = get_spark_session(\"joins\")\n",
    "\n",
    "yellow_taxi_data = get_yellow_taxi_data(spark=spark)\n",
    "\n",
    "dim_taxi_zones, dim_rates, dim_payments, dim_vendor = get_dim_data(spark)\n",
    "\n"
   ]
  },
  {
   "cell_type": "code",
   "execution_count": 9,
   "metadata": {
    "collapsed": false,
    "jupyter": {
     "outputs_hidden": false
    },
    "pycharm": {
     "name": "#%%\n"
    }
   },
   "outputs": [],
   "source": [
    "yellow_taxi_data.createOrReplaceTempView(\"yellow_taxi\")\n",
    "dim_vendor.createOrReplaceTempView(\"dim_vendor\")"
   ]
  },
  {
   "cell_type": "code",
   "execution_count": 4,
   "metadata": {
    "collapsed": false,
    "jupyter": {
     "outputs_hidden": false
    },
    "pycharm": {
     "name": "#%%\n"
    }
   },
   "outputs": [
    {
     "data": {
      "text/plain": [
       "Row(count(1)=5443362)"
      ]
     },
     "execution_count": 4,
     "metadata": {},
     "output_type": "execute_result"
    }
   ],
   "source": [
    "spark.sql(\"SELECT count(1) FROM yellow_taxi\").head()"
   ]
  },
  {
   "cell_type": "code",
   "execution_count": 10,
   "metadata": {},
   "outputs": [],
   "source": [
    "joined = spark.sql(\"select VendorID, vendor_name from yellow_taxi join dim_vendor on yellow_taxi.VendorID = dim_vendor.vendor_id\")\n"
   ]
  },
  {
   "cell_type": "code",
   "execution_count": 11,
   "metadata": {
    "collapsed": false,
    "jupyter": {
     "outputs_hidden": false
    },
    "pycharm": {
     "name": "#%%\n"
    }
   },
   "outputs": [],
   "source": [
    "from pyspark.sql.types import IntegerType\n",
    "from pyspark.sql.functions import udf, col\n",
    "\n",
    "\n",
    "@udf(returnType=IntegerType())\n",
    "def vendor_name_length(name):\n",
    "    return len(name) if name else 0"
   ]
  },
  {
   "cell_type": "code",
   "execution_count": 19,
   "metadata": {
    "collapsed": false,
    "jupyter": {
     "outputs_hidden": false
    },
    "pycharm": {
     "name": "#%%\n"
    }
   },
   "outputs": [
    {
     "name": "stderr",
     "output_type": "stream",
     "text": [
      "24/02/17 09:03:18 WARN SimpleFunctionRegistry: The function vendor_name_length replaced a previously registered function.\n"
     ]
    }
   ],
   "source": [
    "spark.udf.register(\"vendor_name_length\", vendor_name_length)\n",
    "joined.createOrReplaceTempView(\"joined\")"
   ]
  },
  {
   "cell_type": "code",
   "execution_count": 21,
   "metadata": {
    "collapsed": false,
    "jupyter": {
     "outputs_hidden": false
    },
    "pycharm": {
     "name": "#%%\n"
    }
   },
   "outputs": [
    {
     "name": "stdout",
     "output_type": "stream",
     "text": [
      "+--------+--------------------+-------------------------------+\n",
      "|VendorID|         vendor_name|vendor_name_length(vendor_name)|\n",
      "+--------+--------------------+-------------------------------+\n",
      "|       1|Creative Mobile T...|                             28|\n",
      "|       1|Creative Mobile T...|                             28|\n",
      "|       2|       VeriFone Inc.|                             13|\n",
      "|       2|       VeriFone Inc.|                             13|\n",
      "|       2|       VeriFone Inc.|                             13|\n",
      "|       1|Creative Mobile T...|                             28|\n",
      "|       2|       VeriFone Inc.|                             13|\n",
      "|       2|       VeriFone Inc.|                             13|\n",
      "|       2|       VeriFone Inc.|                             13|\n",
      "|       2|       VeriFone Inc.|                             13|\n",
      "|       2|       VeriFone Inc.|                             13|\n",
      "|       2|       VeriFone Inc.|                             13|\n",
      "|       2|       VeriFone Inc.|                             13|\n",
      "|       2|       VeriFone Inc.|                             13|\n",
      "|       2|       VeriFone Inc.|                             13|\n",
      "|       2|       VeriFone Inc.|                             13|\n",
      "|       1|Creative Mobile T...|                             28|\n",
      "|       1|Creative Mobile T...|                             28|\n",
      "|       1|Creative Mobile T...|                             28|\n",
      "|       1|Creative Mobile T...|                             28|\n",
      "+--------+--------------------+-------------------------------+\n",
      "only showing top 20 rows\n",
      "\n"
     ]
    }
   ],
   "source": [
    "spark.sql(\"SELECT VendorID,vendor_name, vendor_name_length(vendor_name) FROM joined\").show()"
   ]
  }
 ],
 "metadata": {
  "kernelspec": {
   "display_name": "Python 3 (ipykernel)",
   "language": "python",
   "name": "python3"
  },
  "language_info": {
   "codemirror_mode": {
    "name": "ipython",
    "version": 3
   },
   "file_extension": ".py",
   "mimetype": "text/x-python",
   "name": "python",
   "nbconvert_exporter": "python",
   "pygments_lexer": "ipython3",
   "version": "3.9.18"
  }
 },
 "nbformat": 4,
 "nbformat_minor": 4
}
