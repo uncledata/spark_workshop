{
 "cells": [
  {
   "cell_type": "markdown",
   "id": "1041ae6f",
   "metadata": {},
   "source": [
    "![iceberg-logo](https://www.apache.org/logos/res/iceberg/iceberg.png)"
   ]
  },
  {
   "cell_type": "code",
   "execution_count": null,
   "id": "6a5c8206",
   "metadata": {},
   "outputs": [],
   "source": [
    "from pyspark.sql import SparkSession\n",
    "spark = SparkSession.builder.appName(\"Jupyter\").getOrCreate()\n",
    "\n",
    "spark"
   ]
  },
  {
   "cell_type": "markdown",
   "id": "6f9a9f41",
   "metadata": {},
   "source": [
    "## Load Two Months of NYC Taxi/Limousine Trip Data\n",
    "\n",
    "For this notebook, we will use the New York City Taxi and Limousine Commision Trip Record Data that's available on the AWS Open Data Registry. This contains data of trips taken by taxis and for-hire vehicles in New York City. We'll save this into an iceberg table called `taxis`."
   ]
  },
  {
   "cell_type": "markdown",
   "id": "747bee98",
   "metadata": {},
   "source": [
    "To be able to rerun the notebook several times, let's drop the table if it exists to start fresh."
   ]
  },
  {
   "cell_type": "code",
   "execution_count": null,
   "id": "930682ce",
   "metadata": {},
   "outputs": [],
   "source": [
    "%%sql\n",
    "\n",
    "CREATE DATABASE IF NOT EXISTS nyc.taxis;"
   ]
  },
  {
   "cell_type": "markdown",
   "id": "5816de2e",
   "metadata": {},
   "source": [
    "## First create the table"
   ]
  },
  {
   "cell_type": "code",
   "execution_count": null,
   "id": "22ac5552",
   "metadata": {},
   "outputs": [],
   "source": [
    "%%sql\n",
    "\n",
    "DROP TABLE IF EXISTS nyc.taxis;"
   ]
  },
  {
   "cell_type": "code",
   "execution_count": null,
   "id": "f918310a",
   "metadata": {},
   "outputs": [],
   "source": [
    "%%sql\n",
    "\n",
    "CREATE TABLE nyc.taxis (\n",
    "    VendorID              bigint,\n",
    "    tpep_pickup_datetime  timestamp,\n",
    "    tpep_dropoff_datetime timestamp,\n",
    "    passenger_count       double,\n",
    "    trip_distance         double,\n",
    "    RatecodeID            double,\n",
    "    store_and_fwd_flag    string,\n",
    "    PULocationID          bigint,\n",
    "    DOLocationID          bigint,\n",
    "    payment_type          bigint,\n",
    "    fare_amount           double,\n",
    "    extra                 double,\n",
    "    mta_tax               double,\n",
    "    tip_amount            double,\n",
    "    tolls_amount          double,\n",
    "    improvement_surcharge double,\n",
    "    total_amount          double,\n",
    "    congestion_surcharge  double,\n",
    "    airport_fee           double\n",
    ")\n",
    "USING iceberg\n",
    "PARTITIONED BY (days(tpep_pickup_datetime))"
   ]
  },
  {
   "cell_type": "markdown",
   "id": "fcba103e",
   "metadata": {},
   "source": [
    "# Write a month of data"
   ]
  },
  {
   "cell_type": "code",
   "execution_count": null,
   "id": "1c37ca92",
   "metadata": {},
   "outputs": [],
   "source": [
    "df = spark.read.parquet(\"/home/iceberg/data/yellow_tripdata_2022-01.parquet\")\n",
    "df.writeTo(\"nyc.taxis\").append()"
   ]
  },
  {
   "cell_type": "code",
   "execution_count": null,
   "id": "a69152aa",
   "metadata": {},
   "outputs": [],
   "source": [
    "%%sql\n",
    "\n",
    "SELECT *\n",
    "FROM nyc.taxis"
   ]
  },
  {
   "cell_type": "markdown",
   "id": "6fce6bb4",
   "metadata": {},
   "source": [
    "## Metadata Tables\n",
    "\n",
    "Iceberg tables contain very rich metadata that can be easily queried. For example, you can retrieve the manifest list for any snapshot, simply by querying the table's `snapshots` table."
   ]
  },
  {
   "cell_type": "code",
   "execution_count": null,
   "id": "8fade1a3",
   "metadata": {},
   "outputs": [],
   "source": [
    "%%sql\n",
    "\n",
    "SELECT *\n",
    "FROM nyc.taxis.snapshots"
   ]
  },
  {
   "cell_type": "markdown",
   "id": "4aa4a9cd",
   "metadata": {},
   "source": [
    "# Write a month of data"
   ]
  },
  {
   "cell_type": "code",
   "execution_count": null,
   "id": "ed7a7b8f",
   "metadata": {},
   "outputs": [],
   "source": [
    "df = spark.read.parquet(\"/home/iceberg/data/yellow_tripdata_2022-02.parquet\")\n",
    "df.writeTo(\"nyc.taxis\").append()"
   ]
  },
  {
   "cell_type": "code",
   "execution_count": null,
   "id": "fbfb160c",
   "metadata": {},
   "outputs": [],
   "source": [
    "%%sql\n",
    "\n",
    "SELECT *\n",
    "FROM nyc.taxis.snapshots\n",
    "ORDER BY committed_at DESC"
   ]
  },
  {
   "cell_type": "markdown",
   "id": "65deb074",
   "metadata": {},
   "source": [
    "## Manifest lists\n",
    "\n",
    "Now we'll list all the manifests. This is the abovemention `manifest_list` of the current snapshot."
   ]
  },
  {
   "cell_type": "code",
   "execution_count": null,
   "id": "bab64f90",
   "metadata": {},
   "outputs": [],
   "source": [
    "%%sql\n",
    "\n",
    "SELECT *\n",
    "FROM nyc.taxis.manifests"
   ]
  },
  {
   "cell_type": "markdown",
   "id": "b11e64c9",
   "metadata": {},
   "source": [
    "# Manifests\n",
    "\n",
    "The next layer is the manifests that has references to the Parquet files."
   ]
  },
  {
   "cell_type": "code",
   "execution_count": null,
   "id": "1c4a942c",
   "metadata": {},
   "outputs": [],
   "source": [
    "%%sql\n",
    "\n",
    "SELECT *\n",
    "FROM nyc.taxis.files"
   ]
  },
  {
   "cell_type": "markdown",
   "id": "31567e4e",
   "metadata": {},
   "source": [
    "# Flexibility of partitioning\n",
    "\n",
    "We can easily change the partitioning of the table"
   ]
  },
  {
   "cell_type": "code",
   "execution_count": null,
   "id": "156885c7",
   "metadata": {},
   "outputs": [],
   "source": [
    "%%sql\n",
    "\n",
    "SELECT * FROM nyc.taxis.partitions"
   ]
  },
  {
   "cell_type": "code",
   "execution_count": null,
   "id": "184604d9",
   "metadata": {},
   "outputs": [],
   "source": [
    "%%sql\n",
    "\n",
    "ALTER TABLE nyc.taxis DROP PARTITION FIELD days(tpep_pickup_datetime)"
   ]
  },
  {
   "cell_type": "code",
   "execution_count": null,
   "id": "c26dddb5",
   "metadata": {},
   "outputs": [],
   "source": [
    "%%sql\n",
    "\n",
    "ALTER TABLE nyc.taxis ADD PARTITION FIELD hours(tpep_pickup_datetime)"
   ]
  },
  {
   "cell_type": "code",
   "execution_count": null,
   "id": "42ec7b70",
   "metadata": {},
   "outputs": [],
   "source": [
    "%%sql\n",
    "\n",
    "SELECT * FROM nyc.taxis.partitions"
   ]
  },
  {
   "cell_type": "code",
   "execution_count": null,
   "id": "6d5dea98",
   "metadata": {},
   "outputs": [],
   "source": [
    "%%sql\n",
    "\n",
    "CALL system.rewrite_data_files('nyc.taxis')"
   ]
  },
  {
   "cell_type": "code",
   "execution_count": null,
   "id": "5fdf3a22",
   "metadata": {},
   "outputs": [],
   "source": [
    "%%sql\n",
    "\n",
    "SELECT *\n",
    "FROM nyc.taxis.files"
   ]
  },
  {
   "cell_type": "code",
   "execution_count": null,
   "id": "40447a02",
   "metadata": {},
   "outputs": [],
   "source": [
    "%%sql\n",
    "\n",
    "SELECT *\n",
    "FROM nyc.taxis.snapshots\n",
    "ORDER BY committed_at DESC"
   ]
  }
 ],
 "metadata": {
  "kernelspec": {
   "display_name": "Python 3 (ipykernel)",
   "language": "python",
   "name": "python3"
  },
  "language_info": {
   "codemirror_mode": {
    "name": "ipython",
    "version": 3
   },
   "file_extension": ".py",
   "mimetype": "text/x-python",
   "name": "python",
   "nbconvert_exporter": "python",
   "pygments_lexer": "ipython3",
   "version": "3.9.17"
  }
 },
 "nbformat": 4,
 "nbformat_minor": 5
}
